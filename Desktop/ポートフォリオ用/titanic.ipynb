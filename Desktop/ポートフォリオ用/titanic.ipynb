{
 "cells": [
  {
   "cell_type": "markdown",
   "id": "79a34645-8c62-4f9d-a366-b7a9a32a1b53",
   "metadata": {},
   "source": [
    "# Inport Data Analytics Libraries"
   ]
  },
  {
   "cell_type": "code",
   "execution_count": 1,
   "id": "20d07584-7ec5-4f06-a3ff-01d65acadbaf",
   "metadata": {},
   "outputs": [],
   "source": [
    "import numpy as np\n",
    "import pandas as pd\n",
    "import matplotlib.pyplot as plt\n",
    "import seaborn as sns\n",
    "from scipy import stats\n",
    "from math import ceil"
   ]
  },
  {
   "cell_type": "markdown",
   "id": "c41860a5-5d87-45f1-9997-25e9295dd3a4",
   "metadata": {
    "tags": []
   },
   "source": [
    "# Import Machine Learning Libraries"
   ]
  },
  {
   "cell_type": "code",
   "execution_count": 2,
   "id": "3155d04a-9e08-484e-abd9-ea6c12e17aaa",
   "metadata": {},
   "outputs": [],
   "source": [
    "from sklearn.pipeline import Pipeline\n",
    "\n",
    "# To perform operations on columns:\n",
    "from sklearn.compose import ColumnTransformer\n",
    "from sklearn.impute import SimpleImputer\n",
    "from sklearn.preprocessing import OneHotEncoder\n",
    "\n",
    "# ML algorithms:\n",
    "from xgboost import XGBClassifier\n",
    "\n",
    "# To evaluate performance model:\n",
    "from sklearn.model_selection import GridSearchCV, ParameterGrid\n",
    "from sklearn.metrics import confusion_matrix, classification_report\n",
    "from sklearn.metrics import accuracy_score, recall_score, precision_score, f1_score"
   ]
  },
  {
   "cell_type": "code",
   "execution_count": 3,
   "id": "2ca15d62-89d3-46f8-8268-de77d581544d",
   "metadata": {},
   "outputs": [],
   "source": [
    "# データ読み込み\n",
    "X_y = pd.read_csv('titanic/train.csv', index_col='PassengerId')\n",
    "X_test = pd.read_csv('titanic/test.csv', index_col='PassengerId')\n",
    "\n",
    "# ターゲットが存在しない行を削除する\n",
    "X_y = X_y.dropna(subset=['Survived'], axis=0)\n",
    "\n",
    "# ターゲットyを予測変数Xから分離する\n",
    "X = X_y.copy()\n",
    "y = X.pop('Survived')"
   ]
  },
  {
   "cell_type": "markdown",
   "id": "5a7fda8d-dff3-4be5-8e9b-a16a30102e6c",
   "metadata": {},
   "source": [
    "# 2)X,y Summary"
   ]
  },
  {
   "cell_type": "code",
   "execution_count": 4,
   "id": "97932bad-0af4-4a39-9048-45e37b43b69a",
   "metadata": {},
   "outputs": [
    {
     "data": {
      "text/html": [
       "<div>\n",
       "<style scoped>\n",
       "    .dataframe tbody tr th:only-of-type {\n",
       "        vertical-align: middle;\n",
       "    }\n",
       "\n",
       "    .dataframe tbody tr th {\n",
       "        vertical-align: top;\n",
       "    }\n",
       "\n",
       "    .dataframe thead th {\n",
       "        text-align: right;\n",
       "    }\n",
       "</style>\n",
       "<table border=\"1\" class=\"dataframe\">\n",
       "  <thead>\n",
       "    <tr style=\"text-align: right;\">\n",
       "      <th></th>\n",
       "      <th>Pclass</th>\n",
       "      <th>Name</th>\n",
       "      <th>Sex</th>\n",
       "      <th>Age</th>\n",
       "      <th>SibSp</th>\n",
       "      <th>Parch</th>\n",
       "      <th>Ticket</th>\n",
       "      <th>Fare</th>\n",
       "      <th>Cabin</th>\n",
       "      <th>Embarked</th>\n",
       "    </tr>\n",
       "    <tr>\n",
       "      <th>PassengerId</th>\n",
       "      <th></th>\n",
       "      <th></th>\n",
       "      <th></th>\n",
       "      <th></th>\n",
       "      <th></th>\n",
       "      <th></th>\n",
       "      <th></th>\n",
       "      <th></th>\n",
       "      <th></th>\n",
       "      <th></th>\n",
       "    </tr>\n",
       "  </thead>\n",
       "  <tbody>\n",
       "    <tr>\n",
       "      <th>1</th>\n",
       "      <td>3</td>\n",
       "      <td>Braund, Mr. Owen Harris</td>\n",
       "      <td>male</td>\n",
       "      <td>22.0</td>\n",
       "      <td>1</td>\n",
       "      <td>0</td>\n",
       "      <td>A/5 21171</td>\n",
       "      <td>7.2500</td>\n",
       "      <td>NaN</td>\n",
       "      <td>S</td>\n",
       "    </tr>\n",
       "    <tr>\n",
       "      <th>2</th>\n",
       "      <td>1</td>\n",
       "      <td>Cumings, Mrs. John Bradley (Florence Briggs Th...</td>\n",
       "      <td>female</td>\n",
       "      <td>38.0</td>\n",
       "      <td>1</td>\n",
       "      <td>0</td>\n",
       "      <td>PC 17599</td>\n",
       "      <td>71.2833</td>\n",
       "      <td>C85</td>\n",
       "      <td>C</td>\n",
       "    </tr>\n",
       "    <tr>\n",
       "      <th>3</th>\n",
       "      <td>3</td>\n",
       "      <td>Heikkinen, Miss. Laina</td>\n",
       "      <td>female</td>\n",
       "      <td>26.0</td>\n",
       "      <td>0</td>\n",
       "      <td>0</td>\n",
       "      <td>STON/O2. 3101282</td>\n",
       "      <td>7.9250</td>\n",
       "      <td>NaN</td>\n",
       "      <td>S</td>\n",
       "    </tr>\n",
       "    <tr>\n",
       "      <th>4</th>\n",
       "      <td>1</td>\n",
       "      <td>Futrelle, Mrs. Jacques Heath (Lily May Peel)</td>\n",
       "      <td>female</td>\n",
       "      <td>35.0</td>\n",
       "      <td>1</td>\n",
       "      <td>0</td>\n",
       "      <td>113803</td>\n",
       "      <td>53.1000</td>\n",
       "      <td>C123</td>\n",
       "      <td>S</td>\n",
       "    </tr>\n",
       "    <tr>\n",
       "      <th>5</th>\n",
       "      <td>3</td>\n",
       "      <td>Allen, Mr. William Henry</td>\n",
       "      <td>male</td>\n",
       "      <td>35.0</td>\n",
       "      <td>0</td>\n",
       "      <td>0</td>\n",
       "      <td>373450</td>\n",
       "      <td>8.0500</td>\n",
       "      <td>NaN</td>\n",
       "      <td>S</td>\n",
       "    </tr>\n",
       "  </tbody>\n",
       "</table>\n",
       "</div>"
      ],
      "text/plain": [
       "             Pclass                                               Name  \\\n",
       "PassengerId                                                              \n",
       "1                 3                            Braund, Mr. Owen Harris   \n",
       "2                 1  Cumings, Mrs. John Bradley (Florence Briggs Th...   \n",
       "3                 3                             Heikkinen, Miss. Laina   \n",
       "4                 1       Futrelle, Mrs. Jacques Heath (Lily May Peel)   \n",
       "5                 3                           Allen, Mr. William Henry   \n",
       "\n",
       "                Sex   Age  SibSp  Parch            Ticket     Fare Cabin  \\\n",
       "PassengerId                                                                \n",
       "1              male  22.0      1      0         A/5 21171   7.2500   NaN   \n",
       "2            female  38.0      1      0          PC 17599  71.2833   C85   \n",
       "3            female  26.0      0      0  STON/O2. 3101282   7.9250   NaN   \n",
       "4            female  35.0      1      0            113803  53.1000  C123   \n",
       "5              male  35.0      0      0            373450   8.0500   NaN   \n",
       "\n",
       "            Embarked  \n",
       "PassengerId           \n",
       "1                  S  \n",
       "2                  C  \n",
       "3                  S  \n",
       "4                  S  \n",
       "5                  S  "
      ]
     },
     "execution_count": 4,
     "metadata": {},
     "output_type": "execute_result"
    }
   ],
   "source": [
    "X.head(5)"
   ]
  },
  {
   "cell_type": "code",
   "execution_count": 5,
   "id": "aab84375-8beb-4b0d-8df3-3ff5ccb6e8d1",
   "metadata": {},
   "outputs": [
    {
     "data": {
      "text/plain": [
       "PassengerId\n",
       "1    0\n",
       "2    1\n",
       "3    1\n",
       "4    1\n",
       "5    0\n",
       "Name: Survived, dtype: int64"
      ]
     },
     "execution_count": 5,
     "metadata": {},
     "output_type": "execute_result"
    }
   ],
   "source": [
    "y.head(5)"
   ]
  },
  {
   "cell_type": "code",
   "execution_count": 6,
   "id": "8699c1f0-bd3c-42c4-946d-8ab8525b78fa",
   "metadata": {},
   "outputs": [],
   "source": [
    "# 関数を作成しておく\n",
    "def show_info(X, X_test):\n",
    "    DataTypes = pd.DataFrame(X.dtypes.value_counts(),columns=['X'])\n",
    "    DataTypes['X_test'] = X.dtypes.value_counts().values\n",
    "    print(\"Number of Columns with different Data Types:\\n\")\n",
    "    print(DataTypes,'\\n')\n",
    "    \n",
    "    info = pd.DataFrame(X.dtypes, columns=['Dtype'])\n",
    "    info['Unique_X'] = X.nunique().values\n",
    "    info['Unique_X_test'] = X_test.nunique().values\n",
    "    info['Null_X'] = X.isnull().sum().values\n",
    "    info['Null_X_test'] = X_test.isnull().sum().values\n",
    "    return info"
   ]
  },
  {
   "cell_type": "code",
   "execution_count": 7,
   "id": "3292fde8-9a24-4509-8089-8b778422d8d5",
   "metadata": {},
   "outputs": [
    {
     "name": "stdout",
     "output_type": "stream",
     "text": [
      "Number of Columns with different Data Types:\n",
      "\n",
      "         X  X_test\n",
      "object   5       5\n",
      "int64    3       3\n",
      "float64  2       2 \n",
      "\n"
     ]
    }
   ],
   "source": [
    "DataTypes = pd.DataFrame(X.dtypes.value_counts(),columns=['X'])\n",
    "DataTypes['X_test'] = X.dtypes.value_counts().values\n",
    "print(\"Number of Columns with different Data Types:\\n\")\n",
    "print(DataTypes,'\\n')"
   ]
  },
  {
   "cell_type": "code",
   "execution_count": 8,
   "id": "a24b3de6-6217-4265-be9e-6eb1c862980c",
   "metadata": {},
   "outputs": [
    {
     "name": "stdout",
     "output_type": "stream",
     "text": [
      "Number of Columns with different Data Types:\n",
      "\n",
      "         X  X_test\n",
      "object   5       5\n",
      "int64    3       3\n",
      "float64  2       2 \n",
      "\n"
     ]
    },
    {
     "data": {
      "text/html": [
       "<div>\n",
       "<style scoped>\n",
       "    .dataframe tbody tr th:only-of-type {\n",
       "        vertical-align: middle;\n",
       "    }\n",
       "\n",
       "    .dataframe tbody tr th {\n",
       "        vertical-align: top;\n",
       "    }\n",
       "\n",
       "    .dataframe thead th {\n",
       "        text-align: right;\n",
       "    }\n",
       "</style>\n",
       "<table border=\"1\" class=\"dataframe\">\n",
       "  <thead>\n",
       "    <tr style=\"text-align: right;\">\n",
       "      <th></th>\n",
       "      <th>Dtype</th>\n",
       "      <th>Unique_X</th>\n",
       "      <th>Unique_X_test</th>\n",
       "      <th>Null_X</th>\n",
       "      <th>Null_X_test</th>\n",
       "    </tr>\n",
       "  </thead>\n",
       "  <tbody>\n",
       "    <tr>\n",
       "      <th>Pclass</th>\n",
       "      <td>int64</td>\n",
       "      <td>3</td>\n",
       "      <td>3</td>\n",
       "      <td>0</td>\n",
       "      <td>0</td>\n",
       "    </tr>\n",
       "    <tr>\n",
       "      <th>Name</th>\n",
       "      <td>object</td>\n",
       "      <td>891</td>\n",
       "      <td>418</td>\n",
       "      <td>0</td>\n",
       "      <td>0</td>\n",
       "    </tr>\n",
       "    <tr>\n",
       "      <th>Sex</th>\n",
       "      <td>object</td>\n",
       "      <td>2</td>\n",
       "      <td>2</td>\n",
       "      <td>0</td>\n",
       "      <td>0</td>\n",
       "    </tr>\n",
       "    <tr>\n",
       "      <th>Age</th>\n",
       "      <td>float64</td>\n",
       "      <td>88</td>\n",
       "      <td>79</td>\n",
       "      <td>177</td>\n",
       "      <td>86</td>\n",
       "    </tr>\n",
       "    <tr>\n",
       "      <th>SibSp</th>\n",
       "      <td>int64</td>\n",
       "      <td>7</td>\n",
       "      <td>7</td>\n",
       "      <td>0</td>\n",
       "      <td>0</td>\n",
       "    </tr>\n",
       "    <tr>\n",
       "      <th>Parch</th>\n",
       "      <td>int64</td>\n",
       "      <td>7</td>\n",
       "      <td>8</td>\n",
       "      <td>0</td>\n",
       "      <td>0</td>\n",
       "    </tr>\n",
       "    <tr>\n",
       "      <th>Ticket</th>\n",
       "      <td>object</td>\n",
       "      <td>681</td>\n",
       "      <td>363</td>\n",
       "      <td>0</td>\n",
       "      <td>0</td>\n",
       "    </tr>\n",
       "    <tr>\n",
       "      <th>Fare</th>\n",
       "      <td>float64</td>\n",
       "      <td>248</td>\n",
       "      <td>169</td>\n",
       "      <td>0</td>\n",
       "      <td>1</td>\n",
       "    </tr>\n",
       "    <tr>\n",
       "      <th>Cabin</th>\n",
       "      <td>object</td>\n",
       "      <td>147</td>\n",
       "      <td>76</td>\n",
       "      <td>687</td>\n",
       "      <td>327</td>\n",
       "    </tr>\n",
       "    <tr>\n",
       "      <th>Embarked</th>\n",
       "      <td>object</td>\n",
       "      <td>3</td>\n",
       "      <td>3</td>\n",
       "      <td>2</td>\n",
       "      <td>0</td>\n",
       "    </tr>\n",
       "  </tbody>\n",
       "</table>\n",
       "</div>"
      ],
      "text/plain": [
       "            Dtype  Unique_X  Unique_X_test  Null_X  Null_X_test\n",
       "Pclass      int64         3              3       0            0\n",
       "Name       object       891            418       0            0\n",
       "Sex        object         2              2       0            0\n",
       "Age       float64        88             79     177           86\n",
       "SibSp       int64         7              7       0            0\n",
       "Parch       int64         7              8       0            0\n",
       "Ticket     object       681            363       0            0\n",
       "Fare      float64       248            169       0            1\n",
       "Cabin      object       147             76     687          327\n",
       "Embarked   object         3              3       2            0"
      ]
     },
     "execution_count": 8,
     "metadata": {},
     "output_type": "execute_result"
    }
   ],
   "source": [
    "show_info(X, X_test)"
   ]
  },
  {
   "cell_type": "code",
   "execution_count": 9,
   "id": "65ebe5fc-ee0e-4c96-92af-7dccb6fd6d12",
   "metadata": {},
   "outputs": [
    {
     "data": {
      "text/plain": [
       "PassengerId\n",
       "1    0\n",
       "2    1\n",
       "3    1\n",
       "4    1\n",
       "5    0\n",
       "Name: Survived, dtype: int64"
      ]
     },
     "execution_count": 9,
     "metadata": {},
     "output_type": "execute_result"
    }
   ],
   "source": [
    "y.head(5)"
   ]
  },
  {
   "cell_type": "markdown",
   "id": "2fd398d2-1de7-4bca-8912-ef99f24c5214",
   "metadata": {},
   "source": [
    "# 3)Data Cleaning"
   ]
  },
  {
   "cell_type": "code",
   "execution_count": 10,
   "id": "b5bffd93-916c-49ee-92d2-a07152ac716f",
   "metadata": {},
   "outputs": [],
   "source": [
    "def show_null_values(X, X_test):\n",
    "    \n",
    "    # Xのそれぞれのカラムの欠損値の数を抽出\n",
    "    null_values = pd.DataFrame(X.isnull().sum(), columns=['Train Data'])\n",
    "    # X_testのそれぞれのカラムの欠損値の数を抽出\n",
    "    null_values['Test Data'] = X_test.isnull().sum().values\n",
    "    \n",
    "    # Train Data　or Test Dataのどちらかが０ではないデータを抽出する。\n",
    "    null_values = null_values.loc[(null_values['Train Data']!=0) | (null_values['Test Data']!=0)]\n",
    "    # Train Data, Test Data で降順にソートする。\n",
    "    null_values = null_values.sort_values(by=['Train Data', 'Test Data'], ascending=False)\n",
    "    \n",
    "    print(\"Total missing values:\\n\",null_values.sum(),'\\n',sep='')\n",
    "    \n",
    "    return null_values"
   ]
  },
  {
   "cell_type": "code",
   "execution_count": 11,
   "id": "78f5e867-380a-4591-9489-b06c0e840c46",
   "metadata": {},
   "outputs": [
    {
     "name": "stdout",
     "output_type": "stream",
     "text": [
      "Total missing values:\n",
      "Train Data    866\n",
      "Test Data     414\n",
      "dtype: int64\n",
      "\n"
     ]
    },
    {
     "data": {
      "text/html": [
       "<div>\n",
       "<style scoped>\n",
       "    .dataframe tbody tr th:only-of-type {\n",
       "        vertical-align: middle;\n",
       "    }\n",
       "\n",
       "    .dataframe tbody tr th {\n",
       "        vertical-align: top;\n",
       "    }\n",
       "\n",
       "    .dataframe thead th {\n",
       "        text-align: right;\n",
       "    }\n",
       "</style>\n",
       "<table border=\"1\" class=\"dataframe\">\n",
       "  <thead>\n",
       "    <tr style=\"text-align: right;\">\n",
       "      <th></th>\n",
       "      <th>Train Data</th>\n",
       "      <th>Test Data</th>\n",
       "    </tr>\n",
       "  </thead>\n",
       "  <tbody>\n",
       "    <tr>\n",
       "      <th>Cabin</th>\n",
       "      <td>687</td>\n",
       "      <td>327</td>\n",
       "    </tr>\n",
       "    <tr>\n",
       "      <th>Age</th>\n",
       "      <td>177</td>\n",
       "      <td>86</td>\n",
       "    </tr>\n",
       "    <tr>\n",
       "      <th>Embarked</th>\n",
       "      <td>2</td>\n",
       "      <td>0</td>\n",
       "    </tr>\n",
       "    <tr>\n",
       "      <th>Fare</th>\n",
       "      <td>0</td>\n",
       "      <td>1</td>\n",
       "    </tr>\n",
       "  </tbody>\n",
       "</table>\n",
       "</div>"
      ],
      "text/plain": [
       "          Train Data  Test Data\n",
       "Cabin            687        327\n",
       "Age              177         86\n",
       "Embarked           2          0\n",
       "Fare               0          1"
      ]
     },
     "execution_count": 11,
     "metadata": {},
     "output_type": "execute_result"
    }
   ],
   "source": [
    "# メソッド呼び出し\n",
    "show_null_values(X, X_test)"
   ]
  },
  {
   "cell_type": "code",
   "execution_count": 12,
   "id": "9b943da3-2d96-4a31-b69c-f03f7bdd3514",
   "metadata": {},
   "outputs": [
    {
     "data": {
      "text/plain": [
       "['Cabin']"
      ]
     },
     "execution_count": 12,
     "metadata": {},
     "output_type": "execute_result"
    }
   ],
   "source": [
    "# 半分以上の値が欠損している列を表示する。\n",
    "null_columns = [col for col in X.columns if X[col].isnull().sum() > len(X)/2]\n",
    "null_columns"
   ]
  },
  {
   "cell_type": "code",
   "execution_count": 13,
   "id": "362a0b31-ae65-4b1b-877f-470359db20cf",
   "metadata": {},
   "outputs": [],
   "source": [
    "# 上記のカラムを削除する。\n",
    "# dropの引数のaxisはデフォルトが０で、axis=0は行の意味。\n",
    "X = X.drop(null_columns, axis=1)\n",
    "X_test = X_test.drop(null_columns, axis=1)"
   ]
  },
  {
   "cell_type": "markdown",
   "id": "0e91df09-2c93-463e-89ca-f3fd1e43e0fd",
   "metadata": {},
   "source": [
    "# 4)探索的データ分析"
   ]
  },
  {
   "cell_type": "markdown",
   "id": "37a6030f-3488-4519-9d0d-d6349585d774",
   "metadata": {},
   "source": [
    "## 相関係数"
   ]
  },
  {
   "cell_type": "code",
   "execution_count": 14,
   "id": "80333110-1d75-4dcb-be6d-f0695e595a91",
   "metadata": {},
   "outputs": [
    {
     "name": "stderr",
     "output_type": "stream",
     "text": [
      "/var/folders/h_/nlz7m_v57ls6456wjyb923100000gn/T/ipykernel_14062/3943350950.py:3: FutureWarning: The default value of numeric_only in DataFrame.corr is deprecated. In a future version, it will default to False. Select only valid columns or specify the value of numeric_only to silence this warning.\n",
      "  correlation_matrix = Xy.corr()\n"
     ]
    },
    {
     "data": {
      "text/plain": [
       "Pclass     -0.338481\n",
       "Age        -0.077221\n",
       "SibSp      -0.035322\n",
       "Parch       0.081629\n",
       "Fare        0.257307\n",
       "Survived    1.000000\n",
       "Name: Survived, dtype: float64"
      ]
     },
     "execution_count": 14,
     "metadata": {},
     "output_type": "execute_result"
    }
   ],
   "source": [
    "Xy = X.join(y)\n",
    "Xy.head(5)\n",
    "correlation_matrix = Xy.corr()\n",
    "correlation_matrix.Survived"
   ]
  },
  {
   "cell_type": "markdown",
   "id": "167f141f-b5fd-4896-9645-b94dd45d4a66",
   "metadata": {},
   "source": [
    "## 性別, Pclass毎の乗客者数や生き残る確率"
   ]
  },
  {
   "cell_type": "code",
   "execution_count": 15,
   "id": "8551d962-099d-44a0-816e-50e28c006490",
   "metadata": {},
   "outputs": [
    {
     "data": {
      "text/html": [
       "<div>\n",
       "<style scoped>\n",
       "    .dataframe tbody tr th:only-of-type {\n",
       "        vertical-align: middle;\n",
       "    }\n",
       "\n",
       "    .dataframe tbody tr th {\n",
       "        vertical-align: top;\n",
       "    }\n",
       "\n",
       "    .dataframe thead th {\n",
       "        text-align: right;\n",
       "    }\n",
       "</style>\n",
       "<table border=\"1\" class=\"dataframe\">\n",
       "  <thead>\n",
       "    <tr style=\"text-align: right;\">\n",
       "      <th></th>\n",
       "      <th></th>\n",
       "      <th>sum</th>\n",
       "      <th>count</th>\n",
       "      <th>survival rate</th>\n",
       "    </tr>\n",
       "    <tr>\n",
       "      <th>Sex</th>\n",
       "      <th>Pclass</th>\n",
       "      <th></th>\n",
       "      <th></th>\n",
       "      <th></th>\n",
       "    </tr>\n",
       "  </thead>\n",
       "  <tbody>\n",
       "    <tr>\n",
       "      <th rowspan=\"3\" valign=\"top\">female</th>\n",
       "      <th>1</th>\n",
       "      <td>91</td>\n",
       "      <td>94</td>\n",
       "      <td>0.97</td>\n",
       "    </tr>\n",
       "    <tr>\n",
       "      <th>2</th>\n",
       "      <td>70</td>\n",
       "      <td>76</td>\n",
       "      <td>0.92</td>\n",
       "    </tr>\n",
       "    <tr>\n",
       "      <th>3</th>\n",
       "      <td>72</td>\n",
       "      <td>144</td>\n",
       "      <td>0.50</td>\n",
       "    </tr>\n",
       "    <tr>\n",
       "      <th rowspan=\"3\" valign=\"top\">male</th>\n",
       "      <th>1</th>\n",
       "      <td>45</td>\n",
       "      <td>122</td>\n",
       "      <td>0.37</td>\n",
       "    </tr>\n",
       "    <tr>\n",
       "      <th>2</th>\n",
       "      <td>17</td>\n",
       "      <td>108</td>\n",
       "      <td>0.16</td>\n",
       "    </tr>\n",
       "    <tr>\n",
       "      <th>3</th>\n",
       "      <td>47</td>\n",
       "      <td>347</td>\n",
       "      <td>0.14</td>\n",
       "    </tr>\n",
       "  </tbody>\n",
       "</table>\n",
       "</div>"
      ],
      "text/plain": [
       "               sum  count  survival rate\n",
       "Sex    Pclass                           \n",
       "female 1        91     94           0.97\n",
       "       2        70     76           0.92\n",
       "       3        72    144           0.50\n",
       "male   1        45    122           0.37\n",
       "       2        17    108           0.16\n",
       "       3        47    347           0.14"
      ]
     },
     "execution_count": 15,
     "metadata": {},
     "output_type": "execute_result"
    }
   ],
   "source": [
    "df1 = Xy.groupby(['Sex', 'Pclass']).Survived.agg(['sum', 'count'])\n",
    "df1['survival rate'] =  round(df1['sum']/df1['count'], 2)\n",
    "df1"
   ]
  },
  {
   "cell_type": "markdown",
   "id": "28333b1c-db25-412f-a651-6b17f2219f89",
   "metadata": {},
   "source": [
    "##### ・女性のPclass1と２では、ほとんどの人が生き残っている。\n",
    "##### ・男性のPclass2と3では、ほとんどの人が生き残ることができていなかった。"
   ]
  },
  {
   "cell_type": "code",
   "execution_count": 16,
   "id": "1c868897-18e3-4c2e-ad0e-64ca84c01563",
   "metadata": {},
   "outputs": [
    {
     "data": {
      "text/html": [
       "<div>\n",
       "<style scoped>\n",
       "    .dataframe tbody tr th:only-of-type {\n",
       "        vertical-align: middle;\n",
       "    }\n",
       "\n",
       "    .dataframe tbody tr th {\n",
       "        vertical-align: top;\n",
       "    }\n",
       "\n",
       "    .dataframe thead th {\n",
       "        text-align: right;\n",
       "    }\n",
       "</style>\n",
       "<table border=\"1\" class=\"dataframe\">\n",
       "  <thead>\n",
       "    <tr style=\"text-align: right;\">\n",
       "      <th></th>\n",
       "      <th></th>\n",
       "      <th>sum</th>\n",
       "      <th>count</th>\n",
       "      <th>survival rate</th>\n",
       "    </tr>\n",
       "    <tr>\n",
       "      <th>Embarked</th>\n",
       "      <th>Pclass</th>\n",
       "      <th></th>\n",
       "      <th></th>\n",
       "      <th></th>\n",
       "    </tr>\n",
       "  </thead>\n",
       "  <tbody>\n",
       "    <tr>\n",
       "      <th rowspan=\"3\" valign=\"top\">C</th>\n",
       "      <th>1</th>\n",
       "      <td>59</td>\n",
       "      <td>85</td>\n",
       "      <td>0.69</td>\n",
       "    </tr>\n",
       "    <tr>\n",
       "      <th>2</th>\n",
       "      <td>9</td>\n",
       "      <td>17</td>\n",
       "      <td>0.53</td>\n",
       "    </tr>\n",
       "    <tr>\n",
       "      <th>3</th>\n",
       "      <td>25</td>\n",
       "      <td>66</td>\n",
       "      <td>0.38</td>\n",
       "    </tr>\n",
       "    <tr>\n",
       "      <th rowspan=\"3\" valign=\"top\">Q</th>\n",
       "      <th>1</th>\n",
       "      <td>1</td>\n",
       "      <td>2</td>\n",
       "      <td>0.50</td>\n",
       "    </tr>\n",
       "    <tr>\n",
       "      <th>2</th>\n",
       "      <td>2</td>\n",
       "      <td>3</td>\n",
       "      <td>0.67</td>\n",
       "    </tr>\n",
       "    <tr>\n",
       "      <th>3</th>\n",
       "      <td>27</td>\n",
       "      <td>72</td>\n",
       "      <td>0.38</td>\n",
       "    </tr>\n",
       "    <tr>\n",
       "      <th rowspan=\"3\" valign=\"top\">S</th>\n",
       "      <th>1</th>\n",
       "      <td>74</td>\n",
       "      <td>127</td>\n",
       "      <td>0.58</td>\n",
       "    </tr>\n",
       "    <tr>\n",
       "      <th>2</th>\n",
       "      <td>76</td>\n",
       "      <td>164</td>\n",
       "      <td>0.46</td>\n",
       "    </tr>\n",
       "    <tr>\n",
       "      <th>3</th>\n",
       "      <td>67</td>\n",
       "      <td>353</td>\n",
       "      <td>0.19</td>\n",
       "    </tr>\n",
       "  </tbody>\n",
       "</table>\n",
       "</div>"
      ],
      "text/plain": [
       "                 sum  count  survival rate\n",
       "Embarked Pclass                           \n",
       "C        1        59     85           0.69\n",
       "         2         9     17           0.53\n",
       "         3        25     66           0.38\n",
       "Q        1         1      2           0.50\n",
       "         2         2      3           0.67\n",
       "         3        27     72           0.38\n",
       "S        1        74    127           0.58\n",
       "         2        76    164           0.46\n",
       "         3        67    353           0.19"
      ]
     },
     "execution_count": 16,
     "metadata": {},
     "output_type": "execute_result"
    }
   ],
   "source": [
    "df2 = Xy.groupby(['Embarked', 'Pclass']).Survived.agg(['sum', 'count'])\n",
    "df2['survival rate'] = round(df2['sum']/df2['count'], 2)\n",
    "df2"
   ]
  },
  {
   "cell_type": "markdown",
   "id": "31b63472-8714-4912-8ef8-f8890276a89a",
   "metadata": {},
   "source": [
    "##### ・最も高い生存率はPclassが１で、Cで乗船した時。\n",
    "##### ・最も生存率が少ないのはPclassが3で、Sで乗船した時。"
   ]
  },
  {
   "cell_type": "code",
   "execution_count": 17,
   "id": "58bd8eac-547e-4c6a-9cbe-cb5ceee56879",
   "metadata": {},
   "outputs": [
    {
     "data": {
      "text/html": [
       "<div>\n",
       "<style scoped>\n",
       "    .dataframe tbody tr th:only-of-type {\n",
       "        vertical-align: middle;\n",
       "    }\n",
       "\n",
       "    .dataframe tbody tr th {\n",
       "        vertical-align: top;\n",
       "    }\n",
       "\n",
       "    .dataframe thead th {\n",
       "        text-align: right;\n",
       "    }\n",
       "</style>\n",
       "<table border=\"1\" class=\"dataframe\">\n",
       "  <thead>\n",
       "    <tr style=\"text-align: right;\">\n",
       "      <th></th>\n",
       "      <th></th>\n",
       "      <th>sum</th>\n",
       "      <th>count</th>\n",
       "      <th>survival rate</th>\n",
       "    </tr>\n",
       "    <tr>\n",
       "      <th>Embarked</th>\n",
       "      <th>Sex</th>\n",
       "      <th></th>\n",
       "      <th></th>\n",
       "      <th></th>\n",
       "    </tr>\n",
       "  </thead>\n",
       "  <tbody>\n",
       "    <tr>\n",
       "      <th rowspan=\"2\" valign=\"top\">C</th>\n",
       "      <th>female</th>\n",
       "      <td>64</td>\n",
       "      <td>73</td>\n",
       "      <td>0.88</td>\n",
       "    </tr>\n",
       "    <tr>\n",
       "      <th>male</th>\n",
       "      <td>29</td>\n",
       "      <td>95</td>\n",
       "      <td>0.31</td>\n",
       "    </tr>\n",
       "    <tr>\n",
       "      <th rowspan=\"2\" valign=\"top\">Q</th>\n",
       "      <th>female</th>\n",
       "      <td>27</td>\n",
       "      <td>36</td>\n",
       "      <td>0.75</td>\n",
       "    </tr>\n",
       "    <tr>\n",
       "      <th>male</th>\n",
       "      <td>3</td>\n",
       "      <td>41</td>\n",
       "      <td>0.07</td>\n",
       "    </tr>\n",
       "    <tr>\n",
       "      <th rowspan=\"2\" valign=\"top\">S</th>\n",
       "      <th>female</th>\n",
       "      <td>140</td>\n",
       "      <td>203</td>\n",
       "      <td>0.69</td>\n",
       "    </tr>\n",
       "    <tr>\n",
       "      <th>male</th>\n",
       "      <td>77</td>\n",
       "      <td>441</td>\n",
       "      <td>0.17</td>\n",
       "    </tr>\n",
       "  </tbody>\n",
       "</table>\n",
       "</div>"
      ],
      "text/plain": [
       "                 sum  count  survival rate\n",
       "Embarked Sex                              \n",
       "C        female   64     73           0.88\n",
       "         male     29     95           0.31\n",
       "Q        female   27     36           0.75\n",
       "         male      3     41           0.07\n",
       "S        female  140    203           0.69\n",
       "         male     77    441           0.17"
      ]
     },
     "execution_count": 17,
     "metadata": {},
     "output_type": "execute_result"
    }
   ],
   "source": [
    "df3 = Xy.groupby(['Embarked', 'Sex']).Survived.agg(['sum', 'count'])\n",
    "df3['survival rate'] = round(df3['sum']/df3['count'], 2)\n",
    "df3"
   ]
  },
  {
   "cell_type": "markdown",
   "id": "2fa0a159-111a-4ea7-9075-fbecd80f5588",
   "metadata": {},
   "source": [
    "##### ・女性のCクラスは生き残る確率が高い。\n",
    "##### ・男性のQクラスは生き残る確率が低い。"
   ]
  },
  {
   "cell_type": "markdown",
   "id": "77ac83d5-ea27-422d-9b1a-b088d51bd6bd",
   "metadata": {},
   "source": [
    "# 5)データの可視化"
   ]
  },
  {
   "cell_type": "markdown",
   "id": "b738197b-ae34-4eb4-8398-e80117fb4f77",
   "metadata": {},
   "source": [
    "## ヒートマップ上の特徴とターゲットのヒートマップ"
   ]
  },
  {
   "cell_type": "code",
   "execution_count": 18,
   "id": "ada1a48d-36de-4ca9-ae99-7169abd79ac4",
   "metadata": {},
   "outputs": [
    {
     "data": {
      "image/png": "[encoded data removed]",
      "text/plain": [
       "<Figure size 360x360 with 1 Axes>"
      ]
     },
     "metadata": {},
     "output_type": "display_data"
    }
   ],
   "source": [
    "# 三角形の上部の配列のコピーを返す\n",
    "mask = np.triu(correlation_matrix)\n",
    "\n",
    "plt.figure(figsize=(3, 3), dpi=120)\n",
    "sns.heatmap(correlation_matrix, annot=True, fmt='.2f', cmap='coolwarm', square=True, mask=mask, linewidths=1, cbar=False)\n",
    "plt.show()"
   ]
  },
  {
   "cell_type": "markdown",
   "id": "b4dc3b3f-1713-4756-ae64-9ed46084740a",
   "metadata": {},
   "source": [
    "##### 1, 生存率はPclassと運賃運賃に対して直線的な関係がある。\n",
    "##### 2, Pclassと運賃は負の相関関係がある。（１等席は運賃が高く、３等席は運賃が安いので）\n",
    "##### 3, parchとSibSpは相関関係が高い。（つまり、両親や子供がいる人は、兄弟や配偶者と一緒にいる可能性が高いということ。）"
   ]
  },
  {
   "cell_type": "markdown",
   "id": "7d322ad4-ae34-4073-b0f5-7e10ddb57c41",
   "metadata": {},
   "source": [
    "## 性別　vs 生存"
   ]
  },
  {
   "cell_type": "code",
   "execution_count": 19,
   "id": "16568edf-4f9c-44bf-8c2d-a6a89fc2c708",
   "metadata": {},
   "outputs": [
    {
     "data": {
      "text/plain": [
       "<seaborn.axisgrid.FacetGrid at 0x11c5f2760>"
      ]
     },
     "execution_count": 19,
     "metadata": {},
     "output_type": "execute_result"
    },
    {
     "data": {
      "image/png": "[encoded data removed]",
      "text/plain": [
       "<Figure size 558.875x500 with 1 Axes>"
      ]
     },
     "metadata": {},
     "output_type": "display_data"
    }
   ],
   "source": [
    "sns.catplot(data=Xy, x=\"Sex\", y=\"Survived\", hue=\"Pclass\", kind=\"bar\")"
   ]
  },
  {
   "cell_type": "markdown",
   "id": "73861d21-601a-4b09-a63b-da449ee1aa57",
   "metadata": {},
   "source": [
    "##### ・女性の乗客の生存率は男性の乗客のそれよりも高かった。\n",
    "##### ・上位クラスの乗客の生存率は、下位クラスの乗客の生存率よりも高かった。"
   ]
  },
  {
   "cell_type": "markdown",
   "id": "570cc8c0-6407-4b56-9f06-6bcb2c551f23",
   "metadata": {},
   "source": [
    "## 年齢 vs 生存"
   ]
  },
  {
   "cell_type": "code",
   "execution_count": 20,
   "id": "58e85e04-7d1d-44c2-802e-7c35483177d5",
   "metadata": {},
   "outputs": [
    {
     "data": {
      "image/png": "[encoded data removed]",
      "text/plain": [
       "<Figure size 698x500 with 1 Axes>"
      ]
     },
     "metadata": {},
     "output_type": "display_data"
    }
   ],
   "source": [
    "sns.catplot(data=Xy, y=\"Age\", x=\"Survived\", hue=\"Sex\", kind=\"swarm\", height=5, aspect=1.2);"
   ]
  },
  {
   "cell_type": "markdown",
   "id": "c0e0b062-01bc-4b16-958c-27be94f312f0",
   "metadata": {},
   "source": [
    "##### ・50歳以上の男性乗客の生存率が低い\n",
    "##### ・年齢が１０歳未満の乗客の方が生存率が高かった。"
   ]
  },
  {
   "cell_type": "markdown",
   "id": "000dfe7c-c58c-46bf-b376-3f688042b27e",
   "metadata": {},
   "source": [
    "## 運賃 vs 生存"
   ]
  },
  {
   "cell_type": "code",
   "execution_count": 21,
   "id": "501ec93e-468e-4f24-9c2f-a5780c6dcf90",
   "metadata": {},
   "outputs": [
    {
     "data": {
      "text/plain": [
       "(0.0, 300.0)"
      ]
     },
     "execution_count": 21,
     "metadata": {},
     "output_type": "execute_result"
    },
    {
     "data": {
      "image/png": "[encoded data removed]",
      "text/plain": [
       "<Figure size 640x480 with 1 Axes>"
      ]
     },
     "metadata": {},
     "output_type": "display_data"
    }
   ],
   "source": [
    "sns.violinplot(data=Xy, y=\"Fare\", x=\"Survived\", hue=\"Sex\", split=True, height=10, aspect=1);\n",
    "plt.ylim(0, 300)"
   ]
  },
  {
   "cell_type": "markdown",
   "id": "814c9e65-8828-4640-a32c-fa4891d1ee25",
   "metadata": {},
   "source": [
    "#####　運賃が80以上の乗客は、生存率が高かった。"
   ]
  },
  {
   "cell_type": "markdown",
   "id": "1b747916-ed7c-4978-8498-6f6028f01e2f",
   "metadata": {},
   "source": [
    "# 6)特徴量エンジニアリング"
   ]
  },
  {
   "cell_type": "markdown",
   "id": "b39fe574-2ace-4f04-9cab-1e5a68cafa5b",
   "metadata": {},
   "source": [
    "##　新規カテゴリー機能の作成"
   ]
  },
  {
   "cell_type": "markdown",
   "id": "03f6a592-0f62-4795-9cd5-bf48436d93eb",
   "metadata": {},
   "source": [
    "### 1, Name Prefix"
   ]
  },
  {
   "cell_type": "code",
   "execution_count": 22,
   "id": "62a7bc2c-d658-438f-8035-81c8aa3b24db",
   "metadata": {},
   "outputs": [],
   "source": [
    "X['Prefix'] = X['Name'].str.split(expand=True)[1]\n",
    "X_test['Prefix'] = X_test['Name'].str.split(expand=True)[1]\n",
    "# str.split():区切り文字で分割\n",
    "# expand=True・・・DataFrame/MultiIndexの次元を拡張する。（expand=Trueを設定すると、出力がデータフレームになる。）\n",
    "# [1]の部分は区切り文字の2つ目という意味を表している。[0]だったら一つ目を表していることになる。\n",
    "# 複数の列に分割してpandas.DataFrameとして取得するには、引数expand=Trueを指定する。（デフォルトはexpand=False)"
   ]
  },
  {
   "cell_type": "code",
   "execution_count": 23,
   "id": "0772c789-4f3a-45eb-81d0-dfce0d85dd46",
   "metadata": {},
   "outputs": [
    {
     "data": {
      "text/plain": [
       "Index(['Mr.', 'Miss.', 'Mrs.', 'Master.'], dtype='object')"
      ]
     },
     "execution_count": 23,
     "metadata": {},
     "output_type": "execute_result"
    }
   ],
   "source": [
    "prefixes = X.Prefix.value_counts()\n",
    "top_prefixes = prefixes[prefixes>len(X)/25].index\n",
    "# len(X)/25X変数の数の25で割った数値を意味する。\n",
    "top_prefixes"
   ]
  },
  {
   "cell_type": "code",
   "execution_count": 24,
   "id": "b34bbf7e-a699-4bb3-8d2c-ab81dc730b98",
   "metadata": {},
   "outputs": [],
   "source": [
    "X.Prefix = X.Prefix.apply(lambda x : x if x in top_prefixes else 'other')\n",
    "X_test.Prefix = X_test.Prefix.apply(lambda x : x if x in top_prefixes else 'other')\n",
    "# 列prefixの要素が・・・xがtop_prefixesの中に入っていれば、xを返す。そうでなければotherを返す。\n",
    "# applyはデフォルトでは各列に対して適用され、引数axis=1とすると各行に対して適用される。"
   ]
  },
  {
   "cell_type": "code",
   "execution_count": 25,
   "id": "913e725e-78af-4715-8ebc-9d7a3b2f8735",
   "metadata": {},
   "outputs": [],
   "source": [
    "# X[X['Prefix'] == 'other'].head(2)"
   ]
  },
  {
   "cell_type": "code",
   "execution_count": 26,
   "id": "abf75f64-618a-4d7f-bb42-1521eab7a7b0",
   "metadata": {},
   "outputs": [
    {
     "data": {
      "text/html": [
       "<div>\n",
       "<style scoped>\n",
       "    .dataframe tbody tr th:only-of-type {\n",
       "        vertical-align: middle;\n",
       "    }\n",
       "\n",
       "    .dataframe tbody tr th {\n",
       "        vertical-align: top;\n",
       "    }\n",
       "\n",
       "    .dataframe thead th {\n",
       "        text-align: right;\n",
       "    }\n",
       "</style>\n",
       "<table border=\"1\" class=\"dataframe\">\n",
       "  <thead>\n",
       "    <tr style=\"text-align: right;\">\n",
       "      <th></th>\n",
       "      <th>Prefix</th>\n",
       "      <th>Prefix_test</th>\n",
       "    </tr>\n",
       "  </thead>\n",
       "  <tbody>\n",
       "    <tr>\n",
       "      <th>Mr.</th>\n",
       "      <td>502</td>\n",
       "      <td>234</td>\n",
       "    </tr>\n",
       "    <tr>\n",
       "      <th>Miss.</th>\n",
       "      <td>179</td>\n",
       "      <td>77</td>\n",
       "    </tr>\n",
       "    <tr>\n",
       "      <th>Mrs.</th>\n",
       "      <td>121</td>\n",
       "      <td>70</td>\n",
       "    </tr>\n",
       "    <tr>\n",
       "      <th>other</th>\n",
       "      <td>49</td>\n",
       "      <td>19</td>\n",
       "    </tr>\n",
       "    <tr>\n",
       "      <th>Master.</th>\n",
       "      <td>40</td>\n",
       "      <td>18</td>\n",
       "    </tr>\n",
       "  </tbody>\n",
       "</table>\n",
       "</div>"
      ],
      "text/plain": [
       "         Prefix  Prefix_test\n",
       "Mr.         502          234\n",
       "Miss.       179           77\n",
       "Mrs.        121           70\n",
       "other        49           19\n",
       "Master.      40           18"
      ]
     },
     "execution_count": 26,
     "metadata": {},
     "output_type": "execute_result"
    }
   ],
   "source": [
    "df = pd.DataFrame(X['Prefix'].value_counts())\n",
    "df['Prefix_test'] = X_test['Prefix'].value_counts().values\n",
    "df"
   ]
  },
  {
   "cell_type": "markdown",
   "id": "25a54d82-8a64-4ac0-ade9-61df7397bbd8",
   "metadata": {},
   "source": [
    "## 年齢のインプット（グループ平均を使用）"
   ]
  },
  {
   "cell_type": "code",
   "execution_count": 27,
   "id": "45cc2638-1be7-436f-b8a4-5dd268c1d20c",
   "metadata": {},
   "outputs": [
    {
     "name": "stdout",
     "output_type": "stream",
     "text": [
      "177 86\n"
     ]
    }
   ],
   "source": [
    "# Ageが欠損しているカラムの真偽値をnull_index変数に格納する。\n",
    "null_index = X.Age.isnull()\n",
    "# Ageが欠損しているカラムの真偽値をnull_index_test変数に格納する。\n",
    "null_index_test = X_test.Age.isnull()\n",
    "print(null_index.sum(), null_index_test.sum())"
   ]
  },
  {
   "cell_type": "code",
   "execution_count": 28,
   "id": "13faef1f-3af9-4729-9491-467dd96d0d3c",
   "metadata": {},
   "outputs": [
    {
     "data": {
      "text/html": [
       "<div>\n",
       "<style scoped>\n",
       "    .dataframe tbody tr th:only-of-type {\n",
       "        vertical-align: middle;\n",
       "    }\n",
       "\n",
       "    .dataframe tbody tr th {\n",
       "        vertical-align: top;\n",
       "    }\n",
       "\n",
       "    .dataframe thead th {\n",
       "        text-align: right;\n",
       "    }\n",
       "</style>\n",
       "<table border=\"1\" class=\"dataframe\">\n",
       "  <thead>\n",
       "    <tr style=\"text-align: right;\">\n",
       "      <th></th>\n",
       "      <th></th>\n",
       "      <th>Age</th>\n",
       "    </tr>\n",
       "    <tr>\n",
       "      <th>Prefix</th>\n",
       "      <th>Pclass</th>\n",
       "      <th></th>\n",
       "    </tr>\n",
       "  </thead>\n",
       "  <tbody>\n",
       "    <tr>\n",
       "      <th rowspan=\"3\" valign=\"top\">Master.</th>\n",
       "      <th>1</th>\n",
       "      <td>5.0</td>\n",
       "    </tr>\n",
       "    <tr>\n",
       "      <th>2</th>\n",
       "      <td>2.0</td>\n",
       "    </tr>\n",
       "    <tr>\n",
       "      <th>3</th>\n",
       "      <td>5.0</td>\n",
       "    </tr>\n",
       "    <tr>\n",
       "      <th rowspan=\"3\" valign=\"top\">Miss.</th>\n",
       "      <th>1</th>\n",
       "      <td>30.0</td>\n",
       "    </tr>\n",
       "    <tr>\n",
       "      <th>2</th>\n",
       "      <td>22.0</td>\n",
       "    </tr>\n",
       "    <tr>\n",
       "      <th>3</th>\n",
       "      <td>16.0</td>\n",
       "    </tr>\n",
       "    <tr>\n",
       "      <th rowspan=\"3\" valign=\"top\">Mr.</th>\n",
       "      <th>1</th>\n",
       "      <td>42.0</td>\n",
       "    </tr>\n",
       "    <tr>\n",
       "      <th>2</th>\n",
       "      <td>33.0</td>\n",
       "    </tr>\n",
       "    <tr>\n",
       "      <th>3</th>\n",
       "      <td>29.0</td>\n",
       "    </tr>\n",
       "    <tr>\n",
       "      <th rowspan=\"3\" valign=\"top\">Mrs.</th>\n",
       "      <th>1</th>\n",
       "      <td>42.0</td>\n",
       "    </tr>\n",
       "    <tr>\n",
       "      <th>2</th>\n",
       "      <td>34.0</td>\n",
       "    </tr>\n",
       "    <tr>\n",
       "      <th>3</th>\n",
       "      <td>34.0</td>\n",
       "    </tr>\n",
       "    <tr>\n",
       "      <th rowspan=\"3\" valign=\"top\">other</th>\n",
       "      <th>1</th>\n",
       "      <td>42.0</td>\n",
       "    </tr>\n",
       "    <tr>\n",
       "      <th>2</th>\n",
       "      <td>38.0</td>\n",
       "    </tr>\n",
       "    <tr>\n",
       "      <th>3</th>\n",
       "      <td>29.0</td>\n",
       "    </tr>\n",
       "  </tbody>\n",
       "</table>\n",
       "</div>"
      ],
      "text/plain": [
       "                 Age\n",
       "Prefix  Pclass      \n",
       "Master. 1        5.0\n",
       "        2        2.0\n",
       "        3        5.0\n",
       "Miss.   1       30.0\n",
       "        2       22.0\n",
       "        3       16.0\n",
       "Mr.     1       42.0\n",
       "        2       33.0\n",
       "        3       29.0\n",
       "Mrs.    1       42.0\n",
       "        2       34.0\n",
       "        3       34.0\n",
       "other   1       42.0\n",
       "        2       38.0\n",
       "        3       29.0"
      ]
     },
     "execution_count": 28,
     "metadata": {},
     "output_type": "execute_result"
    }
   ],
   "source": [
    "avg_ages = X.groupby(['Prefix', 'Pclass']).Age.mean().round()\n",
    "pd.DataFrame(avg_ages)"
   ]
  },
  {
   "cell_type": "code",
   "execution_count": 29,
   "id": "92b97688-1d02-4b58-b3da-99bf9e4dd79a",
   "metadata": {},
   "outputs": [],
   "source": [
    "for (i, k) in avg_ages.index:\n",
    "    # iとkは、avg_ageのindex\n",
    "    value = avg_ages.loc[i, k]\n",
    "    X.loc[(X.Prefix==i) & (X.Pclass==k) & (X.Age.isnull()), 'Age'] = value\n",
    "    X_test.loc[(X_test.Prefix==i) & (X_test.Pclass==k) & (X_test.Age.isnull()), 'Age'] = value \n",
    "# 簡単に言うとAgeがNULLの行に、Prefix, Pclass毎の平均値を入れる作業を行なっている。\n",
    "# valueにindexがi, kのageの値を格納\n",
    "# Prefixがi, Pclassがk, Ageが欠損しているカラムにvalue(indexがi, kのageの値。つまり平均値を格納しておく。)\n",
    "# X, X_testのどちらともで同様に行う。"
   ]
  },
  {
   "cell_type": "code",
   "execution_count": 30,
   "id": "6b2f02d5-d164-4db5-a9e1-7db43bb988d3",
   "metadata": {},
   "outputs": [
    {
     "name": "stdout",
     "output_type": "stream",
     "text": [
      "0 0\n"
     ]
    }
   ],
   "source": [
    "# 年齢の欠損値の数\n",
    "print(X['Age'].isnull().sum(), X_test['Age'].isnull().sum())"
   ]
  },
  {
   "cell_type": "code",
   "execution_count": 31,
   "id": "eac69aeb-1c90-43b8-92d9-8c2f06baf5df",
   "metadata": {},
   "outputs": [
    {
     "data": {
      "text/html": [
       "<div>\n",
       "<style scoped>\n",
       "    .dataframe tbody tr th:only-of-type {\n",
       "        vertical-align: middle;\n",
       "    }\n",
       "\n",
       "    .dataframe tbody tr th {\n",
       "        vertical-align: top;\n",
       "    }\n",
       "\n",
       "    .dataframe thead th {\n",
       "        text-align: right;\n",
       "    }\n",
       "</style>\n",
       "<table border=\"1\" class=\"dataframe\">\n",
       "  <thead>\n",
       "    <tr style=\"text-align: right;\">\n",
       "      <th></th>\n",
       "      <th>Pclass</th>\n",
       "      <th>Name</th>\n",
       "      <th>Sex</th>\n",
       "      <th>Age</th>\n",
       "      <th>SibSp</th>\n",
       "      <th>Parch</th>\n",
       "      <th>Ticket</th>\n",
       "      <th>Fare</th>\n",
       "      <th>Embarked</th>\n",
       "      <th>Prefix</th>\n",
       "    </tr>\n",
       "    <tr>\n",
       "      <th>PassengerId</th>\n",
       "      <th></th>\n",
       "      <th></th>\n",
       "      <th></th>\n",
       "      <th></th>\n",
       "      <th></th>\n",
       "      <th></th>\n",
       "      <th></th>\n",
       "      <th></th>\n",
       "      <th></th>\n",
       "      <th></th>\n",
       "    </tr>\n",
       "  </thead>\n",
       "  <tbody>\n",
       "    <tr>\n",
       "      <th>6</th>\n",
       "      <td>3</td>\n",
       "      <td>Moran, Mr. James</td>\n",
       "      <td>male</td>\n",
       "      <td>29.0</td>\n",
       "      <td>0</td>\n",
       "      <td>0</td>\n",
       "      <td>330877</td>\n",
       "      <td>8.4583</td>\n",
       "      <td>Q</td>\n",
       "      <td>Mr.</td>\n",
       "    </tr>\n",
       "    <tr>\n",
       "      <th>18</th>\n",
       "      <td>2</td>\n",
       "      <td>Williams, Mr. Charles Eugene</td>\n",
       "      <td>male</td>\n",
       "      <td>33.0</td>\n",
       "      <td>0</td>\n",
       "      <td>0</td>\n",
       "      <td>244373</td>\n",
       "      <td>13.0000</td>\n",
       "      <td>S</td>\n",
       "      <td>Mr.</td>\n",
       "    </tr>\n",
       "    <tr>\n",
       "      <th>20</th>\n",
       "      <td>3</td>\n",
       "      <td>Masselmani, Mrs. Fatima</td>\n",
       "      <td>female</td>\n",
       "      <td>34.0</td>\n",
       "      <td>0</td>\n",
       "      <td>0</td>\n",
       "      <td>2649</td>\n",
       "      <td>7.2250</td>\n",
       "      <td>C</td>\n",
       "      <td>Mrs.</td>\n",
       "    </tr>\n",
       "    <tr>\n",
       "      <th>27</th>\n",
       "      <td>3</td>\n",
       "      <td>Emir, Mr. Farred Chehab</td>\n",
       "      <td>male</td>\n",
       "      <td>29.0</td>\n",
       "      <td>0</td>\n",
       "      <td>0</td>\n",
       "      <td>2631</td>\n",
       "      <td>7.2250</td>\n",
       "      <td>C</td>\n",
       "      <td>Mr.</td>\n",
       "    </tr>\n",
       "    <tr>\n",
       "      <th>29</th>\n",
       "      <td>3</td>\n",
       "      <td>O'Dwyer, Miss. Ellen \"Nellie\"</td>\n",
       "      <td>female</td>\n",
       "      <td>16.0</td>\n",
       "      <td>0</td>\n",
       "      <td>0</td>\n",
       "      <td>330959</td>\n",
       "      <td>7.8792</td>\n",
       "      <td>Q</td>\n",
       "      <td>Miss.</td>\n",
       "    </tr>\n",
       "  </tbody>\n",
       "</table>\n",
       "</div>"
      ],
      "text/plain": [
       "             Pclass                           Name     Sex   Age  SibSp  \\\n",
       "PassengerId                                                               \n",
       "6                 3               Moran, Mr. James    male  29.0      0   \n",
       "18                2   Williams, Mr. Charles Eugene    male  33.0      0   \n",
       "20                3        Masselmani, Mrs. Fatima  female  34.0      0   \n",
       "27                3        Emir, Mr. Farred Chehab    male  29.0      0   \n",
       "29                3  O'Dwyer, Miss. Ellen \"Nellie\"  female  16.0      0   \n",
       "\n",
       "             Parch  Ticket     Fare Embarked Prefix  \n",
       "PassengerId                                          \n",
       "6                0  330877   8.4583        Q    Mr.  \n",
       "18               0  244373  13.0000        S    Mr.  \n",
       "20               0    2649   7.2250        C   Mrs.  \n",
       "27               0    2631   7.2250        C    Mr.  \n",
       "29               0  330959   7.8792        Q  Miss.  "
      ]
     },
     "execution_count": 31,
     "metadata": {},
     "output_type": "execute_result"
    }
   ],
   "source": [
    "X[null_index].head()\n",
    "# Ageがnullだった行に、Prefix, Pclass毎の平均年齢が入っているか確認。（無事入っていることが確認できる。）"
   ]
  },
  {
   "cell_type": "code",
   "execution_count": 32,
   "id": "86e415f2-5de1-481c-8b3b-30dc7f73121b",
   "metadata": {},
   "outputs": [],
   "source": [
    "# Sex(性別)カラムがあるので,Prefixカラムの情報は冗長になる。\n",
    "# PreifxのMr,Miss,Mrs,Masterはknownと言う文字列に置き換えている。\n",
    "X.Prefix = X.Prefix.replace(['Mr.', 'Miss.', 'Mrs.', 'Master.'], 'known')\n",
    "X_test.Prefix = X_test.Prefix.replace(['Mr.', 'Miss.', 'Mrs.', 'Master.'], 'known')"
   ]
  },
  {
   "cell_type": "code",
   "execution_count": 33,
   "id": "1d03028d-a1de-440d-bf6a-b541484945e5",
   "metadata": {},
   "outputs": [],
   "source": [
    "# Nameカラムも不要なので消す。列を削除する場合は、axis=1を引数に入れる。\n",
    "X = X.drop(['Name'], axis=1)\n",
    "X_test = X_test.drop(['Name'], axis=1)"
   ]
  },
  {
   "cell_type": "markdown",
   "id": "d36d8ebb-1fa2-4ba7-a0b5-d94ac17cb837",
   "metadata": {},
   "source": [
    "### 2,年齢カテゴリ"
   ]
  },
  {
   "cell_type": "code",
   "execution_count": 34,
   "id": "346899e1-d99e-4ea6-8f87-6b4773e79211",
   "metadata": {},
   "outputs": [
    {
     "data": {
      "text/plain": [
       "CategoricalDtype(categories=['child', 'young', 'adult', 'senior'], ordered=True)"
      ]
     },
     "execution_count": 34,
     "metadata": {},
     "output_type": "execute_result"
    }
   ],
   "source": [
    "# cut()・・・ビニング処理（ビン分割）。連続値を任意の境界線で区切りカテゴリ分けして離散値に変換する。\n",
    "# 年齢毎にカテゴリ分けをする。\n",
    "def Age_categorie(df):\n",
    "    df['Age_Cat'] = pd.cut(df.Age, bins = [0,10,40,60,100], labels = ['child','young','adult','senior'])\n",
    "\n",
    "Age_categorie(X)\n",
    "Age_categorie(X_test)\n",
    "X['Age_Cat'].dtype"
   ]
  },
  {
   "cell_type": "code",
   "execution_count": 35,
   "id": "cc805d1c-59be-432e-9d93-1ef9f217543f",
   "metadata": {},
   "outputs": [
    {
     "data": {
      "text/html": [
       "<div>\n",
       "<style scoped>\n",
       "    .dataframe tbody tr th:only-of-type {\n",
       "        vertical-align: middle;\n",
       "    }\n",
       "\n",
       "    .dataframe tbody tr th {\n",
       "        vertical-align: top;\n",
       "    }\n",
       "\n",
       "    .dataframe thead th {\n",
       "        text-align: right;\n",
       "    }\n",
       "</style>\n",
       "<table border=\"1\" class=\"dataframe\">\n",
       "  <thead>\n",
       "    <tr style=\"text-align: right;\">\n",
       "      <th></th>\n",
       "      <th>Age_Cat</th>\n",
       "      <th>Age_Cat_test</th>\n",
       "    </tr>\n",
       "  </thead>\n",
       "  <tbody>\n",
       "    <tr>\n",
       "      <th>young</th>\n",
       "      <td>644</td>\n",
       "      <td>307</td>\n",
       "    </tr>\n",
       "    <tr>\n",
       "      <th>adult</th>\n",
       "      <td>157</td>\n",
       "      <td>75</td>\n",
       "    </tr>\n",
       "    <tr>\n",
       "      <th>child</th>\n",
       "      <td>68</td>\n",
       "      <td>25</td>\n",
       "    </tr>\n",
       "    <tr>\n",
       "      <th>senior</th>\n",
       "      <td>22</td>\n",
       "      <td>11</td>\n",
       "    </tr>\n",
       "  </tbody>\n",
       "</table>\n",
       "</div>"
      ],
      "text/plain": [
       "        Age_Cat  Age_Cat_test\n",
       "young       644           307\n",
       "adult       157            75\n",
       "child        68            25\n",
       "senior       22            11"
      ]
     },
     "execution_count": 35,
     "metadata": {},
     "output_type": "execute_result"
    }
   ],
   "source": [
    "df = pd.DataFrame(X['Age_Cat'].value_counts())\n",
    "df['Age_Cat_test'] = X_test['Age_Cat'].value_counts().values\n",
    "df"
   ]
  },
  {
   "cell_type": "markdown",
   "id": "b732f80d-fa25-4785-9142-f1e0b8c4fd20",
   "metadata": {},
   "source": [
    "### 3,運賃カテゴリ"
   ]
  },
  {
   "cell_type": "code",
   "execution_count": 36,
   "id": "cafa614d-c7fc-4c7d-8bf4-139a4d7bbb4b",
   "metadata": {},
   "outputs": [
    {
     "data": {
      "text/plain": [
       "count    891.000000\n",
       "mean      32.204208\n",
       "std       49.693429\n",
       "min        0.000000\n",
       "25%        7.910400\n",
       "50%       14.454200\n",
       "75%       31.000000\n",
       "max      512.329200\n",
       "Name: Fare, dtype: float64"
      ]
     },
     "execution_count": 36,
     "metadata": {},
     "output_type": "execute_result"
    }
   ],
   "source": [
    "# まず統計値を確認\n",
    "X.Fare.describe()"
   ]
  },
  {
   "cell_type": "code",
   "execution_count": 37,
   "id": "45e90028-052d-4b21-a6cb-4e82464ae6f1",
   "metadata": {},
   "outputs": [
    {
     "data": {
      "text/plain": [
       "CategoricalDtype(categories=['low', 'medium', 'high', 'very_high'], ordered=True)"
      ]
     },
     "execution_count": 37,
     "metadata": {},
     "output_type": "execute_result"
    }
   ],
   "source": [
    "# qcut()で分割（要素数が等しくなるようい分割。）\n",
    "def Fare_categorie(df):\n",
    "    df['Fare_Cat'] = pd.qcut(df.Fare, q=4, labels = ['low', 'medium', 'high', 'very_high'])\n",
    "    \n",
    "Fare_categorie(X)\n",
    "Fare_categorie(X_test)\n",
    "X['Fare_Cat'].dtype"
   ]
  },
  {
   "cell_type": "code",
   "execution_count": 38,
   "id": "5e2075f3-d26c-4aa1-a2c0-5df3569f0995",
   "metadata": {},
   "outputs": [
    {
     "data": {
      "text/html": [
       "<div>\n",
       "<style scoped>\n",
       "    .dataframe tbody tr th:only-of-type {\n",
       "        vertical-align: middle;\n",
       "    }\n",
       "\n",
       "    .dataframe tbody tr th {\n",
       "        vertical-align: top;\n",
       "    }\n",
       "\n",
       "    .dataframe thead th {\n",
       "        text-align: right;\n",
       "    }\n",
       "</style>\n",
       "<table border=\"1\" class=\"dataframe\">\n",
       "  <thead>\n",
       "    <tr style=\"text-align: right;\">\n",
       "      <th></th>\n",
       "      <th>Fare_Cat</th>\n",
       "      <th>Fare_Cat_test</th>\n",
       "    </tr>\n",
       "  </thead>\n",
       "  <tbody>\n",
       "    <tr>\n",
       "      <th>medium</th>\n",
       "      <td>224</td>\n",
       "      <td>114</td>\n",
       "    </tr>\n",
       "    <tr>\n",
       "      <th>low</th>\n",
       "      <td>223</td>\n",
       "      <td>105</td>\n",
       "    </tr>\n",
       "    <tr>\n",
       "      <th>high</th>\n",
       "      <td>222</td>\n",
       "      <td>102</td>\n",
       "    </tr>\n",
       "    <tr>\n",
       "      <th>very_high</th>\n",
       "      <td>222</td>\n",
       "      <td>96</td>\n",
       "    </tr>\n",
       "  </tbody>\n",
       "</table>\n",
       "</div>"
      ],
      "text/plain": [
       "           Fare_Cat  Fare_Cat_test\n",
       "medium          224            114\n",
       "low             223            105\n",
       "high            222            102\n",
       "very_high       222             96"
      ]
     },
     "execution_count": 38,
     "metadata": {},
     "output_type": "execute_result"
    }
   ],
   "source": [
    "df = pd.DataFrame(X['Fare_Cat'].value_counts())\n",
    "df['Fare_Cat_test'] = X_test['Fare_Cat'].value_counts().values\n",
    "df"
   ]
  },
  {
   "cell_type": "markdown",
   "id": "91f82050-a15a-4a3c-b616-ed5b61c6cbac",
   "metadata": {},
   "source": [
    "### 4,家族構成"
   ]
  },
  {
   "cell_type": "code",
   "execution_count": 39,
   "id": "be4e28ea-8971-4eab-99d6-c8d647ab980d",
   "metadata": {},
   "outputs": [],
   "source": [
    "# データソースのSibSp（タイタニック号に載っている兄弟や配偶者）とparch(親と子供)のカラムを足して、Family（家族人数）カラムを作成し、不要となったSibSpとparchカラムを除去する。\n",
    "X['Family'] = X['SibSp'] + X['Parch']\n",
    "X_test['Family'] = X_test['SibSp'] + X_test['Parch']\n",
    "\n",
    "X = X.drop(['SibSp', 'Parch'], axis=1)\n",
    "X_test = X_test.drop(['SibSp', 'Parch'], axis=1)"
   ]
  },
  {
   "cell_type": "code",
   "execution_count": 40,
   "id": "e7e975bd-d677-4014-9916-91cdceb823be",
   "metadata": {},
   "outputs": [
    {
     "data": {
      "text/plain": [
       "0     537\n",
       "1     161\n",
       "2     102\n",
       "3      29\n",
       "5      22\n",
       "4      15\n",
       "6      12\n",
       "10      7\n",
       "7       6\n",
       "Name: Family, dtype: int64"
      ]
     },
     "execution_count": 40,
     "metadata": {},
     "output_type": "execute_result"
    }
   ],
   "source": [
    "X.Family.value_counts()"
   ]
  },
  {
   "cell_type": "code",
   "execution_count": 41,
   "id": "858d1a94-1955-4dce-ac83-82c217ba5d49",
   "metadata": {},
   "outputs": [],
   "source": [
    "def Categorie_Family(df):\n",
    "    df['Family_Size'] = pd.cut(df.Family, bins = [-1, 0, 2, 12], labels = ['alone', 'medium', 'large'])\n",
    "    \n",
    "Categorie_Family(X)\n",
    "Categorie_Family(X_test)"
   ]
  },
  {
   "cell_type": "code",
   "execution_count": 42,
   "id": "6c1daea4-4032-4292-8796-004de53c4734",
   "metadata": {},
   "outputs": [
    {
     "data": {
      "text/html": [
       "<div>\n",
       "<style scoped>\n",
       "    .dataframe tbody tr th:only-of-type {\n",
       "        vertical-align: middle;\n",
       "    }\n",
       "\n",
       "    .dataframe tbody tr th {\n",
       "        vertical-align: top;\n",
       "    }\n",
       "\n",
       "    .dataframe thead th {\n",
       "        text-align: right;\n",
       "    }\n",
       "</style>\n",
       "<table border=\"1\" class=\"dataframe\">\n",
       "  <thead>\n",
       "    <tr style=\"text-align: right;\">\n",
       "      <th></th>\n",
       "      <th>Family_Size</th>\n",
       "      <th>Family_Size_test</th>\n",
       "    </tr>\n",
       "  </thead>\n",
       "  <tbody>\n",
       "    <tr>\n",
       "      <th>alone</th>\n",
       "      <td>537</td>\n",
       "      <td>253</td>\n",
       "    </tr>\n",
       "    <tr>\n",
       "      <th>medium</th>\n",
       "      <td>263</td>\n",
       "      <td>131</td>\n",
       "    </tr>\n",
       "    <tr>\n",
       "      <th>large</th>\n",
       "      <td>91</td>\n",
       "      <td>34</td>\n",
       "    </tr>\n",
       "  </tbody>\n",
       "</table>\n",
       "</div>"
      ],
      "text/plain": [
       "        Family_Size  Family_Size_test\n",
       "alone           537               253\n",
       "medium          263               131\n",
       "large            91                34"
      ]
     },
     "execution_count": 42,
     "metadata": {},
     "output_type": "execute_result"
    }
   ],
   "source": [
    "df = pd.DataFrame(X['Family_Size'].value_counts())\n",
    "df['Family_Size_test'] = X_test['Family_Size'].value_counts().values\n",
    "df"
   ]
  },
  {
   "cell_type": "code",
   "execution_count": 43,
   "id": "e187daa4-31f3-4d53-becf-1ff2ca0d8ad0",
   "metadata": {},
   "outputs": [
    {
     "data": {
      "text/html": [
       "<div>\n",
       "<style scoped>\n",
       "    .dataframe tbody tr th:only-of-type {\n",
       "        vertical-align: middle;\n",
       "    }\n",
       "\n",
       "    .dataframe tbody tr th {\n",
       "        vertical-align: top;\n",
       "    }\n",
       "\n",
       "    .dataframe thead th {\n",
       "        text-align: right;\n",
       "    }\n",
       "</style>\n",
       "<table border=\"1\" class=\"dataframe\">\n",
       "  <thead>\n",
       "    <tr style=\"text-align: right;\">\n",
       "      <th></th>\n",
       "      <th>Pclass</th>\n",
       "      <th>Sex</th>\n",
       "      <th>Age</th>\n",
       "      <th>Ticket</th>\n",
       "      <th>Fare</th>\n",
       "      <th>Embarked</th>\n",
       "      <th>Prefix</th>\n",
       "      <th>Age_Cat</th>\n",
       "      <th>Fare_Cat</th>\n",
       "      <th>Family</th>\n",
       "      <th>Family_Size</th>\n",
       "    </tr>\n",
       "    <tr>\n",
       "      <th>PassengerId</th>\n",
       "      <th></th>\n",
       "      <th></th>\n",
       "      <th></th>\n",
       "      <th></th>\n",
       "      <th></th>\n",
       "      <th></th>\n",
       "      <th></th>\n",
       "      <th></th>\n",
       "      <th></th>\n",
       "      <th></th>\n",
       "      <th></th>\n",
       "    </tr>\n",
       "  </thead>\n",
       "  <tbody>\n",
       "    <tr>\n",
       "      <th>1</th>\n",
       "      <td>3</td>\n",
       "      <td>male</td>\n",
       "      <td>22.0</td>\n",
       "      <td>A/5 21171</td>\n",
       "      <td>7.2500</td>\n",
       "      <td>S</td>\n",
       "      <td>known</td>\n",
       "      <td>young</td>\n",
       "      <td>low</td>\n",
       "      <td>1</td>\n",
       "      <td>medium</td>\n",
       "    </tr>\n",
       "    <tr>\n",
       "      <th>2</th>\n",
       "      <td>1</td>\n",
       "      <td>female</td>\n",
       "      <td>38.0</td>\n",
       "      <td>PC 17599</td>\n",
       "      <td>71.2833</td>\n",
       "      <td>C</td>\n",
       "      <td>known</td>\n",
       "      <td>young</td>\n",
       "      <td>very_high</td>\n",
       "      <td>1</td>\n",
       "      <td>medium</td>\n",
       "    </tr>\n",
       "    <tr>\n",
       "      <th>3</th>\n",
       "      <td>3</td>\n",
       "      <td>female</td>\n",
       "      <td>26.0</td>\n",
       "      <td>STON/O2. 3101282</td>\n",
       "      <td>7.9250</td>\n",
       "      <td>S</td>\n",
       "      <td>known</td>\n",
       "      <td>young</td>\n",
       "      <td>medium</td>\n",
       "      <td>0</td>\n",
       "      <td>alone</td>\n",
       "    </tr>\n",
       "    <tr>\n",
       "      <th>4</th>\n",
       "      <td>1</td>\n",
       "      <td>female</td>\n",
       "      <td>35.0</td>\n",
       "      <td>113803</td>\n",
       "      <td>53.1000</td>\n",
       "      <td>S</td>\n",
       "      <td>known</td>\n",
       "      <td>young</td>\n",
       "      <td>very_high</td>\n",
       "      <td>1</td>\n",
       "      <td>medium</td>\n",
       "    </tr>\n",
       "    <tr>\n",
       "      <th>5</th>\n",
       "      <td>3</td>\n",
       "      <td>male</td>\n",
       "      <td>35.0</td>\n",
       "      <td>373450</td>\n",
       "      <td>8.0500</td>\n",
       "      <td>S</td>\n",
       "      <td>known</td>\n",
       "      <td>young</td>\n",
       "      <td>medium</td>\n",
       "      <td>0</td>\n",
       "      <td>alone</td>\n",
       "    </tr>\n",
       "  </tbody>\n",
       "</table>\n",
       "</div>"
      ],
      "text/plain": [
       "             Pclass     Sex   Age            Ticket     Fare Embarked Prefix  \\\n",
       "PassengerId                                                                    \n",
       "1                 3    male  22.0         A/5 21171   7.2500        S  known   \n",
       "2                 1  female  38.0          PC 17599  71.2833        C  known   \n",
       "3                 3  female  26.0  STON/O2. 3101282   7.9250        S  known   \n",
       "4                 1  female  35.0            113803  53.1000        S  known   \n",
       "5                 3    male  35.0            373450   8.0500        S  known   \n",
       "\n",
       "            Age_Cat   Fare_Cat  Family Family_Size  \n",
       "PassengerId                                         \n",
       "1             young        low       1      medium  \n",
       "2             young  very_high       1      medium  \n",
       "3             young     medium       0       alone  \n",
       "4             young  very_high       1      medium  \n",
       "5             young     medium       0       alone  "
      ]
     },
     "execution_count": 43,
     "metadata": {},
     "output_type": "execute_result"
    }
   ],
   "source": [
    "X.head()"
   ]
  },
  {
   "cell_type": "code",
   "execution_count": 44,
   "id": "69d43182-033d-4d4e-8315-e33adcd03d4b",
   "metadata": {},
   "outputs": [
    {
     "data": {
      "text/html": [
       "<div>\n",
       "<style scoped>\n",
       "    .dataframe tbody tr th:only-of-type {\n",
       "        vertical-align: middle;\n",
       "    }\n",
       "\n",
       "    .dataframe tbody tr th {\n",
       "        vertical-align: top;\n",
       "    }\n",
       "\n",
       "    .dataframe thead th {\n",
       "        text-align: right;\n",
       "    }\n",
       "</style>\n",
       "<table border=\"1\" class=\"dataframe\">\n",
       "  <thead>\n",
       "    <tr style=\"text-align: right;\">\n",
       "      <th></th>\n",
       "      <th>Pclass</th>\n",
       "      <th>Sex</th>\n",
       "      <th>Age</th>\n",
       "      <th>Ticket</th>\n",
       "      <th>Fare</th>\n",
       "      <th>Embarked</th>\n",
       "      <th>Prefix</th>\n",
       "      <th>Age_Cat</th>\n",
       "      <th>Fare_Cat</th>\n",
       "      <th>Family</th>\n",
       "      <th>Family_Size</th>\n",
       "    </tr>\n",
       "    <tr>\n",
       "      <th>PassengerId</th>\n",
       "      <th></th>\n",
       "      <th></th>\n",
       "      <th></th>\n",
       "      <th></th>\n",
       "      <th></th>\n",
       "      <th></th>\n",
       "      <th></th>\n",
       "      <th></th>\n",
       "      <th></th>\n",
       "      <th></th>\n",
       "      <th></th>\n",
       "    </tr>\n",
       "  </thead>\n",
       "  <tbody>\n",
       "    <tr>\n",
       "      <th>892</th>\n",
       "      <td>3</td>\n",
       "      <td>male</td>\n",
       "      <td>34.5</td>\n",
       "      <td>330911</td>\n",
       "      <td>7.8292</td>\n",
       "      <td>Q</td>\n",
       "      <td>known</td>\n",
       "      <td>young</td>\n",
       "      <td>low</td>\n",
       "      <td>0</td>\n",
       "      <td>alone</td>\n",
       "    </tr>\n",
       "    <tr>\n",
       "      <th>893</th>\n",
       "      <td>3</td>\n",
       "      <td>female</td>\n",
       "      <td>47.0</td>\n",
       "      <td>363272</td>\n",
       "      <td>7.0000</td>\n",
       "      <td>S</td>\n",
       "      <td>known</td>\n",
       "      <td>adult</td>\n",
       "      <td>low</td>\n",
       "      <td>1</td>\n",
       "      <td>medium</td>\n",
       "    </tr>\n",
       "    <tr>\n",
       "      <th>894</th>\n",
       "      <td>2</td>\n",
       "      <td>male</td>\n",
       "      <td>62.0</td>\n",
       "      <td>240276</td>\n",
       "      <td>9.6875</td>\n",
       "      <td>Q</td>\n",
       "      <td>known</td>\n",
       "      <td>senior</td>\n",
       "      <td>medium</td>\n",
       "      <td>0</td>\n",
       "      <td>alone</td>\n",
       "    </tr>\n",
       "    <tr>\n",
       "      <th>895</th>\n",
       "      <td>3</td>\n",
       "      <td>male</td>\n",
       "      <td>27.0</td>\n",
       "      <td>315154</td>\n",
       "      <td>8.6625</td>\n",
       "      <td>S</td>\n",
       "      <td>known</td>\n",
       "      <td>young</td>\n",
       "      <td>medium</td>\n",
       "      <td>0</td>\n",
       "      <td>alone</td>\n",
       "    </tr>\n",
       "    <tr>\n",
       "      <th>896</th>\n",
       "      <td>3</td>\n",
       "      <td>female</td>\n",
       "      <td>22.0</td>\n",
       "      <td>3101298</td>\n",
       "      <td>12.2875</td>\n",
       "      <td>S</td>\n",
       "      <td>known</td>\n",
       "      <td>young</td>\n",
       "      <td>medium</td>\n",
       "      <td>2</td>\n",
       "      <td>medium</td>\n",
       "    </tr>\n",
       "  </tbody>\n",
       "</table>\n",
       "</div>"
      ],
      "text/plain": [
       "             Pclass     Sex   Age   Ticket     Fare Embarked Prefix Age_Cat  \\\n",
       "PassengerId                                                                   \n",
       "892               3    male  34.5   330911   7.8292        Q  known   young   \n",
       "893               3  female  47.0   363272   7.0000        S  known   adult   \n",
       "894               2    male  62.0   240276   9.6875        Q  known  senior   \n",
       "895               3    male  27.0   315154   8.6625        S  known   young   \n",
       "896               3  female  22.0  3101298  12.2875        S  known   young   \n",
       "\n",
       "            Fare_Cat  Family Family_Size  \n",
       "PassengerId                               \n",
       "892              low       0       alone  \n",
       "893              low       1      medium  \n",
       "894           medium       0       alone  \n",
       "895           medium       0       alone  \n",
       "896           medium       2      medium  "
      ]
     },
     "execution_count": 44,
     "metadata": {},
     "output_type": "execute_result"
    }
   ],
   "source": [
    "X_test.head()"
   ]
  },
  {
   "cell_type": "code",
   "execution_count": null,
   "id": "be33e67f-32e0-42e2-9fd0-e3de60faace2",
   "metadata": {},
   "outputs": [],
   "source": []
  }
 ],
 "metadata": {
  "kernelspec": {
   "display_name": "Python 3 (ipykernel)",
   "language": "python",
   "name": "python3"
  },
  "language_info": {
   "codemirror_mode": {
    "name": "ipython",
    "version": 3
   },
   "file_extension": ".py",
   "mimetype": "text/x-python",
   "name": "python",
   "nbconvert_exporter": "python",
   "pygments_lexer": "ipython3",
   "version": "3.8.5"
  },
  "toc-autonumbering": false
 },
 "nbformat": 4,
 "nbformat_minor": 5
}
