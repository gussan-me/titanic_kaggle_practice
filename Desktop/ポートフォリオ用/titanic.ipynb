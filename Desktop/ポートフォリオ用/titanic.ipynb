{
 "cells": [
  {
   "cell_type": "markdown",
   "id": "79a34645-8c62-4f9d-a366-b7a9a32a1b53",
   "metadata": {},
   "source": [
    "# Inport Data Analytics Libraries"
   ]
  },
  {
   "cell_type": "code",
   "execution_count": 1,
   "id": "20d07584-7ec5-4f06-a3ff-01d65acadbaf",
   "metadata": {},
   "outputs": [],
   "source": [
    "import numpy as np\n",
    "import pandas as pd\n",
    "import matplotlib.pyplot as plt\n",
    "import seaborn as sns\n",
    "from scipy import stats\n",
    "import scipy.stats\n",
    "from math import ceil"
   ]
  },
  {
   "cell_type": "markdown",
   "id": "c41860a5-5d87-45f1-9997-25e9295dd3a4",
   "metadata": {
    "tags": []
   },
   "source": [
    "# Import Machine Learning Libraries"
   ]
  },
  {
   "cell_type": "code",
   "execution_count": 2,
   "id": "3155d04a-9e08-484e-abd9-ea6c12e17aaa",
   "metadata": {},
   "outputs": [],
   "source": [
    "from sklearn.pipeline import Pipeline\n",
    "\n",
    "# To perform operations on columns:\n",
    "from sklearn.compose import ColumnTransformer\n",
    "from sklearn.impute import SimpleImputer\n",
    "from sklearn.preprocessing import OneHotEncoder\n",
    "\n",
    "# ML algorithms:\n",
    "from xgboost import XGBClassifier\n",
    "\n",
    "# To evaluate performance model:\n",
    "from sklearn.model_selection import GridSearchCV, ParameterGrid\n",
    "from sklearn.metrics import confusion_matrix, classification_report\n",
    "from sklearn.metrics import accuracy_score, recall_score, precision_score, f1_score"
   ]
  },
  {
   "cell_type": "code",
   "execution_count": 3,
   "id": "2ca15d62-89d3-46f8-8268-de77d581544d",
   "metadata": {},
   "outputs": [],
   "source": [
    "# データ読み込み\n",
    "X_y = pd.read_csv('titanic/train.csv', index_col='PassengerId')\n",
    "X_test = pd.read_csv('titanic/test.csv', index_col='PassengerId')\n",
    "\n",
    "# ターゲットが存在しない行を削除する\n",
    "X_y = X_y.dropna(subset=['Survived'], axis=0)\n",
    "\n",
    "# ターゲットyを予測変数Xから分離する\n",
    "X = X_y.copy()\n",
    "y = X.pop('Survived')"
   ]
  },
  {
   "cell_type": "markdown",
   "id": "5a7fda8d-dff3-4be5-8e9b-a16a30102e6c",
   "metadata": {},
   "source": [
    "# 2)X,y Summary"
   ]
  },
  {
   "cell_type": "code",
   "execution_count": 4,
   "id": "97932bad-0af4-4a39-9048-45e37b43b69a",
   "metadata": {},
   "outputs": [
    {
     "data": {
      "text/html": [
       "<div>\n",
       "<style scoped>\n",
       "    .dataframe tbody tr th:only-of-type {\n",
       "        vertical-align: middle;\n",
       "    }\n",
       "\n",
       "    .dataframe tbody tr th {\n",
       "        vertical-align: top;\n",
       "    }\n",
       "\n",
       "    .dataframe thead th {\n",
       "        text-align: right;\n",
       "    }\n",
       "</style>\n",
       "<table border=\"1\" class=\"dataframe\">\n",
       "  <thead>\n",
       "    <tr style=\"text-align: right;\">\n",
       "      <th></th>\n",
       "      <th>Pclass</th>\n",
       "      <th>Name</th>\n",
       "      <th>Sex</th>\n",
       "      <th>Age</th>\n",
       "      <th>SibSp</th>\n",
       "      <th>Parch</th>\n",
       "      <th>Ticket</th>\n",
       "      <th>Fare</th>\n",
       "      <th>Cabin</th>\n",
       "      <th>Embarked</th>\n",
       "    </tr>\n",
       "    <tr>\n",
       "      <th>PassengerId</th>\n",
       "      <th></th>\n",
       "      <th></th>\n",
       "      <th></th>\n",
       "      <th></th>\n",
       "      <th></th>\n",
       "      <th></th>\n",
       "      <th></th>\n",
       "      <th></th>\n",
       "      <th></th>\n",
       "      <th></th>\n",
       "    </tr>\n",
       "  </thead>\n",
       "  <tbody>\n",
       "    <tr>\n",
       "      <th>1</th>\n",
       "      <td>3</td>\n",
       "      <td>Braund, Mr. Owen Harris</td>\n",
       "      <td>male</td>\n",
       "      <td>22.0</td>\n",
       "      <td>1</td>\n",
       "      <td>0</td>\n",
       "      <td>A/5 21171</td>\n",
       "      <td>7.2500</td>\n",
       "      <td>NaN</td>\n",
       "      <td>S</td>\n",
       "    </tr>\n",
       "    <tr>\n",
       "      <th>2</th>\n",
       "      <td>1</td>\n",
       "      <td>Cumings, Mrs. John Bradley (Florence Briggs Th...</td>\n",
       "      <td>female</td>\n",
       "      <td>38.0</td>\n",
       "      <td>1</td>\n",
       "      <td>0</td>\n",
       "      <td>PC 17599</td>\n",
       "      <td>71.2833</td>\n",
       "      <td>C85</td>\n",
       "      <td>C</td>\n",
       "    </tr>\n",
       "    <tr>\n",
       "      <th>3</th>\n",
       "      <td>3</td>\n",
       "      <td>Heikkinen, Miss. Laina</td>\n",
       "      <td>female</td>\n",
       "      <td>26.0</td>\n",
       "      <td>0</td>\n",
       "      <td>0</td>\n",
       "      <td>STON/O2. 3101282</td>\n",
       "      <td>7.9250</td>\n",
       "      <td>NaN</td>\n",
       "      <td>S</td>\n",
       "    </tr>\n",
       "    <tr>\n",
       "      <th>4</th>\n",
       "      <td>1</td>\n",
       "      <td>Futrelle, Mrs. Jacques Heath (Lily May Peel)</td>\n",
       "      <td>female</td>\n",
       "      <td>35.0</td>\n",
       "      <td>1</td>\n",
       "      <td>0</td>\n",
       "      <td>113803</td>\n",
       "      <td>53.1000</td>\n",
       "      <td>C123</td>\n",
       "      <td>S</td>\n",
       "    </tr>\n",
       "    <tr>\n",
       "      <th>5</th>\n",
       "      <td>3</td>\n",
       "      <td>Allen, Mr. William Henry</td>\n",
       "      <td>male</td>\n",
       "      <td>35.0</td>\n",
       "      <td>0</td>\n",
       "      <td>0</td>\n",
       "      <td>373450</td>\n",
       "      <td>8.0500</td>\n",
       "      <td>NaN</td>\n",
       "      <td>S</td>\n",
       "    </tr>\n",
       "  </tbody>\n",
       "</table>\n",
       "</div>"
      ],
      "text/plain": [
       "             Pclass                                               Name  \\\n",
       "PassengerId                                                              \n",
       "1                 3                            Braund, Mr. Owen Harris   \n",
       "2                 1  Cumings, Mrs. John Bradley (Florence Briggs Th...   \n",
       "3                 3                             Heikkinen, Miss. Laina   \n",
       "4                 1       Futrelle, Mrs. Jacques Heath (Lily May Peel)   \n",
       "5                 3                           Allen, Mr. William Henry   \n",
       "\n",
       "                Sex   Age  SibSp  Parch            Ticket     Fare Cabin  \\\n",
       "PassengerId                                                                \n",
       "1              male  22.0      1      0         A/5 21171   7.2500   NaN   \n",
       "2            female  38.0      1      0          PC 17599  71.2833   C85   \n",
       "3            female  26.0      0      0  STON/O2. 3101282   7.9250   NaN   \n",
       "4            female  35.0      1      0            113803  53.1000  C123   \n",
       "5              male  35.0      0      0            373450   8.0500   NaN   \n",
       "\n",
       "            Embarked  \n",
       "PassengerId           \n",
       "1                  S  \n",
       "2                  C  \n",
       "3                  S  \n",
       "4                  S  \n",
       "5                  S  "
      ]
     },
     "execution_count": 4,
     "metadata": {},
     "output_type": "execute_result"
    }
   ],
   "source": [
    "X.head(5)"
   ]
  },
  {
   "cell_type": "code",
   "execution_count": 5,
   "id": "aab84375-8beb-4b0d-8df3-3ff5ccb6e8d1",
   "metadata": {},
   "outputs": [
    {
     "data": {
      "text/plain": [
       "PassengerId\n",
       "1    0\n",
       "2    1\n",
       "3    1\n",
       "4    1\n",
       "5    0\n",
       "Name: Survived, dtype: int64"
      ]
     },
     "execution_count": 5,
     "metadata": {},
     "output_type": "execute_result"
    }
   ],
   "source": [
    "y.head(5)"
   ]
  },
  {
   "cell_type": "code",
   "execution_count": 6,
   "id": "8699c1f0-bd3c-42c4-946d-8ab8525b78fa",
   "metadata": {},
   "outputs": [],
   "source": [
    "# 関数を作成しておく\n",
    "def show_info(X, X_test):\n",
    "    DataTypes = pd.DataFrame(X.dtypes.value_counts(),columns=['X'])\n",
    "    DataTypes['X_test'] = X.dtypes.value_counts().values\n",
    "    print(\"Number of Columns with different Data Types:\\n\")\n",
    "    print(DataTypes,'\\n')\n",
    "    \n",
    "    info = pd.DataFrame(X.dtypes, columns=['Dtype'])\n",
    "    info['Unique_X'] = X.nunique().values\n",
    "    info['Unique_X_test'] = X_test.nunique().values\n",
    "    info['Null_X'] = X.isnull().sum().values\n",
    "    info['Null_X_test'] = X_test.isnull().sum().values\n",
    "    return info"
   ]
  },
  {
   "cell_type": "code",
   "execution_count": 7,
   "id": "3292fde8-9a24-4509-8089-8b778422d8d5",
   "metadata": {},
   "outputs": [
    {
     "name": "stdout",
     "output_type": "stream",
     "text": [
      "Number of Columns with different Data Types:\n",
      "\n",
      "         X  X_test\n",
      "object   5       5\n",
      "int64    3       3\n",
      "float64  2       2 \n",
      "\n"
     ]
    }
   ],
   "source": [
    "DataTypes = pd.DataFrame(X.dtypes.value_counts(),columns=['X'])\n",
    "DataTypes['X_test'] = X.dtypes.value_counts().values\n",
    "print(\"Number of Columns with different Data Types:\\n\")\n",
    "print(DataTypes,'\\n')"
   ]
  },
  {
   "cell_type": "code",
   "execution_count": 8,
   "id": "a24b3de6-6217-4265-be9e-6eb1c862980c",
   "metadata": {},
   "outputs": [
    {
     "name": "stdout",
     "output_type": "stream",
     "text": [
      "Number of Columns with different Data Types:\n",
      "\n",
      "         X  X_test\n",
      "object   5       5\n",
      "int64    3       3\n",
      "float64  2       2 \n",
      "\n"
     ]
    },
    {
     "data": {
      "text/html": [
       "<div>\n",
       "<style scoped>\n",
       "    .dataframe tbody tr th:only-of-type {\n",
       "        vertical-align: middle;\n",
       "    }\n",
       "\n",
       "    .dataframe tbody tr th {\n",
       "        vertical-align: top;\n",
       "    }\n",
       "\n",
       "    .dataframe thead th {\n",
       "        text-align: right;\n",
       "    }\n",
       "</style>\n",
       "<table border=\"1\" class=\"dataframe\">\n",
       "  <thead>\n",
       "    <tr style=\"text-align: right;\">\n",
       "      <th></th>\n",
       "      <th>Dtype</th>\n",
       "      <th>Unique_X</th>\n",
       "      <th>Unique_X_test</th>\n",
       "      <th>Null_X</th>\n",
       "      <th>Null_X_test</th>\n",
       "    </tr>\n",
       "  </thead>\n",
       "  <tbody>\n",
       "    <tr>\n",
       "      <th>Pclass</th>\n",
       "      <td>int64</td>\n",
       "      <td>3</td>\n",
       "      <td>3</td>\n",
       "      <td>0</td>\n",
       "      <td>0</td>\n",
       "    </tr>\n",
       "    <tr>\n",
       "      <th>Name</th>\n",
       "      <td>object</td>\n",
       "      <td>891</td>\n",
       "      <td>418</td>\n",
       "      <td>0</td>\n",
       "      <td>0</td>\n",
       "    </tr>\n",
       "    <tr>\n",
       "      <th>Sex</th>\n",
       "      <td>object</td>\n",
       "      <td>2</td>\n",
       "      <td>2</td>\n",
       "      <td>0</td>\n",
       "      <td>0</td>\n",
       "    </tr>\n",
       "    <tr>\n",
       "      <th>Age</th>\n",
       "      <td>float64</td>\n",
       "      <td>88</td>\n",
       "      <td>79</td>\n",
       "      <td>177</td>\n",
       "      <td>86</td>\n",
       "    </tr>\n",
       "    <tr>\n",
       "      <th>SibSp</th>\n",
       "      <td>int64</td>\n",
       "      <td>7</td>\n",
       "      <td>7</td>\n",
       "      <td>0</td>\n",
       "      <td>0</td>\n",
       "    </tr>\n",
       "    <tr>\n",
       "      <th>Parch</th>\n",
       "      <td>int64</td>\n",
       "      <td>7</td>\n",
       "      <td>8</td>\n",
       "      <td>0</td>\n",
       "      <td>0</td>\n",
       "    </tr>\n",
       "    <tr>\n",
       "      <th>Ticket</th>\n",
       "      <td>object</td>\n",
       "      <td>681</td>\n",
       "      <td>363</td>\n",
       "      <td>0</td>\n",
       "      <td>0</td>\n",
       "    </tr>\n",
       "    <tr>\n",
       "      <th>Fare</th>\n",
       "      <td>float64</td>\n",
       "      <td>248</td>\n",
       "      <td>169</td>\n",
       "      <td>0</td>\n",
       "      <td>1</td>\n",
       "    </tr>\n",
       "    <tr>\n",
       "      <th>Cabin</th>\n",
       "      <td>object</td>\n",
       "      <td>147</td>\n",
       "      <td>76</td>\n",
       "      <td>687</td>\n",
       "      <td>327</td>\n",
       "    </tr>\n",
       "    <tr>\n",
       "      <th>Embarked</th>\n",
       "      <td>object</td>\n",
       "      <td>3</td>\n",
       "      <td>3</td>\n",
       "      <td>2</td>\n",
       "      <td>0</td>\n",
       "    </tr>\n",
       "  </tbody>\n",
       "</table>\n",
       "</div>"
      ],
      "text/plain": [
       "            Dtype  Unique_X  Unique_X_test  Null_X  Null_X_test\n",
       "Pclass      int64         3              3       0            0\n",
       "Name       object       891            418       0            0\n",
       "Sex        object         2              2       0            0\n",
       "Age       float64        88             79     177           86\n",
       "SibSp       int64         7              7       0            0\n",
       "Parch       int64         7              8       0            0\n",
       "Ticket     object       681            363       0            0\n",
       "Fare      float64       248            169       0            1\n",
       "Cabin      object       147             76     687          327\n",
       "Embarked   object         3              3       2            0"
      ]
     },
     "execution_count": 8,
     "metadata": {},
     "output_type": "execute_result"
    }
   ],
   "source": [
    "show_info(X, X_test)"
   ]
  },
  {
   "cell_type": "code",
   "execution_count": 9,
   "id": "65ebe5fc-ee0e-4c96-92af-7dccb6fd6d12",
   "metadata": {},
   "outputs": [
    {
     "data": {
      "text/plain": [
       "PassengerId\n",
       "1    0\n",
       "2    1\n",
       "3    1\n",
       "4    1\n",
       "5    0\n",
       "Name: Survived, dtype: int64"
      ]
     },
     "execution_count": 9,
     "metadata": {},
     "output_type": "execute_result"
    }
   ],
   "source": [
    "y.head(5)"
   ]
  },
  {
   "cell_type": "markdown",
   "id": "2fd398d2-1de7-4bca-8912-ef99f24c5214",
   "metadata": {},
   "source": [
    "# 3)Data Cleaning"
   ]
  },
  {
   "cell_type": "code",
   "execution_count": 10,
   "id": "b5bffd93-916c-49ee-92d2-a07152ac716f",
   "metadata": {},
   "outputs": [],
   "source": [
    "def show_null_values(X, X_test):\n",
    "    \n",
    "    # Xのそれぞれのカラムの欠損値の数を抽出\n",
    "    null_values = pd.DataFrame(X.isnull().sum(), columns=['Train Data'])\n",
    "    # X_testのそれぞれのカラムの欠損値の数を抽出\n",
    "    null_values['Test Data'] = X_test.isnull().sum().values\n",
    "    \n",
    "    # Train Data　or Test Dataのどちらかが０ではないデータを抽出する。\n",
    "    null_values = null_values.loc[(null_values['Train Data']!=0) | (null_values['Test Data']!=0)]\n",
    "    # Train Data, Test Data で降順にソートする。\n",
    "    null_values = null_values.sort_values(by=['Train Data', 'Test Data'], ascending=False)\n",
    "    \n",
    "    print(\"Total missing values:\\n\",null_values.sum(),'\\n',sep='')\n",
    "    \n",
    "    return null_values"
   ]
  },
  {
   "cell_type": "code",
   "execution_count": 11,
   "id": "78f5e867-380a-4591-9489-b06c0e840c46",
   "metadata": {},
   "outputs": [
    {
     "name": "stdout",
     "output_type": "stream",
     "text": [
      "Total missing values:\n",
      "Train Data    866\n",
      "Test Data     414\n",
      "dtype: int64\n",
      "\n"
     ]
    },
    {
     "data": {
      "text/html": [
       "<div>\n",
       "<style scoped>\n",
       "    .dataframe tbody tr th:only-of-type {\n",
       "        vertical-align: middle;\n",
       "    }\n",
       "\n",
       "    .dataframe tbody tr th {\n",
       "        vertical-align: top;\n",
       "    }\n",
       "\n",
       "    .dataframe thead th {\n",
       "        text-align: right;\n",
       "    }\n",
       "</style>\n",
       "<table border=\"1\" class=\"dataframe\">\n",
       "  <thead>\n",
       "    <tr style=\"text-align: right;\">\n",
       "      <th></th>\n",
       "      <th>Train Data</th>\n",
       "      <th>Test Data</th>\n",
       "    </tr>\n",
       "  </thead>\n",
       "  <tbody>\n",
       "    <tr>\n",
       "      <th>Cabin</th>\n",
       "      <td>687</td>\n",
       "      <td>327</td>\n",
       "    </tr>\n",
       "    <tr>\n",
       "      <th>Age</th>\n",
       "      <td>177</td>\n",
       "      <td>86</td>\n",
       "    </tr>\n",
       "    <tr>\n",
       "      <th>Embarked</th>\n",
       "      <td>2</td>\n",
       "      <td>0</td>\n",
       "    </tr>\n",
       "    <tr>\n",
       "      <th>Fare</th>\n",
       "      <td>0</td>\n",
       "      <td>1</td>\n",
       "    </tr>\n",
       "  </tbody>\n",
       "</table>\n",
       "</div>"
      ],
      "text/plain": [
       "          Train Data  Test Data\n",
       "Cabin            687        327\n",
       "Age              177         86\n",
       "Embarked           2          0\n",
       "Fare               0          1"
      ]
     },
     "execution_count": 11,
     "metadata": {},
     "output_type": "execute_result"
    }
   ],
   "source": [
    "# メソッド呼び出し\n",
    "show_null_values(X, X_test)"
   ]
  },
  {
   "cell_type": "code",
   "execution_count": 12,
   "id": "9b943da3-2d96-4a31-b69c-f03f7bdd3514",
   "metadata": {},
   "outputs": [
    {
     "data": {
      "text/plain": [
       "['Cabin']"
      ]
     },
     "execution_count": 12,
     "metadata": {},
     "output_type": "execute_result"
    }
   ],
   "source": [
    "# 半分以上の値が欠損している列を表示する。\n",
    "null_columns = [col for col in X.columns if X[col].isnull().sum() > len(X)/2]\n",
    "null_columns"
   ]
  },
  {
   "cell_type": "code",
   "execution_count": 13,
   "id": "362a0b31-ae65-4b1b-877f-470359db20cf",
   "metadata": {},
   "outputs": [],
   "source": [
    "# 上記のカラムを削除する。\n",
    "# dropの引数のaxisはデフォルトが０で、axis=0は行の意味。\n",
    "X = X.drop(null_columns, axis=1)\n",
    "X_test = X_test.drop(null_columns, axis=1)"
   ]
  },
  {
   "cell_type": "markdown",
   "id": "219b6b40-2acc-4020-842b-2fc524e98de2",
   "metadata": {},
   "source": [
    "## 外れ値を探す"
   ]
  },
  {
   "cell_type": "code",
   "execution_count": 14,
   "id": "1c99c4cd-b0d9-4c8f-aa3f-f0a4dac5efd2",
   "metadata": {},
   "outputs": [
    {
     "data": {
      "text/plain": [
       "<AxesSubplot: >"
      ]
     },
     "execution_count": 14,
     "metadata": {},
     "output_type": "execute_result"
    },
    {
     "data": {
      "image/png": "[encoded data removed]",
      "text/plain": [
       "<Figure size 640x480 with 1 Axes>"
      ]
     },
     "metadata": {},
     "output_type": "display_data"
    }
   ],
   "source": [
    "X.plot.box()"
   ]
  },
  {
   "cell_type": "code",
   "execution_count": 15,
   "id": "d8bda5e3-ace4-4608-92af-089cef03222d",
   "metadata": {},
   "outputs": [
    {
     "data": {
      "text/html": [
       "<div>\n",
       "<style scoped>\n",
       "    .dataframe tbody tr th:only-of-type {\n",
       "        vertical-align: middle;\n",
       "    }\n",
       "\n",
       "    .dataframe tbody tr th {\n",
       "        vertical-align: top;\n",
       "    }\n",
       "\n",
       "    .dataframe thead th {\n",
       "        text-align: right;\n",
       "    }\n",
       "</style>\n",
       "<table border=\"1\" class=\"dataframe\">\n",
       "  <thead>\n",
       "    <tr style=\"text-align: right;\">\n",
       "      <th></th>\n",
       "      <th>Pclass</th>\n",
       "      <th>Name</th>\n",
       "      <th>Sex</th>\n",
       "      <th>Age</th>\n",
       "      <th>SibSp</th>\n",
       "      <th>Parch</th>\n",
       "      <th>Ticket</th>\n",
       "      <th>Fare</th>\n",
       "      <th>Embarked</th>\n",
       "    </tr>\n",
       "    <tr>\n",
       "      <th>PassengerId</th>\n",
       "      <th></th>\n",
       "      <th></th>\n",
       "      <th></th>\n",
       "      <th></th>\n",
       "      <th></th>\n",
       "      <th></th>\n",
       "      <th></th>\n",
       "      <th></th>\n",
       "      <th></th>\n",
       "    </tr>\n",
       "  </thead>\n",
       "  <tbody>\n",
       "    <tr>\n",
       "      <th>259</th>\n",
       "      <td>1</td>\n",
       "      <td>Ward, Miss. Anna</td>\n",
       "      <td>female</td>\n",
       "      <td>35.0</td>\n",
       "      <td>0</td>\n",
       "      <td>0</td>\n",
       "      <td>PC 17755</td>\n",
       "      <td>512.3292</td>\n",
       "      <td>C</td>\n",
       "    </tr>\n",
       "    <tr>\n",
       "      <th>680</th>\n",
       "      <td>1</td>\n",
       "      <td>Cardeza, Mr. Thomas Drake Martinez</td>\n",
       "      <td>male</td>\n",
       "      <td>36.0</td>\n",
       "      <td>0</td>\n",
       "      <td>1</td>\n",
       "      <td>PC 17755</td>\n",
       "      <td>512.3292</td>\n",
       "      <td>C</td>\n",
       "    </tr>\n",
       "    <tr>\n",
       "      <th>738</th>\n",
       "      <td>1</td>\n",
       "      <td>Lesurer, Mr. Gustave J</td>\n",
       "      <td>male</td>\n",
       "      <td>35.0</td>\n",
       "      <td>0</td>\n",
       "      <td>0</td>\n",
       "      <td>PC 17755</td>\n",
       "      <td>512.3292</td>\n",
       "      <td>C</td>\n",
       "    </tr>\n",
       "  </tbody>\n",
       "</table>\n",
       "</div>"
      ],
      "text/plain": [
       "             Pclass                                Name     Sex   Age  SibSp  \\\n",
       "PassengerId                                                                    \n",
       "259               1                    Ward, Miss. Anna  female  35.0      0   \n",
       "680               1  Cardeza, Mr. Thomas Drake Martinez    male  36.0      0   \n",
       "738               1              Lesurer, Mr. Gustave J    male  35.0      0   \n",
       "\n",
       "             Parch    Ticket      Fare Embarked  \n",
       "PassengerId                                      \n",
       "259              0  PC 17755  512.3292        C  \n",
       "680              1  PC 17755  512.3292        C  \n",
       "738              0  PC 17755  512.3292        C  "
      ]
     },
     "execution_count": 15,
     "metadata": {},
     "output_type": "execute_result"
    }
   ],
   "source": [
    "# Fareの外れ値（？）がありそうなため確認する。\n",
    "outlier = X.query('Fare >= 500')\n",
    "outlier = outlier.sort_values('Fare', ascending=False)\n",
    "outlier"
   ]
  },
  {
   "cell_type": "code",
   "execution_count": 16,
   "id": "e1d60d09-ab7d-4998-84c6-efc06b0a52a5",
   "metadata": {},
   "outputs": [
    {
     "data": {
      "text/plain": [
       "count    891.000000\n",
       "mean      32.204208\n",
       "std       49.693429\n",
       "min        0.000000\n",
       "25%        7.910400\n",
       "50%       14.454200\n",
       "75%       31.000000\n",
       "max      512.329200\n",
       "Name: Fare, dtype: float64"
      ]
     },
     "execution_count": 16,
     "metadata": {},
     "output_type": "execute_result"
    }
   ],
   "source": [
    "X['Fare'].describe()"
   ]
  },
  {
   "cell_type": "code",
   "execution_count": 17,
   "id": "5f69229d-2506-4c2b-b42a-e880dabc0d01",
   "metadata": {},
   "outputs": [
    {
     "name": "stderr",
     "output_type": "stream",
     "text": [
      "/var/folders/h_/nlz7m_v57ls6456wjyb923100000gn/T/ipykernel_19810/2199547663.py:6: UserWarning: \n",
      "\n",
      "`distplot` is a deprecated function and will be removed in seaborn v0.14.0.\n",
      "\n",
      "Please adapt your code to use either `displot` (a figure-level function with\n",
      "similar flexibility) or `histplot` (an axes-level function for histograms).\n",
      "\n",
      "For a guide to updating your code to use the new functions, please see\n",
      "https://gist.github.com/mwaskom/de44147ed2974457ad6372750bbe5751\n",
      "\n",
      "  sns.distplot(df[column], kde=True, rug=False, bins=bins)\n"
     ]
    },
    {
     "data": {
      "image/png": "[encoded data removed]",
      "text/plain": [
       "<Figure size 640x480 with 1 Axes>"
      ]
     },
     "metadata": {},
     "output_type": "display_data"
    }
   ],
   "source": [
    "X[\"Fare\"] = scipy.stats.mstats.winsorize(X[\"Fare\"], limits=[0.01, 0.01])\n",
    "# winsorization・・・上限と下限から外れる値を上限値、下限値に置き換える。（今回は1%~99%の範囲で丸めている。）->Fareが500以上で、データが存在していたが除去することができた。\n",
    "\n",
    "# 小数データをヒストグラムで表示\n",
    "def plot_float(df, column, bins=10):\n",
    "    sns.distplot(df[column], kde=True, rug=False, bins=bins)\n",
    "    plt.title(column)\n",
    "    plt.tight_layout()\n",
    "    plt.show()\n",
    "\n",
    "# 外れ値を除外した結果をplot\n",
    "plot_float(X, \"Fare\")"
   ]
  },
  {
   "cell_type": "markdown",
   "id": "0e91df09-2c93-463e-89ca-f3fd1e43e0fd",
   "metadata": {},
   "source": [
    "# 4)探索的データ分析"
   ]
  },
  {
   "cell_type": "markdown",
   "id": "f2328d24-fe2f-465f-bce5-b4d7e8595366",
   "metadata": {},
   "source": [
    "### 基本統計量"
   ]
  },
  {
   "cell_type": "code",
   "execution_count": 18,
   "id": "71995672-cc8f-4565-aedc-e758e9a69e81",
   "metadata": {},
   "outputs": [
    {
     "name": "stderr",
     "output_type": "stream",
     "text": [
      "/Users/yamaguchiayumiyume/.pyenv/versions/3.8.5/lib/python3.8/site-packages/numpy/lib/function_base.py:4691: UserWarning: Warning: 'partition' will ignore the 'mask' of the MaskedArray.\n",
      "  arr.partition(\n",
      "/Users/yamaguchiayumiyume/.pyenv/versions/3.8.5/lib/python3.8/site-packages/numpy/lib/function_base.py:4691: UserWarning: Warning: 'partition' will ignore the 'mask' of the MaskedArray.\n",
      "  arr.partition(\n"
     ]
    },
    {
     "data": {
      "text/html": [
       "<div>\n",
       "<style scoped>\n",
       "    .dataframe tbody tr th:only-of-type {\n",
       "        vertical-align: middle;\n",
       "    }\n",
       "\n",
       "    .dataframe tbody tr th {\n",
       "        vertical-align: top;\n",
       "    }\n",
       "\n",
       "    .dataframe thead th {\n",
       "        text-align: right;\n",
       "    }\n",
       "</style>\n",
       "<table border=\"1\" class=\"dataframe\">\n",
       "  <thead>\n",
       "    <tr style=\"text-align: right;\">\n",
       "      <th></th>\n",
       "      <th>Pclass</th>\n",
       "      <th>Age</th>\n",
       "      <th>SibSp</th>\n",
       "      <th>Parch</th>\n",
       "      <th>Fare</th>\n",
       "    </tr>\n",
       "  </thead>\n",
       "  <tbody>\n",
       "    <tr>\n",
       "      <th>count</th>\n",
       "      <td>891.000000</td>\n",
       "      <td>714.000000</td>\n",
       "      <td>891.000000</td>\n",
       "      <td>891.000000</td>\n",
       "      <td>891.000000</td>\n",
       "    </tr>\n",
       "    <tr>\n",
       "      <th>mean</th>\n",
       "      <td>2.308642</td>\n",
       "      <td>29.699118</td>\n",
       "      <td>0.523008</td>\n",
       "      <td>0.381594</td>\n",
       "      <td>31.359805</td>\n",
       "    </tr>\n",
       "    <tr>\n",
       "      <th>std</th>\n",
       "      <td>0.836071</td>\n",
       "      <td>14.526497</td>\n",
       "      <td>1.102743</td>\n",
       "      <td>0.806057</td>\n",
       "      <td>43.231632</td>\n",
       "    </tr>\n",
       "    <tr>\n",
       "      <th>min</th>\n",
       "      <td>1.000000</td>\n",
       "      <td>0.420000</td>\n",
       "      <td>0.000000</td>\n",
       "      <td>0.000000</td>\n",
       "      <td>0.000000</td>\n",
       "    </tr>\n",
       "    <tr>\n",
       "      <th>25%</th>\n",
       "      <td>2.000000</td>\n",
       "      <td>20.125000</td>\n",
       "      <td>0.000000</td>\n",
       "      <td>0.000000</td>\n",
       "      <td>7.910400</td>\n",
       "    </tr>\n",
       "    <tr>\n",
       "      <th>50%</th>\n",
       "      <td>3.000000</td>\n",
       "      <td>28.000000</td>\n",
       "      <td>0.000000</td>\n",
       "      <td>0.000000</td>\n",
       "      <td>14.454200</td>\n",
       "    </tr>\n",
       "    <tr>\n",
       "      <th>75%</th>\n",
       "      <td>3.000000</td>\n",
       "      <td>38.000000</td>\n",
       "      <td>1.000000</td>\n",
       "      <td>0.000000</td>\n",
       "      <td>31.000000</td>\n",
       "    </tr>\n",
       "    <tr>\n",
       "      <th>max</th>\n",
       "      <td>3.000000</td>\n",
       "      <td>80.000000</td>\n",
       "      <td>8.000000</td>\n",
       "      <td>6.000000</td>\n",
       "      <td>262.375000</td>\n",
       "    </tr>\n",
       "  </tbody>\n",
       "</table>\n",
       "</div>"
      ],
      "text/plain": [
       "           Pclass         Age       SibSp       Parch        Fare\n",
       "count  891.000000  714.000000  891.000000  891.000000  891.000000\n",
       "mean     2.308642   29.699118    0.523008    0.381594   31.359805\n",
       "std      0.836071   14.526497    1.102743    0.806057   43.231632\n",
       "min      1.000000    0.420000    0.000000    0.000000    0.000000\n",
       "25%      2.000000   20.125000    0.000000    0.000000    7.910400\n",
       "50%      3.000000   28.000000    0.000000    0.000000   14.454200\n",
       "75%      3.000000   38.000000    1.000000    0.000000   31.000000\n",
       "max      3.000000   80.000000    8.000000    6.000000  262.375000"
      ]
     },
     "execution_count": 18,
     "metadata": {},
     "output_type": "execute_result"
    }
   ],
   "source": [
    "# 自分\n",
    "X.describe()"
   ]
  },
  {
   "cell_type": "markdown",
   "id": "be68e9c7-dd3a-487e-b06f-230bbb34d2c3",
   "metadata": {},
   "source": [
    "##### ・Pclassは半分以上の人が一番下のクラス（３）\n",
    "##### ・乗客の運賃(Fare)は75%の人が31で、全体の25%の人に限って大金を費やしている。"
   ]
  },
  {
   "cell_type": "markdown",
   "id": "37a6030f-3488-4519-9d0d-d6349585d774",
   "metadata": {
    "tags": []
   },
   "source": [
    "## 相関係数"
   ]
  },
  {
   "cell_type": "code",
   "execution_count": 19,
   "id": "80333110-1d75-4dcb-be6d-f0695e595a91",
   "metadata": {},
   "outputs": [
    {
     "name": "stderr",
     "output_type": "stream",
     "text": [
      "/var/folders/h_/nlz7m_v57ls6456wjyb923100000gn/T/ipykernel_19810/3943350950.py:3: FutureWarning: The default value of numeric_only in DataFrame.corr is deprecated. In a future version, it will default to False. Select only valid columns or specify the value of numeric_only to silence this warning.\n",
      "  correlation_matrix = Xy.corr()\n"
     ]
    },
    {
     "data": {
      "text/plain": [
       "Pclass     -0.338481\n",
       "Age        -0.077221\n",
       "SibSp      -0.035322\n",
       "Parch       0.081629\n",
       "Fare        0.271072\n",
       "Survived    1.000000\n",
       "Name: Survived, dtype: float64"
      ]
     },
     "execution_count": 19,
     "metadata": {},
     "output_type": "execute_result"
    }
   ],
   "source": [
    "Xy = X.join(y)\n",
    "Xy.head(5)\n",
    "correlation_matrix = Xy.corr()\n",
    "correlation_matrix.Survived"
   ]
  },
  {
   "cell_type": "markdown",
   "id": "167f141f-b5fd-4896-9645-b94dd45d4a66",
   "metadata": {},
   "source": [
    "## 性別, Pclass毎の乗客者数や生き残る確率"
   ]
  },
  {
   "cell_type": "code",
   "execution_count": 20,
   "id": "8551d962-099d-44a0-816e-50e28c006490",
   "metadata": {},
   "outputs": [
    {
     "data": {
      "text/html": [
       "<div>\n",
       "<style scoped>\n",
       "    .dataframe tbody tr th:only-of-type {\n",
       "        vertical-align: middle;\n",
       "    }\n",
       "\n",
       "    .dataframe tbody tr th {\n",
       "        vertical-align: top;\n",
       "    }\n",
       "\n",
       "    .dataframe thead th {\n",
       "        text-align: right;\n",
       "    }\n",
       "</style>\n",
       "<table border=\"1\" class=\"dataframe\">\n",
       "  <thead>\n",
       "    <tr style=\"text-align: right;\">\n",
       "      <th></th>\n",
       "      <th></th>\n",
       "      <th>sum</th>\n",
       "      <th>count</th>\n",
       "      <th>survival rate</th>\n",
       "    </tr>\n",
       "    <tr>\n",
       "      <th>Sex</th>\n",
       "      <th>Pclass</th>\n",
       "      <th></th>\n",
       "      <th></th>\n",
       "      <th></th>\n",
       "    </tr>\n",
       "  </thead>\n",
       "  <tbody>\n",
       "    <tr>\n",
       "      <th rowspan=\"3\" valign=\"top\">female</th>\n",
       "      <th>1</th>\n",
       "      <td>91</td>\n",
       "      <td>94</td>\n",
       "      <td>0.97</td>\n",
       "    </tr>\n",
       "    <tr>\n",
       "      <th>2</th>\n",
       "      <td>70</td>\n",
       "      <td>76</td>\n",
       "      <td>0.92</td>\n",
       "    </tr>\n",
       "    <tr>\n",
       "      <th>3</th>\n",
       "      <td>72</td>\n",
       "      <td>144</td>\n",
       "      <td>0.50</td>\n",
       "    </tr>\n",
       "    <tr>\n",
       "      <th rowspan=\"3\" valign=\"top\">male</th>\n",
       "      <th>1</th>\n",
       "      <td>45</td>\n",
       "      <td>122</td>\n",
       "      <td>0.37</td>\n",
       "    </tr>\n",
       "    <tr>\n",
       "      <th>2</th>\n",
       "      <td>17</td>\n",
       "      <td>108</td>\n",
       "      <td>0.16</td>\n",
       "    </tr>\n",
       "    <tr>\n",
       "      <th>3</th>\n",
       "      <td>47</td>\n",
       "      <td>347</td>\n",
       "      <td>0.14</td>\n",
       "    </tr>\n",
       "  </tbody>\n",
       "</table>\n",
       "</div>"
      ],
      "text/plain": [
       "               sum  count  survival rate\n",
       "Sex    Pclass                           \n",
       "female 1        91     94           0.97\n",
       "       2        70     76           0.92\n",
       "       3        72    144           0.50\n",
       "male   1        45    122           0.37\n",
       "       2        17    108           0.16\n",
       "       3        47    347           0.14"
      ]
     },
     "execution_count": 20,
     "metadata": {},
     "output_type": "execute_result"
    }
   ],
   "source": [
    "df1 = Xy.groupby(['Sex', 'Pclass']).Survived.agg(['sum', 'count'])\n",
    "df1['survival rate'] =  round(df1['sum']/df1['count'], 2)\n",
    "df1"
   ]
  },
  {
   "cell_type": "markdown",
   "id": "28333b1c-db25-412f-a651-6b17f2219f89",
   "metadata": {},
   "source": [
    "##### ・女性のPclass1と２では、ほとんどの人が生き残っている。\n",
    "##### ・男性のPclass2と3では、ほとんどの人が生き残ることができていなかった。"
   ]
  },
  {
   "cell_type": "code",
   "execution_count": 21,
   "id": "1c868897-18e3-4c2e-ad0e-64ca84c01563",
   "metadata": {},
   "outputs": [
    {
     "data": {
      "text/html": [
       "<div>\n",
       "<style scoped>\n",
       "    .dataframe tbody tr th:only-of-type {\n",
       "        vertical-align: middle;\n",
       "    }\n",
       "\n",
       "    .dataframe tbody tr th {\n",
       "        vertical-align: top;\n",
       "    }\n",
       "\n",
       "    .dataframe thead th {\n",
       "        text-align: right;\n",
       "    }\n",
       "</style>\n",
       "<table border=\"1\" class=\"dataframe\">\n",
       "  <thead>\n",
       "    <tr style=\"text-align: right;\">\n",
       "      <th></th>\n",
       "      <th></th>\n",
       "      <th>sum</th>\n",
       "      <th>count</th>\n",
       "      <th>survival rate</th>\n",
       "    </tr>\n",
       "    <tr>\n",
       "      <th>Embarked</th>\n",
       "      <th>Pclass</th>\n",
       "      <th></th>\n",
       "      <th></th>\n",
       "      <th></th>\n",
       "    </tr>\n",
       "  </thead>\n",
       "  <tbody>\n",
       "    <tr>\n",
       "      <th rowspan=\"3\" valign=\"top\">C</th>\n",
       "      <th>1</th>\n",
       "      <td>59</td>\n",
       "      <td>85</td>\n",
       "      <td>0.69</td>\n",
       "    </tr>\n",
       "    <tr>\n",
       "      <th>2</th>\n",
       "      <td>9</td>\n",
       "      <td>17</td>\n",
       "      <td>0.53</td>\n",
       "    </tr>\n",
       "    <tr>\n",
       "      <th>3</th>\n",
       "      <td>25</td>\n",
       "      <td>66</td>\n",
       "      <td>0.38</td>\n",
       "    </tr>\n",
       "    <tr>\n",
       "      <th rowspan=\"3\" valign=\"top\">Q</th>\n",
       "      <th>1</th>\n",
       "      <td>1</td>\n",
       "      <td>2</td>\n",
       "      <td>0.50</td>\n",
       "    </tr>\n",
       "    <tr>\n",
       "      <th>2</th>\n",
       "      <td>2</td>\n",
       "      <td>3</td>\n",
       "      <td>0.67</td>\n",
       "    </tr>\n",
       "    <tr>\n",
       "      <th>3</th>\n",
       "      <td>27</td>\n",
       "      <td>72</td>\n",
       "      <td>0.38</td>\n",
       "    </tr>\n",
       "    <tr>\n",
       "      <th rowspan=\"3\" valign=\"top\">S</th>\n",
       "      <th>1</th>\n",
       "      <td>74</td>\n",
       "      <td>127</td>\n",
       "      <td>0.58</td>\n",
       "    </tr>\n",
       "    <tr>\n",
       "      <th>2</th>\n",
       "      <td>76</td>\n",
       "      <td>164</td>\n",
       "      <td>0.46</td>\n",
       "    </tr>\n",
       "    <tr>\n",
       "      <th>3</th>\n",
       "      <td>67</td>\n",
       "      <td>353</td>\n",
       "      <td>0.19</td>\n",
       "    </tr>\n",
       "  </tbody>\n",
       "</table>\n",
       "</div>"
      ],
      "text/plain": [
       "                 sum  count  survival rate\n",
       "Embarked Pclass                           \n",
       "C        1        59     85           0.69\n",
       "         2         9     17           0.53\n",
       "         3        25     66           0.38\n",
       "Q        1         1      2           0.50\n",
       "         2         2      3           0.67\n",
       "         3        27     72           0.38\n",
       "S        1        74    127           0.58\n",
       "         2        76    164           0.46\n",
       "         3        67    353           0.19"
      ]
     },
     "execution_count": 21,
     "metadata": {},
     "output_type": "execute_result"
    }
   ],
   "source": [
    "df2 = Xy.groupby(['Embarked', 'Pclass']).Survived.agg(['sum', 'count'])\n",
    "df2['survival rate'] = round(df2['sum']/df2['count'], 2)\n",
    "df2"
   ]
  },
  {
   "cell_type": "markdown",
   "id": "31b63472-8714-4912-8ef8-f8890276a89a",
   "metadata": {},
   "source": [
    "##### ・最も高い生存率はPclassが１で、Cで乗船した時。\n",
    "##### ・最も生存率が少ないのはPclassが3で、Sで乗船した時。"
   ]
  },
  {
   "cell_type": "code",
   "execution_count": 22,
   "id": "58bd8eac-547e-4c6a-9cbe-cb5ceee56879",
   "metadata": {},
   "outputs": [
    {
     "data": {
      "text/html": [
       "<div>\n",
       "<style scoped>\n",
       "    .dataframe tbody tr th:only-of-type {\n",
       "        vertical-align: middle;\n",
       "    }\n",
       "\n",
       "    .dataframe tbody tr th {\n",
       "        vertical-align: top;\n",
       "    }\n",
       "\n",
       "    .dataframe thead th {\n",
       "        text-align: right;\n",
       "    }\n",
       "</style>\n",
       "<table border=\"1\" class=\"dataframe\">\n",
       "  <thead>\n",
       "    <tr style=\"text-align: right;\">\n",
       "      <th></th>\n",
       "      <th></th>\n",
       "      <th>sum</th>\n",
       "      <th>count</th>\n",
       "      <th>survival rate</th>\n",
       "    </tr>\n",
       "    <tr>\n",
       "      <th>Embarked</th>\n",
       "      <th>Sex</th>\n",
       "      <th></th>\n",
       "      <th></th>\n",
       "      <th></th>\n",
       "    </tr>\n",
       "  </thead>\n",
       "  <tbody>\n",
       "    <tr>\n",
       "      <th rowspan=\"2\" valign=\"top\">C</th>\n",
       "      <th>female</th>\n",
       "      <td>64</td>\n",
       "      <td>73</td>\n",
       "      <td>0.88</td>\n",
       "    </tr>\n",
       "    <tr>\n",
       "      <th>male</th>\n",
       "      <td>29</td>\n",
       "      <td>95</td>\n",
       "      <td>0.31</td>\n",
       "    </tr>\n",
       "    <tr>\n",
       "      <th rowspan=\"2\" valign=\"top\">Q</th>\n",
       "      <th>female</th>\n",
       "      <td>27</td>\n",
       "      <td>36</td>\n",
       "      <td>0.75</td>\n",
       "    </tr>\n",
       "    <tr>\n",
       "      <th>male</th>\n",
       "      <td>3</td>\n",
       "      <td>41</td>\n",
       "      <td>0.07</td>\n",
       "    </tr>\n",
       "    <tr>\n",
       "      <th rowspan=\"2\" valign=\"top\">S</th>\n",
       "      <th>female</th>\n",
       "      <td>140</td>\n",
       "      <td>203</td>\n",
       "      <td>0.69</td>\n",
       "    </tr>\n",
       "    <tr>\n",
       "      <th>male</th>\n",
       "      <td>77</td>\n",
       "      <td>441</td>\n",
       "      <td>0.17</td>\n",
       "    </tr>\n",
       "  </tbody>\n",
       "</table>\n",
       "</div>"
      ],
      "text/plain": [
       "                 sum  count  survival rate\n",
       "Embarked Sex                              \n",
       "C        female   64     73           0.88\n",
       "         male     29     95           0.31\n",
       "Q        female   27     36           0.75\n",
       "         male      3     41           0.07\n",
       "S        female  140    203           0.69\n",
       "         male     77    441           0.17"
      ]
     },
     "execution_count": 22,
     "metadata": {},
     "output_type": "execute_result"
    }
   ],
   "source": [
    "df3 = Xy.groupby(['Embarked', 'Sex']).Survived.agg(['sum', 'count'])\n",
    "df3['survival rate'] = round(df3['sum']/df3['count'], 2)\n",
    "df3"
   ]
  },
  {
   "cell_type": "markdown",
   "id": "2fa0a159-111a-4ea7-9075-fbecd80f5588",
   "metadata": {},
   "source": [
    "##### ・女性のCクラスは生き残る確率が高い。\n",
    "##### ・男性のQクラスは生き残る確率が低い。"
   ]
  },
  {
   "cell_type": "markdown",
   "id": "77ac83d5-ea27-422d-9b1a-b088d51bd6bd",
   "metadata": {},
   "source": [
    "# 5)データの可視化"
   ]
  },
  {
   "cell_type": "markdown",
   "id": "b738197b-ae34-4eb4-8398-e80117fb4f77",
   "metadata": {},
   "source": [
    "## ヒートマップ上の特徴とターゲットのヒートマップ"
   ]
  },
  {
   "cell_type": "code",
   "execution_count": 23,
   "id": "ada1a48d-36de-4ca9-ae99-7169abd79ac4",
   "metadata": {},
   "outputs": [
    {
     "data": {
      "image/png": "[encoded data removed]",
      "text/plain": [
       "<Figure size 360x360 with 1 Axes>"
      ]
     },
     "metadata": {},
     "output_type": "display_data"
    }
   ],
   "source": [
    "# 三角形の上部の配列のコピーを返す\n",
    "mask = np.triu(correlation_matrix)\n",
    "\n",
    "plt.figure(figsize=(3, 3), dpi=120)\n",
    "sns.heatmap(correlation_matrix, annot=True, fmt='.2f', cmap='coolwarm', square=True, mask=mask, linewidths=1, cbar=False)\n",
    "plt.show()"
   ]
  },
  {
   "cell_type": "markdown",
   "id": "b4dc3b3f-1713-4756-ae64-9ed46084740a",
   "metadata": {},
   "source": [
    "##### 1, 生存率はPclassと運賃運賃に対して直線的な関係がある。\n",
    "##### 2, Pclassと運賃は負の相関関係がある。（１等席は運賃が高く、３等席は運賃が安いので）\n",
    "##### 3, parchとSibSpは相関関係が高い。（つまり、両親や子供がいる人は、兄弟や配偶者と一緒にいる可能性が高いということ。）"
   ]
  },
  {
   "cell_type": "markdown",
   "id": "7d322ad4-ae34-4073-b0f5-7e10ddb57c41",
   "metadata": {},
   "source": [
    "## 性別　vs 生存"
   ]
  },
  {
   "cell_type": "code",
   "execution_count": 24,
   "id": "16568edf-4f9c-44bf-8c2d-a6a89fc2c708",
   "metadata": {},
   "outputs": [
    {
     "data": {
      "text/plain": [
       "<seaborn.axisgrid.FacetGrid at 0x12361da00>"
      ]
     },
     "execution_count": 24,
     "metadata": {},
     "output_type": "execute_result"
    },
    {
     "data": {
      "image/png": "[encoded data removed]",
      "text/plain": [
       "<Figure size 558.875x500 with 1 Axes>"
      ]
     },
     "metadata": {},
     "output_type": "display_data"
    }
   ],
   "source": [
    "sns.catplot(data=Xy, x=\"Sex\", y=\"Survived\", hue=\"Pclass\", kind=\"bar\")"
   ]
  },
  {
   "cell_type": "markdown",
   "id": "73861d21-601a-4b09-a63b-da449ee1aa57",
   "metadata": {},
   "source": [
    "##### ・女性の乗客の生存率は男性の乗客のそれよりも高かった。\n",
    "##### ・上位クラスの乗客の生存率は、下位クラスの乗客の生存率よりも高かった。"
   ]
  },
  {
   "cell_type": "markdown",
   "id": "570cc8c0-6407-4b56-9f06-6bcb2c551f23",
   "metadata": {},
   "source": [
    "## 年齢 vs 生存"
   ]
  },
  {
   "cell_type": "code",
   "execution_count": 25,
   "id": "58e85e04-7d1d-44c2-802e-7c35483177d5",
   "metadata": {},
   "outputs": [
    {
     "data": {
      "image/png": "[encoded data removed]",
      "text/plain": [
       "<Figure size 698x500 with 1 Axes>"
      ]
     },
     "metadata": {},
     "output_type": "display_data"
    }
   ],
   "source": [
    "sns.catplot(data=Xy, y=\"Age\", x=\"Survived\", hue=\"Sex\", kind=\"swarm\", height=5, aspect=1.2);"
   ]
  },
  {
   "cell_type": "markdown",
   "id": "c0e0b062-01bc-4b16-958c-27be94f312f0",
   "metadata": {},
   "source": [
    "##### ・50歳以上の男性乗客の生存率が低い\n",
    "##### ・年齢が１０歳未満の乗客の方が生存率が高かった。"
   ]
  },
  {
   "cell_type": "markdown",
   "id": "000dfe7c-c58c-46bf-b376-3f688042b27e",
   "metadata": {},
   "source": [
    "## 運賃 vs 生存"
   ]
  },
  {
   "cell_type": "code",
   "execution_count": 26,
   "id": "501ec93e-468e-4f24-9c2f-a5780c6dcf90",
   "metadata": {},
   "outputs": [
    {
     "data": {
      "text/plain": [
       "(0.0, 300.0)"
      ]
     },
     "execution_count": 26,
     "metadata": {},
     "output_type": "execute_result"
    },
    {
     "data": {
      "image/png": "[encoded data removed]",
      "text/plain": [
       "<Figure size 640x480 with 1 Axes>"
      ]
     },
     "metadata": {},
     "output_type": "display_data"
    }
   ],
   "source": [
    "sns.violinplot(data=Xy, y=\"Fare\", x=\"Survived\", hue=\"Sex\", split=True, height=10, aspect=1);\n",
    "plt.ylim(0, 300)"
   ]
  },
  {
   "cell_type": "markdown",
   "id": "814c9e65-8828-4640-a32c-fa4891d1ee25",
   "metadata": {},
   "source": [
    "#####　運賃が80以上の乗客は、生存率が高かった。"
   ]
  },
  {
   "cell_type": "markdown",
   "id": "1b747916-ed7c-4978-8498-6f6028f01e2f",
   "metadata": {},
   "source": [
    "# 6)特徴量エンジニアリング"
   ]
  },
  {
   "cell_type": "markdown",
   "id": "b39fe574-2ace-4f04-9cab-1e5a68cafa5b",
   "metadata": {},
   "source": [
    "##　新規カテゴリー機能の作成"
   ]
  },
  {
   "cell_type": "markdown",
   "id": "03f6a592-0f62-4795-9cd5-bf48436d93eb",
   "metadata": {},
   "source": [
    "### 1, Name Prefix"
   ]
  },
  {
   "cell_type": "code",
   "execution_count": 27,
   "id": "62a7bc2c-d658-438f-8035-81c8aa3b24db",
   "metadata": {},
   "outputs": [],
   "source": [
    "X['Prefix'] = X['Name'].str.split(expand=True)[1]\n",
    "X_test['Prefix'] = X_test['Name'].str.split(expand=True)[1]\n",
    "# str.split():区切り文字で分割\n",
    "# expand=True・・・DataFrame/MultiIndexの次元を拡張する。（expand=Trueを設定すると、出力がデータフレームになる。）\n",
    "# [1]の部分は区切り文字の2つ目という意味を表している。[0]だったら一つ目を表していることになる。\n",
    "# 複数の列に分割してpandas.DataFrameとして取得するには、引数expand=Trueを指定する。（デフォルトはexpand=False)"
   ]
  },
  {
   "cell_type": "code",
   "execution_count": 28,
   "id": "0772c789-4f3a-45eb-81d0-dfce0d85dd46",
   "metadata": {},
   "outputs": [
    {
     "data": {
      "text/plain": [
       "Index(['Mr.', 'Miss.', 'Mrs.', 'Master.'], dtype='object')"
      ]
     },
     "execution_count": 28,
     "metadata": {},
     "output_type": "execute_result"
    }
   ],
   "source": [
    "prefixes = X.Prefix.value_counts()\n",
    "top_prefixes = prefixes[prefixes>len(X)/25].index\n",
    "# len(X)/25X変数の数の25で割った数値を意味する。\n",
    "top_prefixes"
   ]
  },
  {
   "cell_type": "code",
   "execution_count": 29,
   "id": "b34bbf7e-a699-4bb3-8d2c-ab81dc730b98",
   "metadata": {},
   "outputs": [],
   "source": [
    "X.Prefix = X.Prefix.apply(lambda x : x if x in top_prefixes else 'other')\n",
    "X_test.Prefix = X_test.Prefix.apply(lambda x : x if x in top_prefixes else 'other')\n",
    "# 列prefixの要素が・・・xがtop_prefixesの中に入っていれば、xを返す。そうでなければotherを返す。\n",
    "# applyはデフォルトでは各列に対して適用され、引数axis=1とすると各行に対して適用される。"
   ]
  },
  {
   "cell_type": "code",
   "execution_count": 30,
   "id": "913e725e-78af-4715-8ebc-9d7a3b2f8735",
   "metadata": {},
   "outputs": [],
   "source": [
    "# X[X['Prefix'] == 'other'].head(2)"
   ]
  },
  {
   "cell_type": "code",
   "execution_count": 31,
   "id": "abf75f64-618a-4d7f-bb42-1521eab7a7b0",
   "metadata": {},
   "outputs": [
    {
     "data": {
      "text/html": [
       "<div>\n",
       "<style scoped>\n",
       "    .dataframe tbody tr th:only-of-type {\n",
       "        vertical-align: middle;\n",
       "    }\n",
       "\n",
       "    .dataframe tbody tr th {\n",
       "        vertical-align: top;\n",
       "    }\n",
       "\n",
       "    .dataframe thead th {\n",
       "        text-align: right;\n",
       "    }\n",
       "</style>\n",
       "<table border=\"1\" class=\"dataframe\">\n",
       "  <thead>\n",
       "    <tr style=\"text-align: right;\">\n",
       "      <th></th>\n",
       "      <th>Prefix</th>\n",
       "      <th>Prefix_test</th>\n",
       "    </tr>\n",
       "  </thead>\n",
       "  <tbody>\n",
       "    <tr>\n",
       "      <th>Mr.</th>\n",
       "      <td>502</td>\n",
       "      <td>234</td>\n",
       "    </tr>\n",
       "    <tr>\n",
       "      <th>Miss.</th>\n",
       "      <td>179</td>\n",
       "      <td>77</td>\n",
       "    </tr>\n",
       "    <tr>\n",
       "      <th>Mrs.</th>\n",
       "      <td>121</td>\n",
       "      <td>70</td>\n",
       "    </tr>\n",
       "    <tr>\n",
       "      <th>other</th>\n",
       "      <td>49</td>\n",
       "      <td>19</td>\n",
       "    </tr>\n",
       "    <tr>\n",
       "      <th>Master.</th>\n",
       "      <td>40</td>\n",
       "      <td>18</td>\n",
       "    </tr>\n",
       "  </tbody>\n",
       "</table>\n",
       "</div>"
      ],
      "text/plain": [
       "         Prefix  Prefix_test\n",
       "Mr.         502          234\n",
       "Miss.       179           77\n",
       "Mrs.        121           70\n",
       "other        49           19\n",
       "Master.      40           18"
      ]
     },
     "execution_count": 31,
     "metadata": {},
     "output_type": "execute_result"
    }
   ],
   "source": [
    "df = pd.DataFrame(X['Prefix'].value_counts())\n",
    "df['Prefix_test'] = X_test['Prefix'].value_counts().values\n",
    "df"
   ]
  },
  {
   "cell_type": "markdown",
   "id": "25a54d82-8a64-4ac0-ade9-61df7397bbd8",
   "metadata": {},
   "source": [
    "## 年齢のインプット（グループ平均を使用）"
   ]
  },
  {
   "cell_type": "code",
   "execution_count": 32,
   "id": "45cc2638-1be7-436f-b8a4-5dd268c1d20c",
   "metadata": {},
   "outputs": [
    {
     "name": "stdout",
     "output_type": "stream",
     "text": [
      "177 86\n"
     ]
    }
   ],
   "source": [
    "# Ageが欠損しているカラムの真偽値をnull_index変数に格納する。\n",
    "null_index = X.Age.isnull()\n",
    "# Ageが欠損しているカラムの真偽値をnull_index_test変数に格納する。\n",
    "null_index_test = X_test.Age.isnull()\n",
    "print(null_index.sum(), null_index_test.sum())"
   ]
  },
  {
   "cell_type": "code",
   "execution_count": 33,
   "id": "13faef1f-3af9-4729-9491-467dd96d0d3c",
   "metadata": {},
   "outputs": [
    {
     "data": {
      "text/html": [
       "<div>\n",
       "<style scoped>\n",
       "    .dataframe tbody tr th:only-of-type {\n",
       "        vertical-align: middle;\n",
       "    }\n",
       "\n",
       "    .dataframe tbody tr th {\n",
       "        vertical-align: top;\n",
       "    }\n",
       "\n",
       "    .dataframe thead th {\n",
       "        text-align: right;\n",
       "    }\n",
       "</style>\n",
       "<table border=\"1\" class=\"dataframe\">\n",
       "  <thead>\n",
       "    <tr style=\"text-align: right;\">\n",
       "      <th></th>\n",
       "      <th></th>\n",
       "      <th>Age</th>\n",
       "    </tr>\n",
       "    <tr>\n",
       "      <th>Prefix</th>\n",
       "      <th>Pclass</th>\n",
       "      <th></th>\n",
       "    </tr>\n",
       "  </thead>\n",
       "  <tbody>\n",
       "    <tr>\n",
       "      <th rowspan=\"3\" valign=\"top\">Master.</th>\n",
       "      <th>1</th>\n",
       "      <td>5.0</td>\n",
       "    </tr>\n",
       "    <tr>\n",
       "      <th>2</th>\n",
       "      <td>2.0</td>\n",
       "    </tr>\n",
       "    <tr>\n",
       "      <th>3</th>\n",
       "      <td>5.0</td>\n",
       "    </tr>\n",
       "    <tr>\n",
       "      <th rowspan=\"3\" valign=\"top\">Miss.</th>\n",
       "      <th>1</th>\n",
       "      <td>30.0</td>\n",
       "    </tr>\n",
       "    <tr>\n",
       "      <th>2</th>\n",
       "      <td>22.0</td>\n",
       "    </tr>\n",
       "    <tr>\n",
       "      <th>3</th>\n",
       "      <td>16.0</td>\n",
       "    </tr>\n",
       "    <tr>\n",
       "      <th rowspan=\"3\" valign=\"top\">Mr.</th>\n",
       "      <th>1</th>\n",
       "      <td>42.0</td>\n",
       "    </tr>\n",
       "    <tr>\n",
       "      <th>2</th>\n",
       "      <td>33.0</td>\n",
       "    </tr>\n",
       "    <tr>\n",
       "      <th>3</th>\n",
       "      <td>29.0</td>\n",
       "    </tr>\n",
       "    <tr>\n",
       "      <th rowspan=\"3\" valign=\"top\">Mrs.</th>\n",
       "      <th>1</th>\n",
       "      <td>42.0</td>\n",
       "    </tr>\n",
       "    <tr>\n",
       "      <th>2</th>\n",
       "      <td>34.0</td>\n",
       "    </tr>\n",
       "    <tr>\n",
       "      <th>3</th>\n",
       "      <td>34.0</td>\n",
       "    </tr>\n",
       "    <tr>\n",
       "      <th rowspan=\"3\" valign=\"top\">other</th>\n",
       "      <th>1</th>\n",
       "      <td>42.0</td>\n",
       "    </tr>\n",
       "    <tr>\n",
       "      <th>2</th>\n",
       "      <td>38.0</td>\n",
       "    </tr>\n",
       "    <tr>\n",
       "      <th>3</th>\n",
       "      <td>29.0</td>\n",
       "    </tr>\n",
       "  </tbody>\n",
       "</table>\n",
       "</div>"
      ],
      "text/plain": [
       "                 Age\n",
       "Prefix  Pclass      \n",
       "Master. 1        5.0\n",
       "        2        2.0\n",
       "        3        5.0\n",
       "Miss.   1       30.0\n",
       "        2       22.0\n",
       "        3       16.0\n",
       "Mr.     1       42.0\n",
       "        2       33.0\n",
       "        3       29.0\n",
       "Mrs.    1       42.0\n",
       "        2       34.0\n",
       "        3       34.0\n",
       "other   1       42.0\n",
       "        2       38.0\n",
       "        3       29.0"
      ]
     },
     "execution_count": 33,
     "metadata": {},
     "output_type": "execute_result"
    }
   ],
   "source": [
    "avg_ages = X.groupby(['Prefix', 'Pclass']).Age.mean().round()\n",
    "pd.DataFrame(avg_ages)"
   ]
  },
  {
   "cell_type": "code",
   "execution_count": 34,
   "id": "92b97688-1d02-4b58-b3da-99bf9e4dd79a",
   "metadata": {},
   "outputs": [],
   "source": [
    "for (i, k) in avg_ages.index:\n",
    "    # iとkは、avg_ageのindex\n",
    "    value = avg_ages.loc[i, k]\n",
    "    X.loc[(X.Prefix==i) & (X.Pclass==k) & (X.Age.isnull()), 'Age'] = value\n",
    "    X_test.loc[(X_test.Prefix==i) & (X_test.Pclass==k) & (X_test.Age.isnull()), 'Age'] = value \n",
    "# 簡単に言うとAgeがNULLの行に、Prefix, Pclass毎の平均値を入れる作業を行なっている。\n",
    "# valueにindexがi, kのageの値を格納\n",
    "# Prefixがi, Pclassがk, Ageが欠損しているカラムにvalue(indexがi, kのageの値。つまり平均値を格納しておく。)\n",
    "# X, X_testのどちらともで同様に行う。"
   ]
  },
  {
   "cell_type": "code",
   "execution_count": 35,
   "id": "6b2f02d5-d164-4db5-a9e1-7db43bb988d3",
   "metadata": {},
   "outputs": [
    {
     "name": "stdout",
     "output_type": "stream",
     "text": [
      "0 0\n"
     ]
    }
   ],
   "source": [
    "# 年齢の欠損値の数\n",
    "print(X['Age'].isnull().sum(), X_test['Age'].isnull().sum())"
   ]
  },
  {
   "cell_type": "code",
   "execution_count": 36,
   "id": "eac69aeb-1c90-43b8-92d9-8c2f06baf5df",
   "metadata": {},
   "outputs": [
    {
     "data": {
      "text/html": [
       "<div>\n",
       "<style scoped>\n",
       "    .dataframe tbody tr th:only-of-type {\n",
       "        vertical-align: middle;\n",
       "    }\n",
       "\n",
       "    .dataframe tbody tr th {\n",
       "        vertical-align: top;\n",
       "    }\n",
       "\n",
       "    .dataframe thead th {\n",
       "        text-align: right;\n",
       "    }\n",
       "</style>\n",
       "<table border=\"1\" class=\"dataframe\">\n",
       "  <thead>\n",
       "    <tr style=\"text-align: right;\">\n",
       "      <th></th>\n",
       "      <th>Pclass</th>\n",
       "      <th>Name</th>\n",
       "      <th>Sex</th>\n",
       "      <th>Age</th>\n",
       "      <th>SibSp</th>\n",
       "      <th>Parch</th>\n",
       "      <th>Ticket</th>\n",
       "      <th>Fare</th>\n",
       "      <th>Embarked</th>\n",
       "      <th>Prefix</th>\n",
       "    </tr>\n",
       "    <tr>\n",
       "      <th>PassengerId</th>\n",
       "      <th></th>\n",
       "      <th></th>\n",
       "      <th></th>\n",
       "      <th></th>\n",
       "      <th></th>\n",
       "      <th></th>\n",
       "      <th></th>\n",
       "      <th></th>\n",
       "      <th></th>\n",
       "      <th></th>\n",
       "    </tr>\n",
       "  </thead>\n",
       "  <tbody>\n",
       "    <tr>\n",
       "      <th>6</th>\n",
       "      <td>3</td>\n",
       "      <td>Moran, Mr. James</td>\n",
       "      <td>male</td>\n",
       "      <td>29.0</td>\n",
       "      <td>0</td>\n",
       "      <td>0</td>\n",
       "      <td>330877</td>\n",
       "      <td>8.4583</td>\n",
       "      <td>Q</td>\n",
       "      <td>Mr.</td>\n",
       "    </tr>\n",
       "    <tr>\n",
       "      <th>18</th>\n",
       "      <td>2</td>\n",
       "      <td>Williams, Mr. Charles Eugene</td>\n",
       "      <td>male</td>\n",
       "      <td>33.0</td>\n",
       "      <td>0</td>\n",
       "      <td>0</td>\n",
       "      <td>244373</td>\n",
       "      <td>13.0000</td>\n",
       "      <td>S</td>\n",
       "      <td>Mr.</td>\n",
       "    </tr>\n",
       "    <tr>\n",
       "      <th>20</th>\n",
       "      <td>3</td>\n",
       "      <td>Masselmani, Mrs. Fatima</td>\n",
       "      <td>female</td>\n",
       "      <td>34.0</td>\n",
       "      <td>0</td>\n",
       "      <td>0</td>\n",
       "      <td>2649</td>\n",
       "      <td>7.2250</td>\n",
       "      <td>C</td>\n",
       "      <td>Mrs.</td>\n",
       "    </tr>\n",
       "    <tr>\n",
       "      <th>27</th>\n",
       "      <td>3</td>\n",
       "      <td>Emir, Mr. Farred Chehab</td>\n",
       "      <td>male</td>\n",
       "      <td>29.0</td>\n",
       "      <td>0</td>\n",
       "      <td>0</td>\n",
       "      <td>2631</td>\n",
       "      <td>7.2250</td>\n",
       "      <td>C</td>\n",
       "      <td>Mr.</td>\n",
       "    </tr>\n",
       "    <tr>\n",
       "      <th>29</th>\n",
       "      <td>3</td>\n",
       "      <td>O'Dwyer, Miss. Ellen \"Nellie\"</td>\n",
       "      <td>female</td>\n",
       "      <td>16.0</td>\n",
       "      <td>0</td>\n",
       "      <td>0</td>\n",
       "      <td>330959</td>\n",
       "      <td>7.8792</td>\n",
       "      <td>Q</td>\n",
       "      <td>Miss.</td>\n",
       "    </tr>\n",
       "  </tbody>\n",
       "</table>\n",
       "</div>"
      ],
      "text/plain": [
       "             Pclass                           Name     Sex   Age  SibSp  \\\n",
       "PassengerId                                                               \n",
       "6                 3               Moran, Mr. James    male  29.0      0   \n",
       "18                2   Williams, Mr. Charles Eugene    male  33.0      0   \n",
       "20                3        Masselmani, Mrs. Fatima  female  34.0      0   \n",
       "27                3        Emir, Mr. Farred Chehab    male  29.0      0   \n",
       "29                3  O'Dwyer, Miss. Ellen \"Nellie\"  female  16.0      0   \n",
       "\n",
       "             Parch  Ticket     Fare Embarked Prefix  \n",
       "PassengerId                                          \n",
       "6                0  330877   8.4583        Q    Mr.  \n",
       "18               0  244373  13.0000        S    Mr.  \n",
       "20               0    2649   7.2250        C   Mrs.  \n",
       "27               0    2631   7.2250        C    Mr.  \n",
       "29               0  330959   7.8792        Q  Miss.  "
      ]
     },
     "execution_count": 36,
     "metadata": {},
     "output_type": "execute_result"
    }
   ],
   "source": [
    "X[null_index].head()\n",
    "# Ageがnullだった行に、Prefix, Pclass毎の平均年齢が入っているか確認。（無事入っていることが確認できる。）"
   ]
  },
  {
   "cell_type": "code",
   "execution_count": 37,
   "id": "86e415f2-5de1-481c-8b3b-30dc7f73121b",
   "metadata": {},
   "outputs": [],
   "source": [
    "# Sex(性別)カラムがあるので,Prefixカラムの情報は冗長になる。\n",
    "# PreifxのMr,Miss,Mrs,Masterはknownと言う文字列に置き換えている。\n",
    "X.Prefix = X.Prefix.replace(['Mr.', 'Miss.', 'Mrs.', 'Master.'], 'known')\n",
    "X_test.Prefix = X_test.Prefix.replace(['Mr.', 'Miss.', 'Mrs.', 'Master.'], 'known')"
   ]
  },
  {
   "cell_type": "code",
   "execution_count": 38,
   "id": "1d03028d-a1de-440d-bf6a-b541484945e5",
   "metadata": {},
   "outputs": [],
   "source": [
    "# Nameカラムも不要なので消す。列を削除する場合は、axis=1を引数に入れる。\n",
    "X = X.drop(['Name'], axis=1)\n",
    "X_test = X_test.drop(['Name'], axis=1)"
   ]
  },
  {
   "cell_type": "markdown",
   "id": "d36d8ebb-1fa2-4ba7-a0b5-d94ac17cb837",
   "metadata": {},
   "source": [
    "### 2,年齢カテゴリ"
   ]
  },
  {
   "cell_type": "code",
   "execution_count": 39,
   "id": "346899e1-d99e-4ea6-8f87-6b4773e79211",
   "metadata": {},
   "outputs": [
    {
     "data": {
      "text/plain": [
       "CategoricalDtype(categories=['child', 'young', 'adult', 'senior'], ordered=True)"
      ]
     },
     "execution_count": 39,
     "metadata": {},
     "output_type": "execute_result"
    }
   ],
   "source": [
    "# cut()・・・ビニング処理（ビン分割）。連続値を任意の境界線で区切りカテゴリ分けして離散値に変換する。\n",
    "# 年齢毎にカテゴリ分けをする。\n",
    "def Age_categorie(df):\n",
    "    df['Age_Cat'] = pd.cut(df.Age, bins = [0,10,40,60,100], labels = ['child','young','adult','senior'])\n",
    "\n",
    "Age_categorie(X)\n",
    "Age_categorie(X_test)\n",
    "X['Age_Cat'].dtype"
   ]
  },
  {
   "cell_type": "code",
   "execution_count": 40,
   "id": "cc805d1c-59be-432e-9d93-1ef9f217543f",
   "metadata": {},
   "outputs": [
    {
     "data": {
      "text/html": [
       "<div>\n",
       "<style scoped>\n",
       "    .dataframe tbody tr th:only-of-type {\n",
       "        vertical-align: middle;\n",
       "    }\n",
       "\n",
       "    .dataframe tbody tr th {\n",
       "        vertical-align: top;\n",
       "    }\n",
       "\n",
       "    .dataframe thead th {\n",
       "        text-align: right;\n",
       "    }\n",
       "</style>\n",
       "<table border=\"1\" class=\"dataframe\">\n",
       "  <thead>\n",
       "    <tr style=\"text-align: right;\">\n",
       "      <th></th>\n",
       "      <th>Age_Cat</th>\n",
       "      <th>Age_Cat_test</th>\n",
       "    </tr>\n",
       "  </thead>\n",
       "  <tbody>\n",
       "    <tr>\n",
       "      <th>young</th>\n",
       "      <td>644</td>\n",
       "      <td>307</td>\n",
       "    </tr>\n",
       "    <tr>\n",
       "      <th>adult</th>\n",
       "      <td>157</td>\n",
       "      <td>75</td>\n",
       "    </tr>\n",
       "    <tr>\n",
       "      <th>child</th>\n",
       "      <td>68</td>\n",
       "      <td>25</td>\n",
       "    </tr>\n",
       "    <tr>\n",
       "      <th>senior</th>\n",
       "      <td>22</td>\n",
       "      <td>11</td>\n",
       "    </tr>\n",
       "  </tbody>\n",
       "</table>\n",
       "</div>"
      ],
      "text/plain": [
       "        Age_Cat  Age_Cat_test\n",
       "young       644           307\n",
       "adult       157            75\n",
       "child        68            25\n",
       "senior       22            11"
      ]
     },
     "execution_count": 40,
     "metadata": {},
     "output_type": "execute_result"
    }
   ],
   "source": [
    "df = pd.DataFrame(X['Age_Cat'].value_counts())\n",
    "df['Age_Cat_test'] = X_test['Age_Cat'].value_counts().values\n",
    "df"
   ]
  },
  {
   "cell_type": "markdown",
   "id": "b732f80d-fa25-4785-9142-f1e0b8c4fd20",
   "metadata": {},
   "source": [
    "### 3,運賃カテゴリ"
   ]
  },
  {
   "cell_type": "code",
   "execution_count": 41,
   "id": "cafa614d-c7fc-4c7d-8bf4-139a4d7bbb4b",
   "metadata": {},
   "outputs": [
    {
     "data": {
      "text/plain": [
       "count    891.000000\n",
       "mean      31.359805\n",
       "std       43.231632\n",
       "min        0.000000\n",
       "25%        7.910400\n",
       "50%       14.454200\n",
       "75%       31.000000\n",
       "max      262.375000\n",
       "Name: Fare, dtype: float64"
      ]
     },
     "execution_count": 41,
     "metadata": {},
     "output_type": "execute_result"
    }
   ],
   "source": [
    "# まず統計値を確認\n",
    "X.Fare.describe()"
   ]
  },
  {
   "cell_type": "code",
   "execution_count": 42,
   "id": "45e90028-052d-4b21-a6cb-4e82464ae6f1",
   "metadata": {},
   "outputs": [
    {
     "data": {
      "text/plain": [
       "CategoricalDtype(categories=['low', 'medium', 'high', 'very_high'], ordered=True)"
      ]
     },
     "execution_count": 42,
     "metadata": {},
     "output_type": "execute_result"
    }
   ],
   "source": [
    "# qcut()で分割（要素数が等しくなるようい分割。）\n",
    "def Fare_categorie(df):\n",
    "    df['Fare_Cat'] = pd.qcut(df.Fare, q=4, labels = ['low', 'medium', 'high', 'very_high'])\n",
    "    \n",
    "Fare_categorie(X)\n",
    "Fare_categorie(X_test)\n",
    "X['Fare_Cat'].dtype"
   ]
  },
  {
   "cell_type": "code",
   "execution_count": 43,
   "id": "5e2075f3-d26c-4aa1-a2c0-5df3569f0995",
   "metadata": {},
   "outputs": [
    {
     "data": {
      "text/html": [
       "<div>\n",
       "<style scoped>\n",
       "    .dataframe tbody tr th:only-of-type {\n",
       "        vertical-align: middle;\n",
       "    }\n",
       "\n",
       "    .dataframe tbody tr th {\n",
       "        vertical-align: top;\n",
       "    }\n",
       "\n",
       "    .dataframe thead th {\n",
       "        text-align: right;\n",
       "    }\n",
       "</style>\n",
       "<table border=\"1\" class=\"dataframe\">\n",
       "  <thead>\n",
       "    <tr style=\"text-align: right;\">\n",
       "      <th></th>\n",
       "      <th>Fare_Cat</th>\n",
       "      <th>Fare_Cat_test</th>\n",
       "    </tr>\n",
       "  </thead>\n",
       "  <tbody>\n",
       "    <tr>\n",
       "      <th>medium</th>\n",
       "      <td>224</td>\n",
       "      <td>114</td>\n",
       "    </tr>\n",
       "    <tr>\n",
       "      <th>low</th>\n",
       "      <td>223</td>\n",
       "      <td>105</td>\n",
       "    </tr>\n",
       "    <tr>\n",
       "      <th>high</th>\n",
       "      <td>222</td>\n",
       "      <td>102</td>\n",
       "    </tr>\n",
       "    <tr>\n",
       "      <th>very_high</th>\n",
       "      <td>222</td>\n",
       "      <td>96</td>\n",
       "    </tr>\n",
       "  </tbody>\n",
       "</table>\n",
       "</div>"
      ],
      "text/plain": [
       "           Fare_Cat  Fare_Cat_test\n",
       "medium          224            114\n",
       "low             223            105\n",
       "high            222            102\n",
       "very_high       222             96"
      ]
     },
     "execution_count": 43,
     "metadata": {},
     "output_type": "execute_result"
    }
   ],
   "source": [
    "df = pd.DataFrame(X['Fare_Cat'].value_counts())\n",
    "df['Fare_Cat_test'] = X_test['Fare_Cat'].value_counts().values\n",
    "df"
   ]
  },
  {
   "cell_type": "markdown",
   "id": "91f82050-a15a-4a3c-b616-ed5b61c6cbac",
   "metadata": {},
   "source": [
    "### 4,家族構成"
   ]
  },
  {
   "cell_type": "code",
   "execution_count": 44,
   "id": "be4e28ea-8971-4eab-99d6-c8d647ab980d",
   "metadata": {},
   "outputs": [],
   "source": [
    "# データソースのSibSp（タイタニック号に載っている兄弟や配偶者）とparch(親と子供)のカラムを足して、Family（家族人数）カラムを作成し、不要となったSibSpとparchカラムを除去する。\n",
    "X['Family'] = X['SibSp'] + X['Parch']\n",
    "X_test['Family'] = X_test['SibSp'] + X_test['Parch']\n",
    "\n",
    "X = X.drop(['SibSp', 'Parch'], axis=1)\n",
    "X_test = X_test.drop(['SibSp', 'Parch'], axis=1)"
   ]
  },
  {
   "cell_type": "code",
   "execution_count": 45,
   "id": "e7e975bd-d677-4014-9916-91cdceb823be",
   "metadata": {},
   "outputs": [
    {
     "data": {
      "text/plain": [
       "0     537\n",
       "1     161\n",
       "2     102\n",
       "3      29\n",
       "5      22\n",
       "4      15\n",
       "6      12\n",
       "10      7\n",
       "7       6\n",
       "Name: Family, dtype: int64"
      ]
     },
     "execution_count": 45,
     "metadata": {},
     "output_type": "execute_result"
    }
   ],
   "source": [
    "X.Family.value_counts()"
   ]
  },
  {
   "cell_type": "code",
   "execution_count": 46,
   "id": "858d1a94-1955-4dce-ac83-82c217ba5d49",
   "metadata": {},
   "outputs": [],
   "source": [
    "def Categorie_Family(df):\n",
    "    df['Family_Size'] = pd.cut(df.Family, bins = [-1, 0, 2, 12], labels = ['alone', 'medium', 'large'])\n",
    "    \n",
    "Categorie_Family(X)\n",
    "Categorie_Family(X_test)"
   ]
  },
  {
   "cell_type": "code",
   "execution_count": 47,
   "id": "6c1daea4-4032-4292-8796-004de53c4734",
   "metadata": {},
   "outputs": [
    {
     "data": {
      "text/html": [
       "<div>\n",
       "<style scoped>\n",
       "    .dataframe tbody tr th:only-of-type {\n",
       "        vertical-align: middle;\n",
       "    }\n",
       "\n",
       "    .dataframe tbody tr th {\n",
       "        vertical-align: top;\n",
       "    }\n",
       "\n",
       "    .dataframe thead th {\n",
       "        text-align: right;\n",
       "    }\n",
       "</style>\n",
       "<table border=\"1\" class=\"dataframe\">\n",
       "  <thead>\n",
       "    <tr style=\"text-align: right;\">\n",
       "      <th></th>\n",
       "      <th>Family_Size</th>\n",
       "      <th>Family_Size_test</th>\n",
       "    </tr>\n",
       "  </thead>\n",
       "  <tbody>\n",
       "    <tr>\n",
       "      <th>alone</th>\n",
       "      <td>537</td>\n",
       "      <td>253</td>\n",
       "    </tr>\n",
       "    <tr>\n",
       "      <th>medium</th>\n",
       "      <td>263</td>\n",
       "      <td>131</td>\n",
       "    </tr>\n",
       "    <tr>\n",
       "      <th>large</th>\n",
       "      <td>91</td>\n",
       "      <td>34</td>\n",
       "    </tr>\n",
       "  </tbody>\n",
       "</table>\n",
       "</div>"
      ],
      "text/plain": [
       "        Family_Size  Family_Size_test\n",
       "alone           537               253\n",
       "medium          263               131\n",
       "large            91                34"
      ]
     },
     "execution_count": 47,
     "metadata": {},
     "output_type": "execute_result"
    }
   ],
   "source": [
    "df = pd.DataFrame(X['Family_Size'].value_counts())\n",
    "df['Family_Size_test'] = X_test['Family_Size'].value_counts().values\n",
    "df"
   ]
  },
  {
   "cell_type": "code",
   "execution_count": 48,
   "id": "e187daa4-31f3-4d53-becf-1ff2ca0d8ad0",
   "metadata": {},
   "outputs": [
    {
     "data": {
      "text/html": [
       "<div>\n",
       "<style scoped>\n",
       "    .dataframe tbody tr th:only-of-type {\n",
       "        vertical-align: middle;\n",
       "    }\n",
       "\n",
       "    .dataframe tbody tr th {\n",
       "        vertical-align: top;\n",
       "    }\n",
       "\n",
       "    .dataframe thead th {\n",
       "        text-align: right;\n",
       "    }\n",
       "</style>\n",
       "<table border=\"1\" class=\"dataframe\">\n",
       "  <thead>\n",
       "    <tr style=\"text-align: right;\">\n",
       "      <th></th>\n",
       "      <th>Pclass</th>\n",
       "      <th>Sex</th>\n",
       "      <th>Age</th>\n",
       "      <th>Ticket</th>\n",
       "      <th>Fare</th>\n",
       "      <th>Embarked</th>\n",
       "      <th>Prefix</th>\n",
       "      <th>Age_Cat</th>\n",
       "      <th>Fare_Cat</th>\n",
       "      <th>Family</th>\n",
       "      <th>Family_Size</th>\n",
       "    </tr>\n",
       "    <tr>\n",
       "      <th>PassengerId</th>\n",
       "      <th></th>\n",
       "      <th></th>\n",
       "      <th></th>\n",
       "      <th></th>\n",
       "      <th></th>\n",
       "      <th></th>\n",
       "      <th></th>\n",
       "      <th></th>\n",
       "      <th></th>\n",
       "      <th></th>\n",
       "      <th></th>\n",
       "    </tr>\n",
       "  </thead>\n",
       "  <tbody>\n",
       "    <tr>\n",
       "      <th>1</th>\n",
       "      <td>3</td>\n",
       "      <td>male</td>\n",
       "      <td>22.0</td>\n",
       "      <td>A/5 21171</td>\n",
       "      <td>7.2500</td>\n",
       "      <td>S</td>\n",
       "      <td>known</td>\n",
       "      <td>young</td>\n",
       "      <td>low</td>\n",
       "      <td>1</td>\n",
       "      <td>medium</td>\n",
       "    </tr>\n",
       "    <tr>\n",
       "      <th>2</th>\n",
       "      <td>1</td>\n",
       "      <td>female</td>\n",
       "      <td>38.0</td>\n",
       "      <td>PC 17599</td>\n",
       "      <td>71.2833</td>\n",
       "      <td>C</td>\n",
       "      <td>known</td>\n",
       "      <td>young</td>\n",
       "      <td>very_high</td>\n",
       "      <td>1</td>\n",
       "      <td>medium</td>\n",
       "    </tr>\n",
       "    <tr>\n",
       "      <th>3</th>\n",
       "      <td>3</td>\n",
       "      <td>female</td>\n",
       "      <td>26.0</td>\n",
       "      <td>STON/O2. 3101282</td>\n",
       "      <td>7.9250</td>\n",
       "      <td>S</td>\n",
       "      <td>known</td>\n",
       "      <td>young</td>\n",
       "      <td>medium</td>\n",
       "      <td>0</td>\n",
       "      <td>alone</td>\n",
       "    </tr>\n",
       "    <tr>\n",
       "      <th>4</th>\n",
       "      <td>1</td>\n",
       "      <td>female</td>\n",
       "      <td>35.0</td>\n",
       "      <td>113803</td>\n",
       "      <td>53.1000</td>\n",
       "      <td>S</td>\n",
       "      <td>known</td>\n",
       "      <td>young</td>\n",
       "      <td>very_high</td>\n",
       "      <td>1</td>\n",
       "      <td>medium</td>\n",
       "    </tr>\n",
       "    <tr>\n",
       "      <th>5</th>\n",
       "      <td>3</td>\n",
       "      <td>male</td>\n",
       "      <td>35.0</td>\n",
       "      <td>373450</td>\n",
       "      <td>8.0500</td>\n",
       "      <td>S</td>\n",
       "      <td>known</td>\n",
       "      <td>young</td>\n",
       "      <td>medium</td>\n",
       "      <td>0</td>\n",
       "      <td>alone</td>\n",
       "    </tr>\n",
       "  </tbody>\n",
       "</table>\n",
       "</div>"
      ],
      "text/plain": [
       "             Pclass     Sex   Age            Ticket     Fare Embarked Prefix  \\\n",
       "PassengerId                                                                    \n",
       "1                 3    male  22.0         A/5 21171   7.2500        S  known   \n",
       "2                 1  female  38.0          PC 17599  71.2833        C  known   \n",
       "3                 3  female  26.0  STON/O2. 3101282   7.9250        S  known   \n",
       "4                 1  female  35.0            113803  53.1000        S  known   \n",
       "5                 3    male  35.0            373450   8.0500        S  known   \n",
       "\n",
       "            Age_Cat   Fare_Cat  Family Family_Size  \n",
       "PassengerId                                         \n",
       "1             young        low       1      medium  \n",
       "2             young  very_high       1      medium  \n",
       "3             young     medium       0       alone  \n",
       "4             young  very_high       1      medium  \n",
       "5             young     medium       0       alone  "
      ]
     },
     "execution_count": 48,
     "metadata": {},
     "output_type": "execute_result"
    }
   ],
   "source": [
    "X.head()"
   ]
  },
  {
   "cell_type": "code",
   "execution_count": 49,
   "id": "69d43182-033d-4d4e-8315-e33adcd03d4b",
   "metadata": {},
   "outputs": [
    {
     "data": {
      "text/html": [
       "<div>\n",
       "<style scoped>\n",
       "    .dataframe tbody tr th:only-of-type {\n",
       "        vertical-align: middle;\n",
       "    }\n",
       "\n",
       "    .dataframe tbody tr th {\n",
       "        vertical-align: top;\n",
       "    }\n",
       "\n",
       "    .dataframe thead th {\n",
       "        text-align: right;\n",
       "    }\n",
       "</style>\n",
       "<table border=\"1\" class=\"dataframe\">\n",
       "  <thead>\n",
       "    <tr style=\"text-align: right;\">\n",
       "      <th></th>\n",
       "      <th>Pclass</th>\n",
       "      <th>Sex</th>\n",
       "      <th>Age</th>\n",
       "      <th>Ticket</th>\n",
       "      <th>Fare</th>\n",
       "      <th>Embarked</th>\n",
       "      <th>Prefix</th>\n",
       "      <th>Age_Cat</th>\n",
       "      <th>Fare_Cat</th>\n",
       "      <th>Family</th>\n",
       "      <th>Family_Size</th>\n",
       "    </tr>\n",
       "    <tr>\n",
       "      <th>PassengerId</th>\n",
       "      <th></th>\n",
       "      <th></th>\n",
       "      <th></th>\n",
       "      <th></th>\n",
       "      <th></th>\n",
       "      <th></th>\n",
       "      <th></th>\n",
       "      <th></th>\n",
       "      <th></th>\n",
       "      <th></th>\n",
       "      <th></th>\n",
       "    </tr>\n",
       "  </thead>\n",
       "  <tbody>\n",
       "    <tr>\n",
       "      <th>892</th>\n",
       "      <td>3</td>\n",
       "      <td>male</td>\n",
       "      <td>34.5</td>\n",
       "      <td>330911</td>\n",
       "      <td>7.8292</td>\n",
       "      <td>Q</td>\n",
       "      <td>known</td>\n",
       "      <td>young</td>\n",
       "      <td>low</td>\n",
       "      <td>0</td>\n",
       "      <td>alone</td>\n",
       "    </tr>\n",
       "    <tr>\n",
       "      <th>893</th>\n",
       "      <td>3</td>\n",
       "      <td>female</td>\n",
       "      <td>47.0</td>\n",
       "      <td>363272</td>\n",
       "      <td>7.0000</td>\n",
       "      <td>S</td>\n",
       "      <td>known</td>\n",
       "      <td>adult</td>\n",
       "      <td>low</td>\n",
       "      <td>1</td>\n",
       "      <td>medium</td>\n",
       "    </tr>\n",
       "    <tr>\n",
       "      <th>894</th>\n",
       "      <td>2</td>\n",
       "      <td>male</td>\n",
       "      <td>62.0</td>\n",
       "      <td>240276</td>\n",
       "      <td>9.6875</td>\n",
       "      <td>Q</td>\n",
       "      <td>known</td>\n",
       "      <td>senior</td>\n",
       "      <td>medium</td>\n",
       "      <td>0</td>\n",
       "      <td>alone</td>\n",
       "    </tr>\n",
       "    <tr>\n",
       "      <th>895</th>\n",
       "      <td>3</td>\n",
       "      <td>male</td>\n",
       "      <td>27.0</td>\n",
       "      <td>315154</td>\n",
       "      <td>8.6625</td>\n",
       "      <td>S</td>\n",
       "      <td>known</td>\n",
       "      <td>young</td>\n",
       "      <td>medium</td>\n",
       "      <td>0</td>\n",
       "      <td>alone</td>\n",
       "    </tr>\n",
       "    <tr>\n",
       "      <th>896</th>\n",
       "      <td>3</td>\n",
       "      <td>female</td>\n",
       "      <td>22.0</td>\n",
       "      <td>3101298</td>\n",
       "      <td>12.2875</td>\n",
       "      <td>S</td>\n",
       "      <td>known</td>\n",
       "      <td>young</td>\n",
       "      <td>medium</td>\n",
       "      <td>2</td>\n",
       "      <td>medium</td>\n",
       "    </tr>\n",
       "  </tbody>\n",
       "</table>\n",
       "</div>"
      ],
      "text/plain": [
       "             Pclass     Sex   Age   Ticket     Fare Embarked Prefix Age_Cat  \\\n",
       "PassengerId                                                                   \n",
       "892               3    male  34.5   330911   7.8292        Q  known   young   \n",
       "893               3  female  47.0   363272   7.0000        S  known   adult   \n",
       "894               2    male  62.0   240276   9.6875        Q  known  senior   \n",
       "895               3    male  27.0   315154   8.6625        S  known   young   \n",
       "896               3  female  22.0  3101298  12.2875        S  known   young   \n",
       "\n",
       "            Fare_Cat  Family Family_Size  \n",
       "PassengerId                               \n",
       "892              low       0       alone  \n",
       "893              low       1      medium  \n",
       "894           medium       0       alone  \n",
       "895           medium       0       alone  \n",
       "896           medium       2      medium  "
      ]
     },
     "execution_count": 49,
     "metadata": {},
     "output_type": "execute_result"
    }
   ],
   "source": [
    "X_test.head()"
   ]
  },
  {
   "cell_type": "markdown",
   "id": "8af16017-37cf-4014-8467-d9787225c612",
   "metadata": {},
   "source": [
    "## 作成したカテゴリのデータ可視化"
   ]
  },
  {
   "cell_type": "code",
   "execution_count": 50,
   "id": "9987ba9d-1dfe-4e44-92a0-603db2c72d91",
   "metadata": {},
   "outputs": [],
   "source": [
    "# データ可視化のための、Xとyの連結\n",
    "Xy = X.copy()\n",
    "Xy['Survived'] = y.copy()"
   ]
  },
  {
   "cell_type": "code",
   "execution_count": 51,
   "id": "f898c55f-ac58-4d5e-9df8-d79ff950621f",
   "metadata": {},
   "outputs": [],
   "source": [
    "# 【matplotlib】rcParams・・・matplotlibのデフォルト設定が格納されている。設定値を返すことで、プログラム全体のグラフに対して設定を変更することができる。\n",
    "plt.rcParams.update(plt.rcParamsDefault)"
   ]
  },
  {
   "cell_type": "code",
   "execution_count": 52,
   "id": "f50f4b12-d1e7-4226-8c4c-5587b250200d",
   "metadata": {},
   "outputs": [
    {
     "data": {
      "image/png": "[encoded data removed]",
      "text/plain": [
       "<Figure size 896x672 with 6 Axes>"
      ]
     },
     "metadata": {},
     "output_type": "display_data"
    }
   ],
   "source": [
    "l=['Pclass', 'Sex', 'Age_Cat', 'Fare_Cat', 'Embarked', 'Family_Size']\n",
    "figure, axes = plt.subplots(nrows=2, ncols=3, sharey=True, sharex=False, dpi=140)\n",
    "index = 0\n",
    "axes = axes.flatten()\n",
    "for axis in axes:\n",
    "    sns.countplot(x = l[index], hue = \"Survived\", data = Xy, ax=axis)\n",
    "    axis.set_title(l[index]+' vs Survived')\n",
    "    index = index+1\n",
    "    plt.tight_layout()\n",
    "    for tick in axis.get_xticklabels():\n",
    "        tick.set_rotation(45)\n",
    "plt.show()\n",
    "\n",
    "# matplotlibのfigure(図)とaxes(座標軸)\n",
    "# └figure・・・ウィンドウのことと考える。\n",
    "# └axes・・・1つのグラフのことだと考える。\n",
    "# Figureやaxesを1つずつ作成するには, fig = plt.figure() => Figureを作成して、fig.add_subplots() => Axesを1個ずつ追加 or fig.subplots() => Axesを複数追加。という手順を踏む。\n",
    "# Figureだけ作成して、Axesを作らないことはあまりないので、fig, ax = plt.subplots()でFigureとAxesを同時に作成すると便利。"
   ]
  },
  {
   "cell_type": "markdown",
   "id": "469f3e63-ee71-4537-8fae-a66d5695086a",
   "metadata": {},
   "source": [
    "### Survived＝１がSurvived＝０よりも大きい場合は\n",
    "#### ・Pclass＝１\n",
    "#### ・Sex＝female\n",
    "#### ・Age_Cat＝child\n",
    "#### ・Fare_Cat＝very_high\n",
    "#### ・Embarked＝C\n",
    "#### ・Family_Size＝medium"
   ]
  },
  {
   "cell_type": "markdown",
   "id": "ffe46e9d-54e4-45ea-8404-c9d4f0f4428b",
   "metadata": {},
   "source": [
    "# 7)特徴量の選択"
   ]
  },
  {
   "cell_type": "code",
   "execution_count": 53,
   "id": "a123f4ce-07b0-4696-827c-19be8eb33884",
   "metadata": {},
   "outputs": [
    {
     "data": {
      "text/plain": [
       "Index(['Pclass', 'Sex', 'Age', 'Ticket', 'Fare', 'Embarked', 'Prefix',\n",
       "       'Age_Cat', 'Fare_Cat', 'Family', 'Family_Size'],\n",
       "      dtype='object')"
      ]
     },
     "execution_count": 53,
     "metadata": {},
     "output_type": "execute_result"
    }
   ],
   "source": [
    "X.columns"
   ]
  },
  {
   "cell_type": "code",
   "execution_count": 54,
   "id": "616aaeaa-a035-47a6-97ee-0beb4a6e731f",
   "metadata": {},
   "outputs": [],
   "source": [
    "# 分類モデルのためのカラムを選択する。\n",
    "X = X[['Age', 'Pclass', 'Sex', 'Family_Size']]\n",
    "X_test = X_test[['Age', 'Pclass', 'Sex', 'Family_Size']]"
   ]
  },
  {
   "cell_type": "code",
   "execution_count": 55,
   "id": "f7054b1a-0b34-42f2-b9c5-fd931c15d468",
   "metadata": {},
   "outputs": [],
   "source": [
    "# 数値カラムを選択する。\n",
    "numerical_cols = [cname for cname in X.columns\n",
    "                  if X[cname].dtype in ['int64', 'float64']]"
   ]
  },
  {
   "cell_type": "code",
   "execution_count": 56,
   "id": "a7c2e33b-49a5-415d-ae25-024e52edbf98",
   "metadata": {},
   "outputs": [],
   "source": [
    "# カーディナリティが低いカラムを選択する。\n",
    "categorical_cols = [cname for cname in X.columns\n",
    "                    if X[cname].nunique() < 10 and\n",
    "                    X[cname].dtype in [\"object\", \"category\"]]"
   ]
  },
  {
   "cell_type": "code",
   "execution_count": 57,
   "id": "52e2fe2e-61c5-4aa1-9bc9-ff8cb004fc26",
   "metadata": {},
   "outputs": [],
   "source": [
    "my_cols = numerical_cols + categorical_cols\n",
    "X = X[my_cols]\n",
    "X_test = X_test[my_cols]"
   ]
  },
  {
   "cell_type": "code",
   "execution_count": 58,
   "id": "7204b2a8-b0a5-421c-8497-dd9a28a2ed06",
   "metadata": {},
   "outputs": [
    {
     "name": "stdout",
     "output_type": "stream",
     "text": [
      "['Age', 'Pclass', 'Sex', 'Family_Size']\n"
     ]
    }
   ],
   "source": [
    "print(my_cols)"
   ]
  },
  {
   "cell_type": "markdown",
   "id": "caeeb30d-1cfe-4c76-8c8b-d214780bcfc6",
   "metadata": {},
   "source": [
    "## 回帰モデルを学習させる最終的なXとX_test"
   ]
  },
  {
   "cell_type": "code",
   "execution_count": 59,
   "id": "31a9fdfc-1006-4ff8-a965-1db52b99cb44",
   "metadata": {},
   "outputs": [
    {
     "name": "stdout",
     "output_type": "stream",
     "text": [
      "2 2\n"
     ]
    }
   ],
   "source": [
    "print(len(categorical_cols), len(numerical_cols))"
   ]
  },
  {
   "cell_type": "code",
   "execution_count": 60,
   "id": "bc5fe325-c942-43a9-83a1-b3f8c94479ef",
   "metadata": {},
   "outputs": [
    {
     "data": {
      "text/html": [
       "<div>\n",
       "<style scoped>\n",
       "    .dataframe tbody tr th:only-of-type {\n",
       "        vertical-align: middle;\n",
       "    }\n",
       "\n",
       "    .dataframe tbody tr th {\n",
       "        vertical-align: top;\n",
       "    }\n",
       "\n",
       "    .dataframe thead th {\n",
       "        text-align: right;\n",
       "    }\n",
       "</style>\n",
       "<table border=\"1\" class=\"dataframe\">\n",
       "  <thead>\n",
       "    <tr style=\"text-align: right;\">\n",
       "      <th></th>\n",
       "      <th>Age</th>\n",
       "      <th>Pclass</th>\n",
       "      <th>Sex</th>\n",
       "      <th>Family_Size</th>\n",
       "    </tr>\n",
       "    <tr>\n",
       "      <th>PassengerId</th>\n",
       "      <th></th>\n",
       "      <th></th>\n",
       "      <th></th>\n",
       "      <th></th>\n",
       "    </tr>\n",
       "  </thead>\n",
       "  <tbody>\n",
       "    <tr>\n",
       "      <th>892</th>\n",
       "      <td>34.5</td>\n",
       "      <td>3</td>\n",
       "      <td>male</td>\n",
       "      <td>alone</td>\n",
       "    </tr>\n",
       "    <tr>\n",
       "      <th>893</th>\n",
       "      <td>47.0</td>\n",
       "      <td>3</td>\n",
       "      <td>female</td>\n",
       "      <td>medium</td>\n",
       "    </tr>\n",
       "    <tr>\n",
       "      <th>894</th>\n",
       "      <td>62.0</td>\n",
       "      <td>2</td>\n",
       "      <td>male</td>\n",
       "      <td>alone</td>\n",
       "    </tr>\n",
       "    <tr>\n",
       "      <th>895</th>\n",
       "      <td>27.0</td>\n",
       "      <td>3</td>\n",
       "      <td>male</td>\n",
       "      <td>alone</td>\n",
       "    </tr>\n",
       "    <tr>\n",
       "      <th>896</th>\n",
       "      <td>22.0</td>\n",
       "      <td>3</td>\n",
       "      <td>female</td>\n",
       "      <td>medium</td>\n",
       "    </tr>\n",
       "  </tbody>\n",
       "</table>\n",
       "</div>"
      ],
      "text/plain": [
       "              Age  Pclass     Sex Family_Size\n",
       "PassengerId                                  \n",
       "892          34.5       3    male       alone\n",
       "893          47.0       3  female      medium\n",
       "894          62.0       2    male       alone\n",
       "895          27.0       3    male       alone\n",
       "896          22.0       3  female      medium"
      ]
     },
     "execution_count": 60,
     "metadata": {},
     "output_type": "execute_result"
    }
   ],
   "source": [
    "X_test.head()"
   ]
  },
  {
   "cell_type": "code",
   "execution_count": 61,
   "id": "f1bf7311-a1a3-4d70-8ab0-df7878a0de2f",
   "metadata": {},
   "outputs": [
    {
     "name": "stdout",
     "output_type": "stream",
     "text": [
      "Number of Columns with different Data Types:\n",
      "\n",
      "          X  X_test\n",
      "float64   1       1\n",
      "int64     1       1\n",
      "object    1       1\n",
      "category  1       1 \n",
      "\n"
     ]
    },
    {
     "data": {
      "text/html": [
       "<div>\n",
       "<style scoped>\n",
       "    .dataframe tbody tr th:only-of-type {\n",
       "        vertical-align: middle;\n",
       "    }\n",
       "\n",
       "    .dataframe tbody tr th {\n",
       "        vertical-align: top;\n",
       "    }\n",
       "\n",
       "    .dataframe thead th {\n",
       "        text-align: right;\n",
       "    }\n",
       "</style>\n",
       "<table border=\"1\" class=\"dataframe\">\n",
       "  <thead>\n",
       "    <tr style=\"text-align: right;\">\n",
       "      <th></th>\n",
       "      <th>Dtype</th>\n",
       "      <th>Unique_X</th>\n",
       "      <th>Unique_X_test</th>\n",
       "      <th>Null_X</th>\n",
       "      <th>Null_X_test</th>\n",
       "    </tr>\n",
       "  </thead>\n",
       "  <tbody>\n",
       "    <tr>\n",
       "      <th>Age</th>\n",
       "      <td>float64</td>\n",
       "      <td>88</td>\n",
       "      <td>79</td>\n",
       "      <td>0</td>\n",
       "      <td>0</td>\n",
       "    </tr>\n",
       "    <tr>\n",
       "      <th>Pclass</th>\n",
       "      <td>int64</td>\n",
       "      <td>3</td>\n",
       "      <td>3</td>\n",
       "      <td>0</td>\n",
       "      <td>0</td>\n",
       "    </tr>\n",
       "    <tr>\n",
       "      <th>Sex</th>\n",
       "      <td>object</td>\n",
       "      <td>2</td>\n",
       "      <td>2</td>\n",
       "      <td>0</td>\n",
       "      <td>0</td>\n",
       "    </tr>\n",
       "    <tr>\n",
       "      <th>Family_Size</th>\n",
       "      <td>category</td>\n",
       "      <td>3</td>\n",
       "      <td>3</td>\n",
       "      <td>0</td>\n",
       "      <td>0</td>\n",
       "    </tr>\n",
       "  </tbody>\n",
       "</table>\n",
       "</div>"
      ],
      "text/plain": [
       "                Dtype  Unique_X  Unique_X_test  Null_X  Null_X_test\n",
       "Age           float64        88             79       0            0\n",
       "Pclass          int64         3              3       0            0\n",
       "Sex            object         2              2       0            0\n",
       "Family_Size  category         3              3       0            0"
      ]
     },
     "execution_count": 61,
     "metadata": {},
     "output_type": "execute_result"
    }
   ],
   "source": [
    "show_info(X, X_test)\n",
    "# show_info()・・・"
   ]
  },
  {
   "cell_type": "markdown",
   "id": "5873832a-9525-4559-aa94-9f91a57c6d3b",
   "metadata": {},
   "source": [
    "# 8)モデル構築"
   ]
  },
  {
   "cell_type": "markdown",
   "id": "9ecd0d50-35af-4763-8196-4191738d41ba",
   "metadata": {},
   "source": [
    "## 前処理パイプライン"
   ]
  },
  {
   "cell_type": "code",
   "execution_count": 62,
   "id": "48c1c7e7-4677-4965-b931-4b303b00c07d",
   "metadata": {},
   "outputs": [],
   "source": [
    "# 数値データの前処理\n",
    "numerical_transformer = SimpleImputer(strategy='median')\n",
    "# 【scikit-learn】SimpleImputer・・・デフォルト値は、欠損値に各属性の平均値を置き換える設定となっている。\n",
    "# └strategy・・・統計値の種類。(median=中央値）"
   ]
  },
  {
   "cell_type": "code",
   "execution_count": 63,
   "id": "6f4c7ae1-8a8b-40c2-a831-10cdc8bf5181",
   "metadata": {},
   "outputs": [],
   "source": [
    "# カテゴリデータの前処理\n",
    "categorical_transformer = Pipeline(steps=[\n",
    "    ('imputer', SimpleImputer(strategy='most_frequent')),\n",
    "    ('onehot', OneHotEncoder(handle_unknown='ignore'))\n",
    "])\n",
    "# One Hot Encoding・・・カテゴリ変数に対する最も代表的なハンドリング方法。カテゴリ変数の各水準に対して、その水準化どうかを表す0,1の2値変数をそれぞれ作成する。\n",
    "# hundle_unknown='ignore'・・・未知のクラスの場合はその特徴量のクラスベクトルが全て0になる。デフォルトは'error'で、未知のクラスに遭遇するとエラーを返す。"
   ]
  },
  {
   "cell_type": "code",
   "execution_count": 64,
   "id": "0b97a9a7-ea6b-4536-9641-1f5cd9b771dc",
   "metadata": {},
   "outputs": [],
   "source": [
    "# 数値データおよびカテゴリデータのバンドル前処理\n",
    "preprocessor = ColumnTransformer(\n",
    "    transformers=[\n",
    "        ('num', numerical_transformer, numerical_cols),\n",
    "        ('cat', categorical_transformer, categorical_cols)\n",
    "    ])\n",
    "# ColumnTransfomer・・・カラム毎に異なるtransfomersを適用する。"
   ]
  },
  {
   "cell_type": "markdown",
   "id": "01d2456b-0c6e-419a-8399-fcf3237a2b10",
   "metadata": {},
   "source": [
    "## Model Pipeline"
   ]
  },
  {
   "cell_type": "code",
   "execution_count": 65,
   "id": "c74d9766-ccc4-4467-bbdc-9d307e3be78d",
   "metadata": {},
   "outputs": [],
   "source": [
    "xgb = XGBClassifier()\n",
    "\n",
    "classifier = Pipeline(steps=[('preprocessor', preprocessor),\n",
    "                             ('model', xgb)\n",
    "                             ])\n",
    "\n",
    "# pipelineモジュール・・・transformerとestimatorを組み合わせて、機械学習パイプラインを構築するためのAPI\n",
    "# └いくつかの前処理を実行しているような場合にも、fitやpredictをパイプラインに対して一度だけ呼べばよく、便利になる。\n",
    "# └パイプラインに対して、grid searchする際、パラメータを一度に指定でき、利便性が高い。\n",
    "# └transformerとestimatorに同じデータが使われるため、Cross Vaidationの際にデータがリークする不具合を防げる。"
   ]
  },
  {
   "cell_type": "markdown",
   "id": "cf3da05e-3b23-416f-ac6d-6007b5574c1b",
   "metadata": {},
   "source": [
    "## Visualize Pipeline"
   ]
  },
  {
   "cell_type": "code",
   "execution_count": 66,
   "id": "75ed5506-8e45-4370-8095-8d745cd23627",
   "metadata": {},
   "outputs": [
    {
     "data": {
      "text/html": [
       "<style>#sk-container-id-1 {color: black;background-color: white;}#sk-container-id-1 pre{padding: 0;}#sk-container-id-1 div.sk-toggleable {background-color: white;}#sk-container-id-1 label.sk-toggleable__label {cursor: pointer;display: block;width: 100%;margin-bottom: 0;padding: 0.3em;box-sizing: border-box;text-align: center;}#sk-container-id-1 label.sk-toggleable__label-arrow:before {content: \"▸\";float: left;margin-right: 0.25em;color: #696969;}#sk-container-id-1 label.sk-toggleable__label-arrow:hover:before {color: black;}#sk-container-id-1 div.sk-estimator:hover label.sk-toggleable__label-arrow:before {color: black;}#sk-container-id-1 div.sk-toggleable__content {max-height: 0;max-width: 0;overflow: hidden;text-align: left;background-color: #f0f8ff;}#sk-container-id-1 div.sk-toggleable__content pre {margin: 0.2em;color: black;border-radius: 0.25em;background-color: #f0f8ff;}#sk-container-id-1 input.sk-toggleable__control:checked~div.sk-toggleable__content {max-height: 200px;max-width: 100%;overflow: auto;}#sk-container-id-1 input.sk-toggleable__control:checked~label.sk-toggleable__label-arrow:before {content: \"▾\";}#sk-container-id-1 div.sk-estimator input.sk-toggleable__control:checked~label.sk-toggleable__label {background-color: #d4ebff;}#sk-container-id-1 div.sk-label input.sk-toggleable__control:checked~label.sk-toggleable__label {background-color: #d4ebff;}#sk-container-id-1 input.sk-hidden--visually {border: 0;clip: rect(1px 1px 1px 1px);clip: rect(1px, 1px, 1px, 1px);height: 1px;margin: -1px;overflow: hidden;padding: 0;position: absolute;width: 1px;}#sk-container-id-1 div.sk-estimator {font-family: monospace;background-color: #f0f8ff;border: 1px dotted black;border-radius: 0.25em;box-sizing: border-box;margin-bottom: 0.5em;}#sk-container-id-1 div.sk-estimator:hover {background-color: #d4ebff;}#sk-container-id-1 div.sk-parallel-item::after {content: \"\";width: 100%;border-bottom: 1px solid gray;flex-grow: 1;}#sk-container-id-1 div.sk-label:hover label.sk-toggleable__label {background-color: #d4ebff;}#sk-container-id-1 div.sk-serial::before {content: \"\";position: absolute;border-left: 1px solid gray;box-sizing: border-box;top: 0;bottom: 0;left: 50%;z-index: 0;}#sk-container-id-1 div.sk-serial {display: flex;flex-direction: column;align-items: center;background-color: white;padding-right: 0.2em;padding-left: 0.2em;position: relative;}#sk-container-id-1 div.sk-item {position: relative;z-index: 1;}#sk-container-id-1 div.sk-parallel {display: flex;align-items: stretch;justify-content: center;background-color: white;position: relative;}#sk-container-id-1 div.sk-item::before, #sk-container-id-1 div.sk-parallel-item::before {content: \"\";position: absolute;border-left: 1px solid gray;box-sizing: border-box;top: 0;bottom: 0;left: 50%;z-index: -1;}#sk-container-id-1 div.sk-parallel-item {display: flex;flex-direction: column;z-index: 1;position: relative;background-color: white;}#sk-container-id-1 div.sk-parallel-item:first-child::after {align-self: flex-end;width: 50%;}#sk-container-id-1 div.sk-parallel-item:last-child::after {align-self: flex-start;width: 50%;}#sk-container-id-1 div.sk-parallel-item:only-child::after {width: 0;}#sk-container-id-1 div.sk-dashed-wrapped {border: 1px dashed gray;margin: 0 0.4em 0.5em 0.4em;box-sizing: border-box;padding-bottom: 0.4em;background-color: white;}#sk-container-id-1 div.sk-label label {font-family: monospace;font-weight: bold;display: inline-block;line-height: 1.2em;}#sk-container-id-1 div.sk-label-container {text-align: center;}#sk-container-id-1 div.sk-container {/* jupyter's `normalize.less` sets `[hidden] { display: none; }` but bootstrap.min.css set `[hidden] { display: none !important; }` so we also need the `!important` here to be able to override the default hidden behavior on the sphinx rendered scikit-learn.org. See: https://github.com/scikit-learn/scikit-learn/issues/21755 */display: inline-block !important;position: relative;}#sk-container-id-1 div.sk-text-repr-fallback {display: none;}</style><div id=\"sk-container-id-1\" class=\"sk-top-container\"><div class=\"sk-text-repr-fallback\"><pre>Pipeline(steps=[(&#x27;preprocessor&#x27;,\n",
       "                 ColumnTransformer(transformers=[(&#x27;num&#x27;,\n",
       "                                                  SimpleImputer(strategy=&#x27;median&#x27;),\n",
       "                                                  [&#x27;Age&#x27;, &#x27;Pclass&#x27;]),\n",
       "                                                 (&#x27;cat&#x27;,\n",
       "                                                  Pipeline(steps=[(&#x27;imputer&#x27;,\n",
       "                                                                   SimpleImputer(strategy=&#x27;most_frequent&#x27;)),\n",
       "                                                                  (&#x27;onehot&#x27;,\n",
       "                                                                   OneHotEncoder(handle_unknown=&#x27;ignore&#x27;))]),\n",
       "                                                  [&#x27;Sex&#x27;, &#x27;Family_Size&#x27;])])),\n",
       "                (&#x27;model&#x27;,\n",
       "                 XGBClassifier(base_score=None, booster=None, callbacks=None,\n",
       "                               colsampl...\n",
       "                               gamma=None, gpu_id=None, grow_policy=None,\n",
       "                               importance_type=None,\n",
       "                               interaction_constraints=None, learning_rate=None,\n",
       "                               max_bin=None, max_cat_to_onehot=None,\n",
       "                               max_delta_step=None, max_depth=None,\n",
       "                               max_leaves=None, min_child_weight=None,\n",
       "                               missing=nan, monotone_constraints=None,\n",
       "                               n_estimators=100, n_jobs=None,\n",
       "                               num_parallel_tree=None, predictor=None,\n",
       "                               random_state=None, reg_alpha=None,\n",
       "                               reg_lambda=None, ...))])</pre><b>In a Jupyter environment, please rerun this cell to show the HTML representation or trust the notebook. <br />On GitHub, the HTML representation is unable to render, please try loading this page with nbviewer.org.</b></div><div class=\"sk-container\" hidden><div class=\"sk-item sk-dashed-wrapped\"><div class=\"sk-label-container\"><div class=\"sk-label sk-toggleable\"><input class=\"sk-toggleable__control sk-hidden--visually\" id=\"sk-estimator-id-1\" type=\"checkbox\" ><label for=\"sk-estimator-id-1\" class=\"sk-toggleable__label sk-toggleable__label-arrow\">Pipeline</label><div class=\"sk-toggleable__content\"><pre>Pipeline(steps=[(&#x27;preprocessor&#x27;,\n",
       "                 ColumnTransformer(transformers=[(&#x27;num&#x27;,\n",
       "                                                  SimpleImputer(strategy=&#x27;median&#x27;),\n",
       "                                                  [&#x27;Age&#x27;, &#x27;Pclass&#x27;]),\n",
       "                                                 (&#x27;cat&#x27;,\n",
       "                                                  Pipeline(steps=[(&#x27;imputer&#x27;,\n",
       "                                                                   SimpleImputer(strategy=&#x27;most_frequent&#x27;)),\n",
       "                                                                  (&#x27;onehot&#x27;,\n",
       "                                                                   OneHotEncoder(handle_unknown=&#x27;ignore&#x27;))]),\n",
       "                                                  [&#x27;Sex&#x27;, &#x27;Family_Size&#x27;])])),\n",
       "                (&#x27;model&#x27;,\n",
       "                 XGBClassifier(base_score=None, booster=None, callbacks=None,\n",
       "                               colsampl...\n",
       "                               gamma=None, gpu_id=None, grow_policy=None,\n",
       "                               importance_type=None,\n",
       "                               interaction_constraints=None, learning_rate=None,\n",
       "                               max_bin=None, max_cat_to_onehot=None,\n",
       "                               max_delta_step=None, max_depth=None,\n",
       "                               max_leaves=None, min_child_weight=None,\n",
       "                               missing=nan, monotone_constraints=None,\n",
       "                               n_estimators=100, n_jobs=None,\n",
       "                               num_parallel_tree=None, predictor=None,\n",
       "                               random_state=None, reg_alpha=None,\n",
       "                               reg_lambda=None, ...))])</pre></div></div></div><div class=\"sk-serial\"><div class=\"sk-item sk-dashed-wrapped\"><div class=\"sk-label-container\"><div class=\"sk-label sk-toggleable\"><input class=\"sk-toggleable__control sk-hidden--visually\" id=\"sk-estimator-id-2\" type=\"checkbox\" ><label for=\"sk-estimator-id-2\" class=\"sk-toggleable__label sk-toggleable__label-arrow\">preprocessor: ColumnTransformer</label><div class=\"sk-toggleable__content\"><pre>ColumnTransformer(transformers=[(&#x27;num&#x27;, SimpleImputer(strategy=&#x27;median&#x27;),\n",
       "                                 [&#x27;Age&#x27;, &#x27;Pclass&#x27;]),\n",
       "                                (&#x27;cat&#x27;,\n",
       "                                 Pipeline(steps=[(&#x27;imputer&#x27;,\n",
       "                                                  SimpleImputer(strategy=&#x27;most_frequent&#x27;)),\n",
       "                                                 (&#x27;onehot&#x27;,\n",
       "                                                  OneHotEncoder(handle_unknown=&#x27;ignore&#x27;))]),\n",
       "                                 [&#x27;Sex&#x27;, &#x27;Family_Size&#x27;])])</pre></div></div></div><div class=\"sk-parallel\"><div class=\"sk-parallel-item\"><div class=\"sk-item\"><div class=\"sk-label-container\"><div class=\"sk-label sk-toggleable\"><input class=\"sk-toggleable__control sk-hidden--visually\" id=\"sk-estimator-id-3\" type=\"checkbox\" ><label for=\"sk-estimator-id-3\" class=\"sk-toggleable__label sk-toggleable__label-arrow\">num</label><div class=\"sk-toggleable__content\"><pre>[&#x27;Age&#x27;, &#x27;Pclass&#x27;]</pre></div></div></div><div class=\"sk-serial\"><div class=\"sk-item\"><div class=\"sk-estimator sk-toggleable\"><input class=\"sk-toggleable__control sk-hidden--visually\" id=\"sk-estimator-id-4\" type=\"checkbox\" ><label for=\"sk-estimator-id-4\" class=\"sk-toggleable__label sk-toggleable__label-arrow\">SimpleImputer</label><div class=\"sk-toggleable__content\"><pre>SimpleImputer(strategy=&#x27;median&#x27;)</pre></div></div></div></div></div></div><div class=\"sk-parallel-item\"><div class=\"sk-item\"><div class=\"sk-label-container\"><div class=\"sk-label sk-toggleable\"><input class=\"sk-toggleable__control sk-hidden--visually\" id=\"sk-estimator-id-5\" type=\"checkbox\" ><label for=\"sk-estimator-id-5\" class=\"sk-toggleable__label sk-toggleable__label-arrow\">cat</label><div class=\"sk-toggleable__content\"><pre>[&#x27;Sex&#x27;, &#x27;Family_Size&#x27;]</pre></div></div></div><div class=\"sk-serial\"><div class=\"sk-item\"><div class=\"sk-serial\"><div class=\"sk-item\"><div class=\"sk-estimator sk-toggleable\"><input class=\"sk-toggleable__control sk-hidden--visually\" id=\"sk-estimator-id-6\" type=\"checkbox\" ><label for=\"sk-estimator-id-6\" class=\"sk-toggleable__label sk-toggleable__label-arrow\">SimpleImputer</label><div class=\"sk-toggleable__content\"><pre>SimpleImputer(strategy=&#x27;most_frequent&#x27;)</pre></div></div></div><div class=\"sk-item\"><div class=\"sk-estimator sk-toggleable\"><input class=\"sk-toggleable__control sk-hidden--visually\" id=\"sk-estimator-id-7\" type=\"checkbox\" ><label for=\"sk-estimator-id-7\" class=\"sk-toggleable__label sk-toggleable__label-arrow\">OneHotEncoder</label><div class=\"sk-toggleable__content\"><pre>OneHotEncoder(handle_unknown=&#x27;ignore&#x27;)</pre></div></div></div></div></div></div></div></div></div></div><div class=\"sk-item\"><div class=\"sk-estimator sk-toggleable\"><input class=\"sk-toggleable__control sk-hidden--visually\" id=\"sk-estimator-id-8\" type=\"checkbox\" ><label for=\"sk-estimator-id-8\" class=\"sk-toggleable__label sk-toggleable__label-arrow\">XGBClassifier</label><div class=\"sk-toggleable__content\"><pre>XGBClassifier(base_score=None, booster=None, callbacks=None,\n",
       "              colsample_bylevel=None, colsample_bynode=None,\n",
       "              colsample_bytree=None, early_stopping_rounds=None,\n",
       "              enable_categorical=False, eval_metric=None, gamma=None,\n",
       "              gpu_id=None, grow_policy=None, importance_type=None,\n",
       "              interaction_constraints=None, learning_rate=None, max_bin=None,\n",
       "              max_cat_to_onehot=None, max_delta_step=None, max_depth=None,\n",
       "              max_leaves=None, min_child_weight=None, missing=nan,\n",
       "              monotone_constraints=None, n_estimators=100, n_jobs=None,\n",
       "              num_parallel_tree=None, predictor=None, random_state=None,\n",
       "              reg_alpha=None, reg_lambda=None, ...)</pre></div></div></div></div></div></div></div>"
      ],
      "text/plain": [
       "Pipeline(steps=[('preprocessor',\n",
       "                 ColumnTransformer(transformers=[('num',\n",
       "                                                  SimpleImputer(strategy='median'),\n",
       "                                                  ['Age', 'Pclass']),\n",
       "                                                 ('cat',\n",
       "                                                  Pipeline(steps=[('imputer',\n",
       "                                                                   SimpleImputer(strategy='most_frequent')),\n",
       "                                                                  ('onehot',\n",
       "                                                                   OneHotEncoder(handle_unknown='ignore'))]),\n",
       "                                                  ['Sex', 'Family_Size'])])),\n",
       "                ('model',\n",
       "                 XGBClassifier(base_score=None, booster=None, callbacks=None,\n",
       "                               colsampl...\n",
       "                               gamma=None, gpu_id=None, grow_policy=None,\n",
       "                               importance_type=None,\n",
       "                               interaction_constraints=None, learning_rate=None,\n",
       "                               max_bin=None, max_cat_to_onehot=None,\n",
       "                               max_delta_step=None, max_depth=None,\n",
       "                               max_leaves=None, min_child_weight=None,\n",
       "                               missing=nan, monotone_constraints=None,\n",
       "                               n_estimators=100, n_jobs=None,\n",
       "                               num_parallel_tree=None, predictor=None,\n",
       "                               random_state=None, reg_alpha=None,\n",
       "                               reg_lambda=None, ...))])"
      ]
     },
     "execution_count": 66,
     "metadata": {},
     "output_type": "execute_result"
    }
   ],
   "source": [
    "from sklearn import set_config\n",
    "set_config(display='diagram')\n",
    "classifier"
   ]
  },
  {
   "cell_type": "markdown",
   "id": "4d554d68-e812-4c88-bd4c-211ee3b63ee6",
   "metadata": {},
   "source": [
    "# 9)トレーニングモデルとテストモデル"
   ]
  },
  {
   "cell_type": "markdown",
   "id": "37bbfef1-6fb5-460d-8b62-f6d5cd890bf7",
   "metadata": {},
   "source": [
    "###　グリッドリサーチ & クロスバリデーション"
   ]
  },
  {
   "cell_type": "code",
   "execution_count": 67,
   "id": "1b012f3e-0aca-4503-84b4-beea3c7d27e3",
   "metadata": {},
   "outputs": [
    {
     "name": "stdout",
     "output_type": "stream",
     "text": [
      "Fitting 3 folds for each of 18 candidates, totalling 54 fits\n"
     ]
    }
   ],
   "source": [
    "param_grid = [\n",
    "    {\n",
    "        \"model__reg_lambda\": [50],\n",
    "        \"model__subsample\": [0.7,1],\n",
    "        \"model__learning_rate\": [0.4],\n",
    "        \"model__n_estimators\": [5, 10, 20],\n",
    "        \"model__max_depth\": [3, 4, 5]\n",
    "    }\n",
    "]\n",
    "grid_search = GridSearchCV(classifier, param_grid, cv=3, verbose=1)\n",
    "grid_search.fit(X, y);\n",
    "\n",
    "# グリッドサーチ・・・探索対象のパラメータ候補を列挙し、そのすべての組み合わせから照らし合わせ、最適な組み合わせを見つけ出す手法。\n",
    "# GridSearchCVのパラメータ。\n",
    "# 第一引数（今回はclassifier)は使用したいアルゴリズムのインスタンスをおく。\n",
    "# └param_grid:パラメタ候補値を「パラメタ名、候補リスト」の辞書で与える。\n",
    "# └cv:Cross Validationの分散数（デフォルト値は３）\n",
    "# └verbose:ログ出力レベル\n",
    "\n",
    "# fit()で学習、predict()で予測。（scikit-learn)"
   ]
  },
  {
   "cell_type": "code",
   "execution_count": 68,
   "id": "7ea3199d-ca17-4907-bb58-54330b439002",
   "metadata": {},
   "outputs": [
    {
     "name": "stdout",
     "output_type": "stream",
     "text": [
      "Best params:/t{'model__learning_rate': 0.4, 'model__max_depth': 3, 'model__n_estimators': 10, 'model__reg_lambda': 50, 'model__subsample': 1}\n",
      "\n",
      "Best score in grind search:\t0.82\n",
      "Score on whole trained data:\t0.826\n"
     ]
    }
   ],
   "source": [
    "print(\"Best params:\", grid_search.best_params_, sep='/t', end='\\n\\n')\n",
    "print(\"Best score in grind search:\", round(grid_search.best_score_, 3), sep='\\t')\n",
    "print(\"Score on whole trained data:\",round(grid_search.score(X, y),3),sep='\\t')"
   ]
  },
  {
   "cell_type": "code",
   "execution_count": 69,
   "id": "1b6ec53b-9497-4f1c-b458-f25dc28e3162",
   "metadata": {},
   "outputs": [
    {
     "data": {
      "text/html": [
       "<div>\n",
       "<style scoped>\n",
       "    .dataframe tbody tr th:only-of-type {\n",
       "        vertical-align: middle;\n",
       "    }\n",
       "\n",
       "    .dataframe tbody tr th {\n",
       "        vertical-align: top;\n",
       "    }\n",
       "\n",
       "    .dataframe thead th {\n",
       "        text-align: right;\n",
       "    }\n",
       "</style>\n",
       "<table border=\"1\" class=\"dataframe\">\n",
       "  <thead>\n",
       "    <tr style=\"text-align: right;\">\n",
       "      <th></th>\n",
       "      <th>mean_fit_time</th>\n",
       "      <th>std_fit_time</th>\n",
       "      <th>mean_score_time</th>\n",
       "      <th>std_score_time</th>\n",
       "      <th>param_model__learning_rate</th>\n",
       "      <th>param_model__max_depth</th>\n",
       "      <th>param_model__n_estimators</th>\n",
       "      <th>param_model__reg_lambda</th>\n",
       "      <th>param_model__subsample</th>\n",
       "      <th>params</th>\n",
       "      <th>split0_test_score</th>\n",
       "      <th>split1_test_score</th>\n",
       "      <th>split2_test_score</th>\n",
       "      <th>mean_test_score</th>\n",
       "      <th>std_test_score</th>\n",
       "      <th>rank_test_score</th>\n",
       "    </tr>\n",
       "  </thead>\n",
       "  <tbody>\n",
       "    <tr>\n",
       "      <th>3</th>\n",
       "      <td>0.041086</td>\n",
       "      <td>0.009604</td>\n",
       "      <td>0.018121</td>\n",
       "      <td>0.001764</td>\n",
       "      <td>0.4</td>\n",
       "      <td>3</td>\n",
       "      <td>10</td>\n",
       "      <td>50</td>\n",
       "      <td>1</td>\n",
       "      <td>{'model__learning_rate': 0.4, 'model__max_dept...</td>\n",
       "      <td>0.811448</td>\n",
       "      <td>0.835017</td>\n",
       "      <td>0.814815</td>\n",
       "      <td>0.820426</td>\n",
       "      <td>0.010408</td>\n",
       "      <td>1</td>\n",
       "    </tr>\n",
       "    <tr>\n",
       "      <th>4</th>\n",
       "      <td>0.077996</td>\n",
       "      <td>0.045032</td>\n",
       "      <td>0.015672</td>\n",
       "      <td>0.001769</td>\n",
       "      <td>0.4</td>\n",
       "      <td>3</td>\n",
       "      <td>20</td>\n",
       "      <td>50</td>\n",
       "      <td>0.7</td>\n",
       "      <td>{'model__learning_rate': 0.4, 'model__max_dept...</td>\n",
       "      <td>0.801347</td>\n",
       "      <td>0.831650</td>\n",
       "      <td>0.814815</td>\n",
       "      <td>0.815937</td>\n",
       "      <td>0.012397</td>\n",
       "      <td>2</td>\n",
       "    </tr>\n",
       "    <tr>\n",
       "      <th>11</th>\n",
       "      <td>0.075799</td>\n",
       "      <td>0.011924</td>\n",
       "      <td>0.016556</td>\n",
       "      <td>0.000474</td>\n",
       "      <td>0.4</td>\n",
       "      <td>4</td>\n",
       "      <td>20</td>\n",
       "      <td>50</td>\n",
       "      <td>1</td>\n",
       "      <td>{'model__learning_rate': 0.4, 'model__max_dept...</td>\n",
       "      <td>0.787879</td>\n",
       "      <td>0.831650</td>\n",
       "      <td>0.821549</td>\n",
       "      <td>0.813692</td>\n",
       "      <td>0.018713</td>\n",
       "      <td>3</td>\n",
       "    </tr>\n",
       "    <tr>\n",
       "      <th>1</th>\n",
       "      <td>0.028779</td>\n",
       "      <td>0.006048</td>\n",
       "      <td>0.013732</td>\n",
       "      <td>0.001280</td>\n",
       "      <td>0.4</td>\n",
       "      <td>3</td>\n",
       "      <td>5</td>\n",
       "      <td>50</td>\n",
       "      <td>1</td>\n",
       "      <td>{'model__learning_rate': 0.4, 'model__max_dept...</td>\n",
       "      <td>0.811448</td>\n",
       "      <td>0.811448</td>\n",
       "      <td>0.814815</td>\n",
       "      <td>0.812570</td>\n",
       "      <td>0.001587</td>\n",
       "      <td>4</td>\n",
       "    </tr>\n",
       "    <tr>\n",
       "      <th>7</th>\n",
       "      <td>0.023961</td>\n",
       "      <td>0.000621</td>\n",
       "      <td>0.012174</td>\n",
       "      <td>0.000399</td>\n",
       "      <td>0.4</td>\n",
       "      <td>4</td>\n",
       "      <td>5</td>\n",
       "      <td>50</td>\n",
       "      <td>1</td>\n",
       "      <td>{'model__learning_rate': 0.4, 'model__max_dept...</td>\n",
       "      <td>0.808081</td>\n",
       "      <td>0.818182</td>\n",
       "      <td>0.811448</td>\n",
       "      <td>0.812570</td>\n",
       "      <td>0.004199</td>\n",
       "      <td>4</td>\n",
       "    </tr>\n",
       "  </tbody>\n",
       "</table>\n",
       "</div>"
      ],
      "text/plain": [
       "    mean_fit_time  std_fit_time  mean_score_time  std_score_time  \\\n",
       "3        0.041086      0.009604         0.018121        0.001764   \n",
       "4        0.077996      0.045032         0.015672        0.001769   \n",
       "11       0.075799      0.011924         0.016556        0.000474   \n",
       "1        0.028779      0.006048         0.013732        0.001280   \n",
       "7        0.023961      0.000621         0.012174        0.000399   \n",
       "\n",
       "   param_model__learning_rate param_model__max_depth  \\\n",
       "3                         0.4                      3   \n",
       "4                         0.4                      3   \n",
       "11                        0.4                      4   \n",
       "1                         0.4                      3   \n",
       "7                         0.4                      4   \n",
       "\n",
       "   param_model__n_estimators param_model__reg_lambda param_model__subsample  \\\n",
       "3                         10                      50                      1   \n",
       "4                         20                      50                    0.7   \n",
       "11                        20                      50                      1   \n",
       "1                          5                      50                      1   \n",
       "7                          5                      50                      1   \n",
       "\n",
       "                                               params  split0_test_score  \\\n",
       "3   {'model__learning_rate': 0.4, 'model__max_dept...           0.811448   \n",
       "4   {'model__learning_rate': 0.4, 'model__max_dept...           0.801347   \n",
       "11  {'model__learning_rate': 0.4, 'model__max_dept...           0.787879   \n",
       "1   {'model__learning_rate': 0.4, 'model__max_dept...           0.811448   \n",
       "7   {'model__learning_rate': 0.4, 'model__max_dept...           0.808081   \n",
       "\n",
       "    split1_test_score  split2_test_score  mean_test_score  std_test_score  \\\n",
       "3            0.835017           0.814815         0.820426        0.010408   \n",
       "4            0.831650           0.814815         0.815937        0.012397   \n",
       "11           0.831650           0.821549         0.813692        0.018713   \n",
       "1            0.811448           0.814815         0.812570        0.001587   \n",
       "7            0.818182           0.811448         0.812570        0.004199   \n",
       "\n",
       "    rank_test_score  \n",
       "3                 1  \n",
       "4                 2  \n",
       "11                3  \n",
       "1                 4  \n",
       "7                 4  "
      ]
     },
     "metadata": {},
     "output_type": "display_data"
    }
   ],
   "source": [
    "# パラメータコンビネーションTop５\n",
    "df = pd.DataFrame(grid_search.cv_results_)\n",
    "display(df.sort_values('rank_test_score')[:5])\n",
    "# cv_results_属性・・・各パラメータ毎の学習結果を確認することができる。\n",
    "# sort_values()・・・要素の値に応じてソートする。\n",
    "# displayがDataFrame形式のレイアウトを保持してくれる。DataFrame特有のレイアウトで表示したい時は、printではなくdisplayを使うと良い。"
   ]
  },
  {
   "cell_type": "markdown",
   "id": "b2460813-f2e2-4f11-b368-65db34ad9249",
   "metadata": {},
   "source": [
    "## 特徴量の重要度"
   ]
  },
  {
   "cell_type": "code",
   "execution_count": 70,
   "id": "8d7bb11b-ce93-4944-9b13-5c95c332e215",
   "metadata": {},
   "outputs": [
    {
     "data": {
      "text/plain": [
       "array([0.07271594, 0.08572008, 0.776088  , 0.        , 0.01490091,\n",
       "       0.02322893, 0.02734616], dtype=float32)"
      ]
     },
     "execution_count": 70,
     "metadata": {},
     "output_type": "execute_result"
    }
   ],
   "source": [
    "Feature_Imp = grid_search.best_estimator_.named_steps[\"model\"].feature_importances_\n",
    "Feature_Imp"
   ]
  },
  {
   "cell_type": "code",
   "execution_count": 71,
   "id": "39ccb436-03fe-4236-93d2-3efd6a63338e",
   "metadata": {},
   "outputs": [],
   "source": [
    "# 学習済データに対するyの予測\n",
    "y_pred = grid_search.predict(X)\n",
    "\n",
    "# y_predを配列からDataFrameに変換し、適切なインデックスとカラム名を付与する。\n",
    "y_pred = pd.DataFrame(y_pred, index=X.index, columns=['Survived_Predicted'])"
   ]
  },
  {
   "cell_type": "code",
   "execution_count": 72,
   "id": "ddf85607-70ed-4637-a00b-9f35bf437adf",
   "metadata": {},
   "outputs": [
    {
     "data": {
      "text/html": [
       "<div>\n",
       "<style scoped>\n",
       "    .dataframe tbody tr th:only-of-type {\n",
       "        vertical-align: middle;\n",
       "    }\n",
       "\n",
       "    .dataframe tbody tr th {\n",
       "        vertical-align: top;\n",
       "    }\n",
       "\n",
       "    .dataframe thead th {\n",
       "        text-align: right;\n",
       "    }\n",
       "</style>\n",
       "<table border=\"1\" class=\"dataframe\">\n",
       "  <thead>\n",
       "    <tr style=\"text-align: right;\">\n",
       "      <th></th>\n",
       "      <th>Age</th>\n",
       "      <th>Pclass</th>\n",
       "      <th>Sex</th>\n",
       "      <th>Family_Size</th>\n",
       "      <th>Survived</th>\n",
       "      <th>Survived_Predicted</th>\n",
       "    </tr>\n",
       "    <tr>\n",
       "      <th>PassengerId</th>\n",
       "      <th></th>\n",
       "      <th></th>\n",
       "      <th></th>\n",
       "      <th></th>\n",
       "      <th></th>\n",
       "      <th></th>\n",
       "    </tr>\n",
       "  </thead>\n",
       "  <tbody>\n",
       "    <tr>\n",
       "      <th>1</th>\n",
       "      <td>22.0</td>\n",
       "      <td>3</td>\n",
       "      <td>male</td>\n",
       "      <td>medium</td>\n",
       "      <td>0</td>\n",
       "      <td>0</td>\n",
       "    </tr>\n",
       "    <tr>\n",
       "      <th>2</th>\n",
       "      <td>38.0</td>\n",
       "      <td>1</td>\n",
       "      <td>female</td>\n",
       "      <td>medium</td>\n",
       "      <td>1</td>\n",
       "      <td>1</td>\n",
       "    </tr>\n",
       "  </tbody>\n",
       "</table>\n",
       "</div>"
      ],
      "text/plain": [
       "              Age  Pclass     Sex Family_Size  Survived  Survived_Predicted\n",
       "PassengerId                                                                \n",
       "1            22.0       3    male      medium         0                   0\n",
       "2            38.0       1  female      medium         1                   1"
      ]
     },
     "execution_count": 72,
     "metadata": {},
     "output_type": "execute_result"
    }
   ],
   "source": [
    "Xyy = pd.concat([X, y, y_pred], axis=1)\n",
    "Xyy.head(2)\n",
    "# concat・・・DataFrameやSiriesを連結する。axis=0は縦方向に連結され、axis=1は横方向に連結される。"
   ]
  },
  {
   "cell_type": "code",
   "execution_count": 73,
   "id": "5ec4f25c-e008-4786-b75b-4fcf248badb8",
   "metadata": {},
   "outputs": [
    {
     "data": {
      "text/html": [
       "<div>\n",
       "<style scoped>\n",
       "    .dataframe tbody tr th:only-of-type {\n",
       "        vertical-align: middle;\n",
       "    }\n",
       "\n",
       "    .dataframe tbody tr th {\n",
       "        vertical-align: top;\n",
       "    }\n",
       "\n",
       "    .dataframe thead th {\n",
       "        text-align: right;\n",
       "    }\n",
       "</style>\n",
       "<table border=\"1\" class=\"dataframe\">\n",
       "  <thead>\n",
       "    <tr style=\"text-align: right;\">\n",
       "      <th></th>\n",
       "      <th>Age</th>\n",
       "      <th>Pclass</th>\n",
       "      <th>Sex_female</th>\n",
       "      <th>Sex_male</th>\n",
       "      <th>Family_alone</th>\n",
       "      <th>Family_large</th>\n",
       "      <th>Family_medium</th>\n",
       "    </tr>\n",
       "  </thead>\n",
       "  <tbody>\n",
       "    <tr>\n",
       "      <th>0</th>\n",
       "      <td>22.0</td>\n",
       "      <td>3.0</td>\n",
       "      <td>0.0</td>\n",
       "      <td>1.0</td>\n",
       "      <td>0.0</td>\n",
       "      <td>0.0</td>\n",
       "      <td>1.0</td>\n",
       "    </tr>\n",
       "    <tr>\n",
       "      <th>1</th>\n",
       "      <td>38.0</td>\n",
       "      <td>1.0</td>\n",
       "      <td>1.0</td>\n",
       "      <td>0.0</td>\n",
       "      <td>0.0</td>\n",
       "      <td>0.0</td>\n",
       "      <td>1.0</td>\n",
       "    </tr>\n",
       "  </tbody>\n",
       "</table>\n",
       "</div>"
      ],
      "text/plain": [
       "    Age  Pclass  Sex_female  Sex_male  Family_alone  Family_large  \\\n",
       "0  22.0     3.0         0.0       1.0           0.0           0.0   \n",
       "1  38.0     1.0         1.0       0.0           0.0           0.0   \n",
       "\n",
       "   Family_medium  \n",
       "0            1.0  \n",
       "1            1.0  "
      ]
     },
     "execution_count": 73,
     "metadata": {},
     "output_type": "execute_result"
    }
   ],
   "source": [
    "# パイプラインを用いた前処理（ImputedとOneHotCoded)されたトレーニングデータとテストデータ\n",
    "column_values = ['Age','Pclass','Sex_female','Sex_male','Family_alone','Family_large','Family_medium']\n",
    "X_processed = pd.DataFrame(grid_search.best_estimator_.named_steps[\"preprocessor\"].transform(X), columns=column_values)\n",
    "X_processed.head(2)"
   ]
  },
  {
   "cell_type": "code",
   "execution_count": 74,
   "id": "99893656-c88b-4dc1-b53f-375cdedd0da0",
   "metadata": {},
   "outputs": [
    {
     "data": {
      "image/png": "[encoded data removed]",
      "text/plain": [
       "<Figure size 640x480 with 1 Axes>"
      ]
     },
     "metadata": {},
     "output_type": "display_data"
    }
   ],
   "source": [
    "ax = pd.Series(Feature_Imp, X_processed.columns).sort_values(ascending=True).plot.barh(width=0.8)\n",
    "ax.set_title('Feature Importance in XgBoost')\n",
    "plt.show()"
   ]
  },
  {
   "cell_type": "markdown",
   "id": "59ad69a7-a32a-4a4c-91f8-eeadccb0b3ad",
   "metadata": {},
   "source": [
    "#### Sex_maleが、学習済XGBoostモデルにおいて重要性がゼロであることが分かる。(同じ情報がSex_femaleで伝達されるため。）"
   ]
  },
  {
   "cell_type": "markdown",
   "id": "ed7ca114-2936-42a2-a412-03d8ddccd162",
   "metadata": {},
   "source": [
    "## コンフュージョンマトリックス（学習データ用）。"
   ]
  },
  {
   "cell_type": "code",
   "execution_count": 75,
   "id": "b68e157a-924c-4bfe-8e29-64e47bb73789",
   "metadata": {},
   "outputs": [],
   "source": [
    "# Credit: 'https://medium.com/@dtuk81/confusion-matrix-visualization-fc31e3f30fea'\n",
    "cm = confusion_matrix(y, y_pred)\n",
    "\n",
    "group_names = ['True Neg','False Pos','False Neg','True Pos']\n",
    "group_counts = ['{0:0.0f}'.format(value) for value in cm.flatten()]\n",
    "group_percentages = ['{0:.2%}'.format(value) for value in cm.flatten()/np.sum(cm)]\n",
    "\n",
    "labels = [f'{v1}\\n{v2}\\n{v3}' for v1, v2, v3 in zip(group_names,group_counts,group_percentages)]\n",
    "labels = np.asarray(labels).reshape(2,2)\n",
    "\n",
    "ax = sns.heatmap(cm, annot=labels, fmt='', cmap='Blues', cbar=False, xticklabels=['0','1'], yticklabels=['0','1'])\n",
    "ax.set(ylabel=\"Actual y\", xlabel=\"Predicted y\");"
   ]
  },
  {
   "cell_type": "markdown",
   "id": "2e8a720f-1096-49ee-a13c-f9b6efd0e04b",
   "metadata": {},
   "source": [
    "# 分類レポート（学習データ用）"
   ]
  },
  {
   "cell_type": "code",
   "execution_count": 76,
   "id": "0d97df77-c9b4-4e57-a2d5-5597ce26b291",
   "metadata": {},
   "outputs": [
    {
     "name": "stdout",
     "output_type": "stream",
     "text": [
      "              precision    recall  f1-score   support\n",
      "\n",
      "           0       0.83      0.90      0.86       549\n",
      "           1       0.81      0.71      0.76       342\n",
      "\n",
      "    accuracy                           0.83       891\n",
      "   macro avg       0.82      0.80      0.81       891\n",
      "weighted avg       0.83      0.83      0.82       891\n",
      "\n"
     ]
    }
   ],
   "source": [
    "print(classification_report(y, y_pred))\n",
    "# classification_report・・・正解ラベル列と予測ラベル列を入力すると、precision, recall, F1score, accuracy, マクロ平均, マイクロ平均を算出してくれる。"
   ]
  },
  {
   "cell_type": "code",
   "execution_count": 77,
   "id": "fc7a6db7-5515-49da-8607-58d1427ba215",
   "metadata": {},
   "outputs": [
    {
     "name": "stdout",
     "output_type": "stream",
     "text": [
      "Accuracy Score : 0.826\n",
      "Precision Score : 0.813\n",
      "Recall Score : 0.711\n",
      "F1 Score : 0.758\n"
     ]
    }
   ],
   "source": [
    "# モデル評価指標\n",
    "print('Accuracy Score : ' + str(accuracy_score(y,y_pred).round(3)))\n",
    "print('Precision Score : ' + str(precision_score(y,y_pred).round(3)))\n",
    "print('Recall Score : ' + str(recall_score(y,y_pred).round(3)))\n",
    "print('F1 Score : ' + str(f1_score(y,y_pred).round(3)))"
   ]
  },
  {
   "cell_type": "markdown",
   "id": "d7772f29-5bb9-476a-be46-8395e74f47d7",
   "metadata": {},
   "source": [
    "# 10)yを予測する"
   ]
  },
  {
   "cell_type": "code",
   "execution_count": 78,
   "id": "87a133cb-8165-4086-a9fd-9b313ea5e325",
   "metadata": {},
   "outputs": [],
   "source": [
    "# テストの予測値を生成\n",
    "y_test_pred = grid_search.predict(X_test)\n",
    "\n",
    "# y_predを配列からDataFrameに変換し、適切なインデックスとカラム名を付与する。\n",
    "y_test_pred = pd.DataFrame(y_test_pred, index=X_test.index, columns=['Survived_Predicted'])"
   ]
  },
  {
   "cell_type": "code",
   "execution_count": 79,
   "id": "864258f6-4842-4a26-8f81-4641304252bc",
   "metadata": {},
   "outputs": [
    {
     "data": {
      "text/html": [
       "<div>\n",
       "<style scoped>\n",
       "    .dataframe tbody tr th:only-of-type {\n",
       "        vertical-align: middle;\n",
       "    }\n",
       "\n",
       "    .dataframe tbody tr th {\n",
       "        vertical-align: top;\n",
       "    }\n",
       "\n",
       "    .dataframe thead th {\n",
       "        text-align: right;\n",
       "    }\n",
       "</style>\n",
       "<table border=\"1\" class=\"dataframe\">\n",
       "  <thead>\n",
       "    <tr style=\"text-align: right;\">\n",
       "      <th></th>\n",
       "      <th>Age</th>\n",
       "      <th>Pclass</th>\n",
       "      <th>Sex</th>\n",
       "      <th>Family_Size</th>\n",
       "      <th>Survived_Predicted</th>\n",
       "    </tr>\n",
       "    <tr>\n",
       "      <th>PassengerId</th>\n",
       "      <th></th>\n",
       "      <th></th>\n",
       "      <th></th>\n",
       "      <th></th>\n",
       "      <th></th>\n",
       "    </tr>\n",
       "  </thead>\n",
       "  <tbody>\n",
       "    <tr>\n",
       "      <th>892</th>\n",
       "      <td>34.5</td>\n",
       "      <td>3</td>\n",
       "      <td>male</td>\n",
       "      <td>alone</td>\n",
       "      <td>0</td>\n",
       "    </tr>\n",
       "    <tr>\n",
       "      <th>893</th>\n",
       "      <td>47.0</td>\n",
       "      <td>3</td>\n",
       "      <td>female</td>\n",
       "      <td>medium</td>\n",
       "      <td>1</td>\n",
       "    </tr>\n",
       "  </tbody>\n",
       "</table>\n",
       "</div>"
      ],
      "text/plain": [
       "              Age  Pclass     Sex Family_Size  Survived_Predicted\n",
       "PassengerId                                                      \n",
       "892          34.5       3    male       alone                   0\n",
       "893          47.0       3  female      medium                   1"
      ]
     },
     "execution_count": 79,
     "metadata": {},
     "output_type": "execute_result"
    }
   ],
   "source": [
    "#　特徴量と予測対象でテストデータを確認\n",
    "Xy_test = pd.concat([X_test,y_test_pred],axis=1)\n",
    "Xy_test.head(2)"
   ]
  },
  {
   "cell_type": "code",
   "execution_count": 80,
   "id": "73422076-aaeb-4af4-aee2-8127b4e3b9f0",
   "metadata": {},
   "outputs": [],
   "source": [
    "# Save output to CSV file\n",
    "output = pd.DataFrame({'PassengerId': X_test.index,\n",
    "                       'Survived': y_test_pred.Survived_Predicted})\n",
    "output.to_csv('submission.csv', index=False)"
   ]
  },
  {
   "cell_type": "code",
   "execution_count": 81,
   "id": "8486a0f0-cc9b-4f92-b0cf-709aa0001556",
   "metadata": {},
   "outputs": [
    {
     "data": {
      "text/html": [
       "<div>\n",
       "<style scoped>\n",
       "    .dataframe tbody tr th:only-of-type {\n",
       "        vertical-align: middle;\n",
       "    }\n",
       "\n",
       "    .dataframe tbody tr th {\n",
       "        vertical-align: top;\n",
       "    }\n",
       "\n",
       "    .dataframe thead th {\n",
       "        text-align: right;\n",
       "    }\n",
       "</style>\n",
       "<table border=\"1\" class=\"dataframe\">\n",
       "  <thead>\n",
       "    <tr style=\"text-align: right;\">\n",
       "      <th></th>\n",
       "      <th>PassengerId</th>\n",
       "      <th>Survived</th>\n",
       "    </tr>\n",
       "  </thead>\n",
       "  <tbody>\n",
       "    <tr>\n",
       "      <th>0</th>\n",
       "      <td>892</td>\n",
       "      <td>0</td>\n",
       "    </tr>\n",
       "    <tr>\n",
       "      <th>1</th>\n",
       "      <td>893</td>\n",
       "      <td>1</td>\n",
       "    </tr>\n",
       "  </tbody>\n",
       "</table>\n",
       "</div>"
      ],
      "text/plain": [
       "   PassengerId  Survived\n",
       "0          892         0\n",
       "1          893         1"
      ]
     },
     "execution_count": 81,
     "metadata": {},
     "output_type": "execute_result"
    }
   ],
   "source": [
    "# Submit results\n",
    "submission_data = pd.read_csv(\"submission.csv\")\n",
    "submission_data.head(2)"
   ]
  }
 ],
 "metadata": {
  "kernelspec": {
   "display_name": "Python 3 (ipykernel)",
   "language": "python",
   "name": "python3"
  },
  "language_info": {
   "codemirror_mode": {
    "name": "ipython",
    "version": 3
   },
   "file_extension": ".py",
   "mimetype": "text/x-python",
   "name": "python",
   "nbconvert_exporter": "python",
   "pygments_lexer": "ipython3",
   "version": "3.8.5"
  },
  "toc-autonumbering": false
 },
 "nbformat": 4,
 "nbformat_minor": 5
}
