{
 "cells": [
  {
   "cell_type": "markdown",
   "id": "eed9c8e9-d5bf-4aaf-8b83-a5e0cf719124",
   "metadata": {},
   "source": [
    "# Inport Data Analytics Libraries"
   ]
  },
  {
   "cell_type": "code",
   "execution_count": 1,
   "id": "fb988c29-0d20-4d13-b846-7b5a56b2e2a9",
   "metadata": {},
   "outputs": [],
   "source": [
    "import numpy as np\n",
    "import pandas as pd\n",
    "import matplotlib.pyplot as plt\n",
    "import seaborn as sns\n",
    "from scipy import stats\n",
    "import scipy.stats\n",
    "from math import ceil"
   ]
  },
  {
   "cell_type": "markdown",
   "id": "cba389a3-8228-4416-8951-b6dbe09cbc7e",
   "metadata": {},
   "source": [
    "# Import Machine Learning Liblaries"
   ]
  },
  {
   "cell_type": "code",
   "execution_count": null,
   "id": "48b0c516-95a2-4372-9d1a-665742c9a5e0",
   "metadata": {},
   "outputs": [],
   "source": [
    "import numpy as np\n",
    "import pandas as pd\n",
    "import matplotlib.pyplot as plt\n",
    "import seaborn as sns\n",
    "from scipy import stats\n",
    "import scipy.stats\n",
    "from math import ceil"
   ]
  },
  {
   "cell_type": "code",
   "execution_count": null,
   "id": "deb66bc2-c7ff-4c2f-85d4-caf4689af008",
   "metadata": {},
   "outputs": [],
   "source": []
  }
 ],
 "metadata": {
  "kernelspec": {
   "display_name": "Python 3 (ipykernel)",
   "language": "python",
   "name": "python3"
  },
  "language_info": {
   "codemirror_mode": {
    "name": "ipython",
    "version": 3
   },
   "file_extension": ".py",
   "mimetype": "text/x-python",
   "name": "python",
   "nbconvert_exporter": "python",
   "pygments_lexer": "ipython3",
   "version": "3.8.5"
  }
 },
 "nbformat": 4,
 "nbformat_minor": 5
}
